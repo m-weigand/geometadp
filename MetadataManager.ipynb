{
 "cells": [
  {
   "cell_type": "code",
   "execution_count": null,
   "metadata": {
    "iooxa": {
     "id": {
      "block": "brg8k3qvLFy1e52iAWWy",
      "project": "yTaXFIm6WUSKXnm1tgFK",
      "version": 1
     },
     "outputId": {
      "block": "plYXzslUCCNqTO4LxsL2",
      "project": "yTaXFIm6WUSKXnm1tgFK",
      "version": 1
     }
    },
    "scrolled": true,
    "slideshow": {
     "slide_type": "skip"
    }
   },
   "outputs": [
    {
     "data": {
      "text/html": [
       "<script>Jupyter.notebook.kernel.restart()</script>"
      ]
     },
     "metadata": {},
     "output_type": "display_data"
    }
   ],
   "source": [
    "from IPython.display import display_html\n",
    "def restartkernel() :\n",
    "    display_html(\"<script>Jupyter.notebook.kernel.restart()</script>\",raw=True)\n",
    "restartkernel()"
   ]
  },
  {
   "cell_type": "code",
   "execution_count": null,
   "metadata": {
    "slideshow": {
     "slide_type": "skip"
    }
   },
   "outputs": [],
   "source": []
  },
  {
   "cell_type": "markdown",
   "metadata": {
    "iooxa": {
     "id": {
      "block": "70I2wvHSiaYMIaqMihXM",
      "project": "jCH2ECjXuEJLCErejFMt",
      "version": 1
     }
    },
    "slideshow": {
     "slide_type": "slide"
    }
   },
   "source": [
    "### Full metadata manager (still under dev)\n",
    "developement of a json import fct (see below)"
   ]
  },
  {
   "cell_type": "code",
   "execution_count": 1,
   "metadata": {
    "iooxa": {
     "id": {
      "block": "tgDrDmu16OyIErTjo1Rw",
      "project": "jCH2ECjXuEJLCErejFMt",
      "version": 1
     },
     "outputId": {
      "block": "Gw8i9hn2nhnU5qiQCUqI",
      "project": "jCH2ECjXuEJLCErejFMt",
      "version": 1
     }
    },
    "slideshow": {
     "slide_type": "slide"
    }
   },
   "outputs": [
    {
     "data": {
      "application/vnd.jupyter.widget-view+json": {
       "model_id": "a99d927d1d344ae4b3d80f10c2f08020",
       "version_major": 2,
       "version_minor": 0
      },
      "text/plain": [
       "Tab(children=(VBox(children=(VBox(children=(VBox(children=(Image(value=b'\\x89PNG\\r\\n\\x1a\\n\\x00\\x00\\x00\\rIHDR\\x…"
      ]
     },
     "metadata": {},
     "output_type": "display_data"
    }
   ],
   "source": [
    "from lib.geometadp import md_manager\n",
    "obj = md_manager.geo_metadata()\n",
    "obj.manage()"
   ]
  },
  {
   "cell_type": "markdown",
   "metadata": {
    "iooxa": {
     "id": {
      "block": "CALfu1ygCncLathSh4lE",
      "project": "jCH2ECjXuEJLCErejFMt",
      "version": 1
     }
    },
    "slideshow": {
     "slide_type": "slide"
    }
   },
   "source": [
    "### Trial with Json import\n",
    "\n",
    "The idea is to propose Json formatted templates for the users to prefill the metadata. Another benefit of this approach would be to avoid to fill again in case of multiple datasets to document.\n",
    "\n",
    "I use the Json file located in the same folder namely 'json2import.json'"
   ]
  },
  {
   "cell_type": "code",
   "execution_count": 1,
   "metadata": {
    "iooxa": {
     "id": {
      "block": "DyTyo3ADDD83RAbUAXjV",
      "project": "jCH2ECjXuEJLCErejFMt",
      "version": 1
     },
     "outputId": {
      "block": "h5RF9BDTPtOm7woacTMy",
      "project": "jCH2ECjXuEJLCErejFMt",
      "version": 1
     }
    },
    "slideshow": {
     "slide_type": "slide"
    }
   },
   "outputs": [
    {
     "data": {
      "application/vnd.jupyter.widget-view+json": {
       "model_id": "62abfece561242d991aa57bac8bac1ca",
       "version_major": 2,
       "version_minor": 0
      },
      "text/plain": [
       "Tab(children=(VBox(children=(VBox(children=(HTML(value='<h2>upload json file<h2/>'), HTML(value='\\n        Rep…"
      ]
     },
     "metadata": {},
     "output_type": "display_data"
    },
    {
     "name": "stdout",
     "output_type": "stream",
     "text": [
      "Upload file\n",
      "{\n",
      "    \"method\": \"Geoelectrical - sEIT\",\n",
      "    \"measurement_type\": \"laboratory\",\n",
      "    \"report_title\": \"short title\",\n",
      "    \"report_authors\": \"Benjamin M\",\n",
      "    \"owner\": \"B.M\",\n",
      "    \"instrument\": \"Syscal Pro\",\n",
      "    \"data_dir\": \"E:/Padova/Z_Database/geometadp/TestData/01_Syscal\"\n",
      "}\n"
     ]
    }
   ],
   "source": [
    "import IPython\n",
    "%gui qt\n",
    "#from lib.geometadp import md_manager\n",
    "from lib.geometadp import test_upload\n",
    "obj = test_upload.geo_metadata()\n",
    "obj.manage()"
   ]
  },
  {
   "cell_type": "markdown",
   "metadata": {
    "slideshow": {
     "slide_type": "notes"
    }
   },
   "source": []
  },
  {
   "cell_type": "code",
   "execution_count": null,
   "metadata": {
    "slideshow": {
     "slide_type": "skip"
    }
   },
   "outputs": [],
   "source": []
  },
  {
   "cell_type": "code",
   "execution_count": null,
   "metadata": {
    "slideshow": {
     "slide_type": "skip"
    }
   },
   "outputs": [],
   "source": []
  }
 ],
 "metadata": {
  "celltoolbar": "Diaporama",
  "iooxa": {
   "id": {
    "block": "sm00MeUvlyoC4vKgoOyh",
    "project": "jCH2ECjXuEJLCErejFMt",
    "version": 1
   }
  },
  "kernelspec": {
   "display_name": "Python 3",
   "language": "python",
   "name": "python3"
  },
  "language_info": {
   "codemirror_mode": {
    "name": "ipython",
    "version": 3
   },
   "file_extension": ".py",
   "mimetype": "text/x-python",
   "name": "python",
   "nbconvert_exporter": "python",
   "pygments_lexer": "ipython3",
   "version": "3.8.5"
  }
 },
 "nbformat": 4,
 "nbformat_minor": 4
}
