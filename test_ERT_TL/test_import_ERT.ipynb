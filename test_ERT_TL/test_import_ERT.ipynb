{
 "cells": [
  {
   "cell_type": "code",
   "execution_count": 5,
   "metadata": {},
   "outputs": [],
   "source": [
    "# import .dat with REDA\n",
    "# !pip install resipy\n",
    "#!conda install pygimli\n",
    "import os"
   ]
  },
  {
   "cell_type": "code",
   "execution_count": 6,
   "metadata": {},
   "outputs": [
    {
     "name": "stdout",
     "output_type": "stream",
     "text": [
      "C:\\Users\\Benjamin\\Documents\\Z_Database\\geometadp\\test_ERT_TL\n",
      "generating ids\n",
      "assigning ids\n",
      "32\n",
      "ert.electrode_positions\n",
      "generating ids\n",
      "assigning ids\n",
      "generating ids\n",
      "assigning ids\n",
      "       a   b   m   n           R       err    id norrec\n",
      "516    1   4   2   3  1429.71400  0.707158    39    nor\n",
      "1187   2   3   1   4  1419.60900  0.000000    39    rec\n",
      "671    3   4   1   2  -848.24160  0.668376    79    rec\n",
      "0      1   2   3   4  -840.13740  0.222768    79    nor\n",
      "517    2   5   3   4  2690.40400  0.646390    80    nor\n",
      "...   ..  ..  ..  ..         ...       ...   ...    ...\n",
      "1184  31  32  27  28   -75.23542 -0.001577  1339    rec\n",
      "1185  31  32  28  29  -300.13240  0.164835  1340    rec\n",
      "514   28  29  31  32  -309.10790  1.041551  1340    nor\n",
      "515   29  30  31  32  -791.96620  4.183934  1341    nor\n",
      "1186  31  32  29  30  -793.22690  0.425602  1341    rec\n",
      "\n",
      "[1342 rows x 8 columns]\n",
      "(1342, 3)\n",
      "0\n",
      "1\n",
      "2\n",
      "(1342, 3)\n"
     ]
    }
   ],
   "source": [
    "import reda\n",
    "import os\n",
    "import pandas as pd\n",
    "import numpy as np\n",
    "\n",
    "ert = reda.ERT()\n",
    "print(os.getcwd())\n",
    "\n",
    "ert.import_pygimli('ERT_TL_Garre_new/20180612_18H00_20480000_1909.dat')\n",
    "\n",
    "if hasattr(ert.data, 'chargeability'):\n",
    "    print('ch')\n",
    "    \n",
    "print(len(ert.electrode_positions))\n",
    "if len(ert.electrode_positions)>0:\n",
    "    print('ert.electrode_positions')\n",
    "    \n",
    "df0 = ert.data\n",
    "\n",
    "ert1 = reda.ERT()\n",
    "ert1.import_pygimli('ERT_TL_Garre_new/20180613_01H00_19970222_1920.dat')\n",
    "df1 = ert1.data\n",
    "\n",
    "ert2 = reda.ERT()\n",
    "ert2.import_pygimli('ERT_TL_Garre_new/20180613_07H00_19970222_1918.dat')\n",
    "df2 = ert2.data\n",
    "\n",
    "time =  pd.date_range(\"2018-06-13\", periods=3)\n",
    "reference_time = pd.Timestamp(\"2018-06-13\")\n",
    "lat = ert.electrode_positions['X']\n",
    "lon = ert.electrode_positions['Z']\n",
    "R = ert.data['R']\n",
    "\n",
    "print(df0)\n",
    "Rs= np.zeros([len(R),len(time)])\n",
    "print(Rs.shape)\n",
    "for i in range(3):\n",
    "    df_name = 'df' + str(i)\n",
    "    print(i)\n",
    "    Rs[:,i]= eval(df_name  + str(['R']))\n",
    "    \n",
    "print(Rs.shape)"
   ]
  },
  {
   "cell_type": "code",
   "execution_count": 7,
   "metadata": {},
   "outputs": [
    {
     "data": {
      "application/vnd.jupyter.widget-view+json": {
       "model_id": "c32ebdf8c15f4301b20d348f108e5de5",
       "version_major": 2,
       "version_minor": 0
      },
      "text/plain": [
       "interactive(children=(Dropdown(description='x', options=('a', 'b', 'm', 'n', 'R', 'err', 'id'), value='a'), Dr…"
      ]
     },
     "metadata": {},
     "output_type": "display_data"
    },
    {
     "ename": "NameError",
     "evalue": "name 'fig' is not defined",
     "output_type": "error",
     "traceback": [
      "\u001b[1;31m---------------------------------------------------------------------------\u001b[0m",
      "\u001b[1;31mNameError\u001b[0m                                 Traceback (most recent call last)",
      "\u001b[1;32m<ipython-input-7-39a92d6c8cfc>\u001b[0m in \u001b[0;36m<module>\u001b[1;34m\u001b[0m\n\u001b[0;32m     17\u001b[0m         \u001b[0mdisplay\u001b[0m\u001b[1;33m(\u001b[0m\u001b[0mfig\u001b[0m\u001b[1;33m)\u001b[0m\u001b[1;33m\u001b[0m\u001b[1;33m\u001b[0m\u001b[0m\n\u001b[0;32m     18\u001b[0m \u001b[1;33m\u001b[0m\u001b[0m\n\u001b[1;32m---> 19\u001b[1;33m \u001b[0mdisplay\u001b[0m\u001b[1;33m(\u001b[0m\u001b[0mfig\u001b[0m\u001b[1;33m)\u001b[0m\u001b[1;33m\u001b[0m\u001b[1;33m\u001b[0m\u001b[0m\n\u001b[0m\u001b[0;32m     20\u001b[0m \u001b[1;33m\u001b[0m\u001b[0m\n\u001b[0;32m     21\u001b[0m \u001b[1;33m\u001b[0m\u001b[0m\n",
      "\u001b[1;31mNameError\u001b[0m: name 'fig' is not defined"
     ]
    }
   ],
   "source": [
    "# https://towardsdatascience.com/interactive-controls-for-jupyter-notebooks-f5c94829aee6\n",
    "#! pip install cufflinks\n",
    "import cufflinks as cf\n",
    "from ipywidgets import interact, interact_manual\n",
    "df = df1\n",
    "\n",
    "@interact\n",
    "def scatter_plot(x=list(df.select_dtypes('number').columns), \n",
    "                 y=list(df.select_dtypes('number').columns)[1:],\n",
    "                 theme=list(cf.themes.THEMES.keys()), \n",
    "                 colorscale=list(cf.colors._scales_names.keys())):\n",
    "    \n",
    "    fig = df.iplot(kind='scatter', x=x, y=y, mode='markers', \n",
    "             theme=theme, colorscale=colorscale)\n",
    "    \n",
    "    with output:\n",
    "        display(fig) \n",
    "\n",
    "display(fig) \n",
    "\n",
    "        "
   ]
  },
  {
   "cell_type": "code",
   "execution_count": null,
   "metadata": {},
   "outputs": [],
   "source": [
    "import pygimli as pg\n",
    "\n",
    "data = pg.load('./ERT_TL_Garre_new/20180612_18H00_20480000_1909.dat')\n",
    "pg.show(data)\n"
   ]
  },
  {
   "cell_type": "code",
   "execution_count": 3,
   "metadata": {},
   "outputs": [
    {
     "name": "stdout",
     "output_type": "stream",
     "text": [
      "API path =  C:\\Users\\Benjamin\\Anaconda3\\lib\\site-packages\\resipy\n",
      "ResIPy version =  3.3.1\n",
      "cR2.exe found and up to date.\n",
      "R3t.exe found and up to date.\n",
      "cR3t.exe found and up to date.\n",
      "Working directory is: C:\\Users\\Benjamin\\Anaconda3\\lib\\site-packages\\resipy\n",
      "clearing dirname\n"
     ]
    },
    {
     "ename": "KeyError",
     "evalue": "'vp'",
     "output_type": "error",
     "traceback": [
      "\u001b[1;31m---------------------------------------------------------------------------\u001b[0m",
      "\u001b[1;31mKeyError\u001b[0m                                  Traceback (most recent call last)",
      "\u001b[1;32m~\\Anaconda3\\lib\\site-packages\\pandas\\core\\indexes\\base.py\u001b[0m in \u001b[0;36mget_loc\u001b[1;34m(self, key, method, tolerance)\u001b[0m\n\u001b[0;32m   2894\u001b[0m             \u001b[1;32mtry\u001b[0m\u001b[1;33m:\u001b[0m\u001b[1;33m\u001b[0m\u001b[1;33m\u001b[0m\u001b[0m\n\u001b[1;32m-> 2895\u001b[1;33m                 \u001b[1;32mreturn\u001b[0m \u001b[0mself\u001b[0m\u001b[1;33m.\u001b[0m\u001b[0m_engine\u001b[0m\u001b[1;33m.\u001b[0m\u001b[0mget_loc\u001b[0m\u001b[1;33m(\u001b[0m\u001b[0mcasted_key\u001b[0m\u001b[1;33m)\u001b[0m\u001b[1;33m\u001b[0m\u001b[1;33m\u001b[0m\u001b[0m\n\u001b[0m\u001b[0;32m   2896\u001b[0m             \u001b[1;32mexcept\u001b[0m \u001b[0mKeyError\u001b[0m \u001b[1;32mas\u001b[0m \u001b[0merr\u001b[0m\u001b[1;33m:\u001b[0m\u001b[1;33m\u001b[0m\u001b[1;33m\u001b[0m\u001b[0m\n",
      "\u001b[1;32mpandas\\_libs\\index.pyx\u001b[0m in \u001b[0;36mpandas._libs.index.IndexEngine.get_loc\u001b[1;34m()\u001b[0m\n",
      "\u001b[1;32mpandas\\_libs\\index.pyx\u001b[0m in \u001b[0;36mpandas._libs.index.IndexEngine.get_loc\u001b[1;34m()\u001b[0m\n",
      "\u001b[1;32mpandas\\_libs\\hashtable_class_helper.pxi\u001b[0m in \u001b[0;36mpandas._libs.hashtable.PyObjectHashTable.get_item\u001b[1;34m()\u001b[0m\n",
      "\u001b[1;32mpandas\\_libs\\hashtable_class_helper.pxi\u001b[0m in \u001b[0;36mpandas._libs.hashtable.PyObjectHashTable.get_item\u001b[1;34m()\u001b[0m\n",
      "\u001b[1;31mKeyError\u001b[0m: 'vp'",
      "\nThe above exception was the direct cause of the following exception:\n",
      "\u001b[1;31mKeyError\u001b[0m                                  Traceback (most recent call last)",
      "\u001b[1;32m<ipython-input-3-4916f80fa8a1>\u001b[0m in \u001b[0;36m<module>\u001b[1;34m\u001b[0m\n\u001b[0;32m      3\u001b[0m \u001b[0mtestdir\u001b[0m \u001b[1;33m=\u001b[0m \u001b[0mos\u001b[0m\u001b[1;33m.\u001b[0m\u001b[0mgetcwd\u001b[0m\u001b[1;33m(\u001b[0m\u001b[1;33m)\u001b[0m\u001b[1;33m\u001b[0m\u001b[1;33m\u001b[0m\u001b[0m\n\u001b[0;32m      4\u001b[0m \u001b[0mtestdir\u001b[0m \u001b[1;33m+\u001b[0m \u001b[1;34m'\\\\ERT_TL_Garre_new\\\\20180612_18H00_20480000_1909.dat'\u001b[0m\u001b[1;33m\u001b[0m\u001b[1;33m\u001b[0m\u001b[0m\n\u001b[1;32m----> 5\u001b[1;33m \u001b[0mk\u001b[0m\u001b[1;33m.\u001b[0m\u001b[0mcreateSurvey\u001b[0m\u001b[1;33m(\u001b[0m\u001b[0mtestdir\u001b[0m \u001b[1;33m+\u001b[0m \u001b[1;34m'\\\\ERT_TL_Garre_new\\\\20180612_18H00_20480000_1909.dat'\u001b[0m\u001b[1;33m)\u001b[0m \u001b[1;31m# read the survey file\u001b[0m\u001b[1;33m\u001b[0m\u001b[1;33m\u001b[0m\u001b[0m\n\u001b[0m\u001b[0;32m      6\u001b[0m \u001b[1;33m\u001b[0m\u001b[0m\n",
      "\u001b[1;32m~\\Anaconda3\\lib\\site-packages\\resipy\\Project.py\u001b[0m in \u001b[0;36mcreateSurvey\u001b[1;34m(self, fname, ftype, info, spacing, parser, debug, **kwargs)\u001b[0m\n\u001b[0;32m   1017\u001b[0m         \u001b[1;33m**\u001b[0m\u001b[0mkwargs\u001b[0m\u001b[1;33m:\u001b[0m \u001b[0mKeyword\u001b[0m \u001b[0marguments\u001b[0m \u001b[0mto\u001b[0m \u001b[0mbe\u001b[0m \u001b[0mpassed\u001b[0m \u001b[0mto\u001b[0m \u001b[0mSurvey\u001b[0m\u001b[1;33m(\u001b[0m\u001b[1;33m)\u001b[0m\u001b[1;33m\u001b[0m\u001b[1;33m\u001b[0m\u001b[0m\n\u001b[0;32m   1018\u001b[0m         \"\"\"\n\u001b[1;32m-> 1019\u001b[1;33m         \u001b[0mself\u001b[0m\u001b[1;33m.\u001b[0m\u001b[0msurveys\u001b[0m\u001b[1;33m.\u001b[0m\u001b[0mappend\u001b[0m\u001b[1;33m(\u001b[0m\u001b[0mSurvey\u001b[0m\u001b[1;33m(\u001b[0m\u001b[0mfname\u001b[0m\u001b[1;33m,\u001b[0m \u001b[0mftype\u001b[0m\u001b[1;33m,\u001b[0m \u001b[0mspacing\u001b[0m\u001b[1;33m=\u001b[0m\u001b[0mspacing\u001b[0m\u001b[1;33m,\u001b[0m \u001b[0mparser\u001b[0m\u001b[1;33m=\u001b[0m\u001b[0mparser\u001b[0m\u001b[1;33m,\u001b[0m \u001b[0mdebug\u001b[0m\u001b[1;33m=\u001b[0m\u001b[0mdebug\u001b[0m\u001b[1;33m,\u001b[0m \u001b[1;33m**\u001b[0m\u001b[0mkwargs\u001b[0m\u001b[1;33m)\u001b[0m\u001b[1;33m)\u001b[0m\u001b[1;33m\u001b[0m\u001b[1;33m\u001b[0m\u001b[0m\n\u001b[0m\u001b[0;32m   1020\u001b[0m         \u001b[0mself\u001b[0m\u001b[1;33m.\u001b[0m\u001b[0msurveysInfo\u001b[0m\u001b[1;33m.\u001b[0m\u001b[0mappend\u001b[0m\u001b[1;33m(\u001b[0m\u001b[0minfo\u001b[0m\u001b[1;33m)\u001b[0m\u001b[1;33m\u001b[0m\u001b[1;33m\u001b[0m\u001b[0m\n\u001b[0;32m   1021\u001b[0m         \u001b[0mself\u001b[0m\u001b[1;33m.\u001b[0m\u001b[0msetBorehole\u001b[0m\u001b[1;33m(\u001b[0m\u001b[0mself\u001b[0m\u001b[1;33m.\u001b[0m\u001b[0miBorehole\u001b[0m\u001b[1;33m)\u001b[0m\u001b[1;33m\u001b[0m\u001b[1;33m\u001b[0m\u001b[0m\n",
      "\u001b[1;32m~\\Anaconda3\\lib\\site-packages\\resipy\\Survey.py\u001b[0m in \u001b[0;36m__init__\u001b[1;34m(self, fname, ftype, df, elec, name, spacing, parser, keepAll, debug, compRecip)\u001b[0m\n\u001b[0;32m    209\u001b[0m             \u001b[1;32melse\u001b[0m\u001b[1;33m:\u001b[0m\u001b[1;33m\u001b[0m\u001b[1;33m\u001b[0m\u001b[0m\n\u001b[0;32m    210\u001b[0m                 \u001b[1;32mif\u001b[0m \u001b[0mftype\u001b[0m \u001b[1;33m==\u001b[0m \u001b[1;34m'Syscal'\u001b[0m\u001b[1;33m:\u001b[0m\u001b[1;33m\u001b[0m\u001b[1;33m\u001b[0m\u001b[0m\n\u001b[1;32m--> 211\u001b[1;33m                     \u001b[0melec\u001b[0m\u001b[1;33m,\u001b[0m \u001b[0mdata\u001b[0m \u001b[1;33m=\u001b[0m \u001b[0msyscalParser\u001b[0m\u001b[1;33m(\u001b[0m\u001b[0mfname\u001b[0m\u001b[1;33m)\u001b[0m\u001b[1;33m\u001b[0m\u001b[1;33m\u001b[0m\u001b[0m\n\u001b[0m\u001b[0;32m    212\u001b[0m                     \u001b[0mself\u001b[0m\u001b[1;33m.\u001b[0m\u001b[0mkFactor\u001b[0m \u001b[1;33m=\u001b[0m \u001b[1;36m1.2\u001b[0m\u001b[1;33m\u001b[0m\u001b[1;33m\u001b[0m\u001b[0m\n\u001b[0;32m    213\u001b[0m                 \u001b[1;32melif\u001b[0m \u001b[0mftype\u001b[0m \u001b[1;33m==\u001b[0m\u001b[1;34m'ProtocolDC'\u001b[0m\u001b[1;33m:\u001b[0m\u001b[1;33m\u001b[0m\u001b[1;33m\u001b[0m\u001b[0m\n",
      "\u001b[1;32m~\\Anaconda3\\lib\\site-packages\\resipy\\parsers.py\u001b[0m in \u001b[0;36msyscalParser\u001b[1;34m(fname)\u001b[0m\n\u001b[0;32m    204\u001b[0m                                     'TM1 (ms)':'TM1'})\n\u001b[0;32m    205\u001b[0m \u001b[1;33m\u001b[0m\u001b[0m\n\u001b[1;32m--> 206\u001b[1;33m         \u001b[0mdf\u001b[0m\u001b[1;33m[\u001b[0m\u001b[1;34m'resist'\u001b[0m\u001b[1;33m]\u001b[0m \u001b[1;33m=\u001b[0m \u001b[0mdf\u001b[0m\u001b[1;33m[\u001b[0m\u001b[1;34m'vp'\u001b[0m\u001b[1;33m]\u001b[0m\u001b[1;33m/\u001b[0m\u001b[0mdf\u001b[0m\u001b[1;33m[\u001b[0m\u001b[1;34m'i'\u001b[0m\u001b[1;33m]\u001b[0m\u001b[1;33m\u001b[0m\u001b[1;33m\u001b[0m\u001b[0m\n\u001b[0m\u001b[0;32m    207\u001b[0m \u001b[1;33m\u001b[0m\u001b[0m\n\u001b[0;32m    208\u001b[0m         \u001b[1;31m# if spacing is None:\u001b[0m\u001b[1;33m\u001b[0m\u001b[1;33m\u001b[0m\u001b[1;33m\u001b[0m\u001b[0m\n",
      "\u001b[1;32m~\\Anaconda3\\lib\\site-packages\\pandas\\core\\frame.py\u001b[0m in \u001b[0;36m__getitem__\u001b[1;34m(self, key)\u001b[0m\n\u001b[0;32m   2900\u001b[0m             \u001b[1;32mif\u001b[0m \u001b[0mself\u001b[0m\u001b[1;33m.\u001b[0m\u001b[0mcolumns\u001b[0m\u001b[1;33m.\u001b[0m\u001b[0mnlevels\u001b[0m \u001b[1;33m>\u001b[0m \u001b[1;36m1\u001b[0m\u001b[1;33m:\u001b[0m\u001b[1;33m\u001b[0m\u001b[1;33m\u001b[0m\u001b[0m\n\u001b[0;32m   2901\u001b[0m                 \u001b[1;32mreturn\u001b[0m \u001b[0mself\u001b[0m\u001b[1;33m.\u001b[0m\u001b[0m_getitem_multilevel\u001b[0m\u001b[1;33m(\u001b[0m\u001b[0mkey\u001b[0m\u001b[1;33m)\u001b[0m\u001b[1;33m\u001b[0m\u001b[1;33m\u001b[0m\u001b[0m\n\u001b[1;32m-> 2902\u001b[1;33m             \u001b[0mindexer\u001b[0m \u001b[1;33m=\u001b[0m \u001b[0mself\u001b[0m\u001b[1;33m.\u001b[0m\u001b[0mcolumns\u001b[0m\u001b[1;33m.\u001b[0m\u001b[0mget_loc\u001b[0m\u001b[1;33m(\u001b[0m\u001b[0mkey\u001b[0m\u001b[1;33m)\u001b[0m\u001b[1;33m\u001b[0m\u001b[1;33m\u001b[0m\u001b[0m\n\u001b[0m\u001b[0;32m   2903\u001b[0m             \u001b[1;32mif\u001b[0m \u001b[0mis_integer\u001b[0m\u001b[1;33m(\u001b[0m\u001b[0mindexer\u001b[0m\u001b[1;33m)\u001b[0m\u001b[1;33m:\u001b[0m\u001b[1;33m\u001b[0m\u001b[1;33m\u001b[0m\u001b[0m\n\u001b[0;32m   2904\u001b[0m                 \u001b[0mindexer\u001b[0m \u001b[1;33m=\u001b[0m \u001b[1;33m[\u001b[0m\u001b[0mindexer\u001b[0m\u001b[1;33m]\u001b[0m\u001b[1;33m\u001b[0m\u001b[1;33m\u001b[0m\u001b[0m\n",
      "\u001b[1;32m~\\Anaconda3\\lib\\site-packages\\pandas\\core\\indexes\\base.py\u001b[0m in \u001b[0;36mget_loc\u001b[1;34m(self, key, method, tolerance)\u001b[0m\n\u001b[0;32m   2895\u001b[0m                 \u001b[1;32mreturn\u001b[0m \u001b[0mself\u001b[0m\u001b[1;33m.\u001b[0m\u001b[0m_engine\u001b[0m\u001b[1;33m.\u001b[0m\u001b[0mget_loc\u001b[0m\u001b[1;33m(\u001b[0m\u001b[0mcasted_key\u001b[0m\u001b[1;33m)\u001b[0m\u001b[1;33m\u001b[0m\u001b[1;33m\u001b[0m\u001b[0m\n\u001b[0;32m   2896\u001b[0m             \u001b[1;32mexcept\u001b[0m \u001b[0mKeyError\u001b[0m \u001b[1;32mas\u001b[0m \u001b[0merr\u001b[0m\u001b[1;33m:\u001b[0m\u001b[1;33m\u001b[0m\u001b[1;33m\u001b[0m\u001b[0m\n\u001b[1;32m-> 2897\u001b[1;33m                 \u001b[1;32mraise\u001b[0m \u001b[0mKeyError\u001b[0m\u001b[1;33m(\u001b[0m\u001b[0mkey\u001b[0m\u001b[1;33m)\u001b[0m \u001b[1;32mfrom\u001b[0m \u001b[0merr\u001b[0m\u001b[1;33m\u001b[0m\u001b[1;33m\u001b[0m\u001b[0m\n\u001b[0m\u001b[0;32m   2898\u001b[0m \u001b[1;33m\u001b[0m\u001b[0m\n\u001b[0;32m   2899\u001b[0m         \u001b[1;32mif\u001b[0m \u001b[0mtolerance\u001b[0m \u001b[1;32mis\u001b[0m \u001b[1;32mnot\u001b[0m \u001b[1;32mNone\u001b[0m\u001b[1;33m:\u001b[0m\u001b[1;33m\u001b[0m\u001b[1;33m\u001b[0m\u001b[0m\n",
      "\u001b[1;31mKeyError\u001b[0m: 'vp'"
     ]
    }
   ],
   "source": [
    "from resipy import Project\n",
    "k = Project(typ='R2') # create a Project object in a working directory (can also set using k.setwd())\n",
    "testdir = os.getcwd()\n",
    "testdir + '\\\\ERT_TL_Garre_new\\\\20180612_18H00_20480000_1909.dat'\n",
    "k.createSurvey(testdir + '\\\\ERT_TL_Garre_new\\\\20180612_18H00_20480000_1909.dat') # read the survey file"
   ]
  },
  {
   "cell_type": "code",
   "execution_count": null,
   "metadata": {},
   "outputs": [],
   "source": []
  },
  {
   "cell_type": "code",
   "execution_count": null,
   "metadata": {},
   "outputs": [],
   "source": [
    "ds = xr.Dataset(\n",
    "    data_vars=dict(\n",
    "        resistance=([\"x\", \"z\", \"time\"], temperature),\n",
    "        error=([\"x\", \"z\", \"time\"], precipitation),\n",
    "    ),\n",
    "    coords=dict(\n",
    "        lon=([\"z\"], lon),\n",
    "        lat=([\"x\"], lat),\n",
    "        time=time,\n",
    "        reference_time=reference_time,\n",
    "    ),\n",
    "    attrs=dict(description=\"ERT related data.\"),\n",
    ")"
   ]
  },
  {
   "cell_type": "code",
   "execution_count": null,
   "metadata": {},
   "outputs": [],
   "source": [
    "import h5py\n",
    "import xarray as xr"
   ]
  },
  {
   "cell_type": "code",
   "execution_count": null,
   "metadata": {},
   "outputs": [],
   "source": [
    "arrayX = df.to_xarray()\n",
    "arrayX\n",
    "\n",
    "# add time dimension\n",
    "# add spatial dimension\n",
    "np.random.seed(0)\n",
    "temperature = 15 + 8 * np.random.randn(2, 2, 3)\n",
    "precipitation = 10 * np.random.rand(2, 2, 3)\n",
    "lon = [[-99.83, -99.32], [-99.79, -99.23]]\n",
    "lat = [[42.25, 42.21], [42.63, 42.59]]\n",
    "time = pd.date_range(\"2014-09-06\", periods=3)\n",
    "reference_time = pd.Timestamp(\"2014-09-05\")\n",
    "\n",
    "ds = xr.Dataset(\n",
    "    data_vars=dict(\n",
    "        temperature=([\"x\", \"y\", \"time\"], temperature),\n",
    "        precipitation=([\"x\", \"y\", \"time\"], precipitation),\n",
    "    ),\n",
    "    coords=dict(\n",
    "        lon=([\"x\", \"y\"], lon),\n",
    "        lat=([\"x\", \"y\"], lat),\n",
    "        time=time,\n",
    "        reference_time=reference_time,\n",
    "    ),\n",
    "    attrs=dict(description=\"Weather related data.\"),\n",
    ")\n",
    "ds.plot()"
   ]
  }
 ],
 "metadata": {
  "kernelspec": {
   "display_name": "Python 3",
   "language": "python",
   "name": "python3"
  },
  "language_info": {
   "codemirror_mode": {
    "name": "ipython",
    "version": 3
   },
   "file_extension": ".py",
   "mimetype": "text/x-python",
   "name": "python",
   "nbconvert_exporter": "python",
   "pygments_lexer": "ipython3",
   "version": "3.8.5"
  }
 },
 "nbformat": 4,
 "nbformat_minor": 4
}
