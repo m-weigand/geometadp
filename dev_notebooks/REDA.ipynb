{
 "cells": [
  {
   "cell_type": "markdown",
   "metadata": {},
   "source": [
    "# Test reda importer"
   ]
  },
  {
   "cell_type": "code",
   "execution_count": 1,
   "metadata": {},
   "outputs": [
    {
     "ename": "FileNotFoundError",
     "evalue": "[Errno 2] No such file or directory: './test_data/01_Syscal/data_normal.bin'",
     "output_type": "error",
     "traceback": [
      "\u001b[1;31m---------------------------------------------------------------------------\u001b[0m",
      "\u001b[1;31mFileNotFoundError\u001b[0m                         Traceback (most recent call last)",
      "\u001b[1;32m<ipython-input-1-b7338f766daf>\u001b[0m in \u001b[0;36m<module>\u001b[1;34m\u001b[0m\n\u001b[0;32m      7\u001b[0m \u001b[1;31m# note that you should prefer importing the binary data (the importer can\u001b[0m\u001b[1;33m\u001b[0m\u001b[1;33m\u001b[0m\u001b[1;33m\u001b[0m\u001b[0m\n\u001b[0;32m      8\u001b[0m \u001b[1;31m# import more data)\u001b[0m\u001b[1;33m\u001b[0m\u001b[1;33m\u001b[0m\u001b[1;33m\u001b[0m\u001b[0m\n\u001b[1;32m----> 9\u001b[1;33m \u001b[0mert\u001b[0m\u001b[1;33m.\u001b[0m\u001b[0mimport_syscal_txt\u001b[0m\u001b[1;33m(\u001b[0m\u001b[1;34m'./test_data/01_Syscal/data_normal.bin'\u001b[0m\u001b[1;33m)\u001b[0m\u001b[1;33m\u001b[0m\u001b[1;33m\u001b[0m\u001b[0m\n\u001b[0m\u001b[0;32m     10\u001b[0m \u001b[0mdf\u001b[0m \u001b[1;33m=\u001b[0m \u001b[0mert\u001b[0m\u001b[1;33m.\u001b[0m\u001b[0mdata\u001b[0m\u001b[1;33m\u001b[0m\u001b[1;33m\u001b[0m\u001b[0m\n\u001b[0;32m     11\u001b[0m \u001b[0mert\u001b[0m\u001b[1;33m.\u001b[0m\u001b[0mdata\u001b[0m\u001b[1;33m[\u001b[0m\u001b[1;34m'chargeability'\u001b[0m\u001b[1;33m]\u001b[0m\u001b[1;33m[\u001b[0m\u001b[1;36m0\u001b[0m\u001b[1;33m]\u001b[0m\u001b[1;33m\u001b[0m\u001b[1;33m\u001b[0m\u001b[0m\n",
      "\u001b[1;32m~\\Anaconda3\\lib\\site-packages\\reda\\containers\\ERT.py\u001b[0m in \u001b[0;36mimport_syscal_txt\u001b[1;34m(self, filename, **kwargs)\u001b[0m\n\u001b[0;32m     66\u001b[0m         \u001b[0mself\u001b[0m\u001b[1;33m.\u001b[0m\u001b[0mlogger\u001b[0m\u001b[1;33m.\u001b[0m\u001b[0minfo\u001b[0m\u001b[1;33m(\u001b[0m\u001b[1;34m'IRIS Syscal Pro text import'\u001b[0m\u001b[1;33m)\u001b[0m\u001b[1;33m\u001b[0m\u001b[1;33m\u001b[0m\u001b[0m\n\u001b[0;32m     67\u001b[0m         \u001b[1;32mwith\u001b[0m \u001b[0mLogDataChanges\u001b[0m\u001b[1;33m(\u001b[0m\u001b[0mself\u001b[0m\u001b[1;33m,\u001b[0m \u001b[0mfilter_action\u001b[0m\u001b[1;33m=\u001b[0m\u001b[1;34m'import'\u001b[0m\u001b[1;33m)\u001b[0m\u001b[1;33m:\u001b[0m\u001b[1;33m\u001b[0m\u001b[1;33m\u001b[0m\u001b[0m\n\u001b[1;32m---> 68\u001b[1;33m             data, electrodes, topography = reda_syscal.import_txt(\n\u001b[0m\u001b[0;32m     69\u001b[0m                 filename, **kwargs)\n\u001b[0;32m     70\u001b[0m             \u001b[1;32mif\u001b[0m \u001b[0mtimestep\u001b[0m \u001b[1;32mis\u001b[0m \u001b[1;32mnot\u001b[0m \u001b[1;32mNone\u001b[0m\u001b[1;33m:\u001b[0m\u001b[1;33m\u001b[0m\u001b[1;33m\u001b[0m\u001b[0m\n",
      "\u001b[1;32m~\\Anaconda3\\lib\\site-packages\\reda\\importers\\utils\\decorators.py\u001b[0m in \u001b[0;36mwrapper\u001b[1;34m(*args, **kwargs)\u001b[0m\n\u001b[0;32m     16\u001b[0m     \u001b[1;32mdef\u001b[0m \u001b[0mwrapper\u001b[0m\u001b[1;33m(\u001b[0m\u001b[1;33m*\u001b[0m\u001b[0margs\u001b[0m\u001b[1;33m,\u001b[0m \u001b[1;33m**\u001b[0m\u001b[0mkwargs\u001b[0m\u001b[1;33m)\u001b[0m\u001b[1;33m:\u001b[0m\u001b[1;33m\u001b[0m\u001b[1;33m\u001b[0m\u001b[0m\n\u001b[0;32m     17\u001b[0m         \u001b[0mfunc_transformator\u001b[0m \u001b[1;33m=\u001b[0m \u001b[0mkwargs\u001b[0m\u001b[1;33m.\u001b[0m\u001b[0mpop\u001b[0m\u001b[1;33m(\u001b[0m\u001b[1;34m'electrode_transformator'\u001b[0m\u001b[1;33m,\u001b[0m \u001b[1;32mNone\u001b[0m\u001b[1;33m)\u001b[0m\u001b[1;33m\u001b[0m\u001b[1;33m\u001b[0m\u001b[0m\n\u001b[1;32m---> 18\u001b[1;33m         \u001b[0mdata\u001b[0m\u001b[1;33m,\u001b[0m \u001b[0melectrodes\u001b[0m\u001b[1;33m,\u001b[0m \u001b[0mtopography\u001b[0m \u001b[1;33m=\u001b[0m \u001b[0mfunc\u001b[0m\u001b[1;33m(\u001b[0m\u001b[1;33m*\u001b[0m\u001b[0margs\u001b[0m\u001b[1;33m,\u001b[0m \u001b[1;33m**\u001b[0m\u001b[0mkwargs\u001b[0m\u001b[1;33m)\u001b[0m\u001b[1;33m\u001b[0m\u001b[1;33m\u001b[0m\u001b[0m\n\u001b[0m\u001b[0;32m     19\u001b[0m         \u001b[1;32mif\u001b[0m \u001b[0mfunc_transformator\u001b[0m \u001b[1;32mis\u001b[0m \u001b[1;32mnot\u001b[0m \u001b[1;32mNone\u001b[0m\u001b[1;33m:\u001b[0m\u001b[1;33m\u001b[0m\u001b[1;33m\u001b[0m\u001b[0m\n\u001b[0;32m     20\u001b[0m             \u001b[0mdata_transformed\u001b[0m\u001b[1;33m,\u001b[0m \u001b[0melectrodes_transformed\u001b[0m\u001b[1;33m,\u001b[0m\u001b[0;31m \u001b[0m\u001b[0;31m\\\u001b[0m\u001b[1;33m\u001b[0m\u001b[1;33m\u001b[0m\u001b[0m\n",
      "\u001b[1;32m~\\Anaconda3\\lib\\site-packages\\reda\\importers\\iris_syscal_pro.py\u001b[0m in \u001b[0;36mimport_txt\u001b[1;34m(filename, **kwargs)\u001b[0m\n\u001b[0;32m    117\u001b[0m \u001b[1;33m\u001b[0m\u001b[0m\n\u001b[0;32m    118\u001b[0m     \u001b[1;31m# read in text file into a buffer\u001b[0m\u001b[1;33m\u001b[0m\u001b[1;33m\u001b[0m\u001b[1;33m\u001b[0m\u001b[0m\n\u001b[1;32m--> 119\u001b[1;33m     \u001b[1;32mwith\u001b[0m \u001b[0mopen\u001b[0m\u001b[1;33m(\u001b[0m\u001b[0mfilename\u001b[0m\u001b[1;33m,\u001b[0m \u001b[1;34m'r'\u001b[0m\u001b[1;33m)\u001b[0m \u001b[1;32mas\u001b[0m \u001b[0mfid\u001b[0m\u001b[1;33m:\u001b[0m\u001b[1;33m\u001b[0m\u001b[1;33m\u001b[0m\u001b[0m\n\u001b[0m\u001b[0;32m    120\u001b[0m         \u001b[0mtext\u001b[0m \u001b[1;33m=\u001b[0m \u001b[0mfid\u001b[0m\u001b[1;33m.\u001b[0m\u001b[0mread\u001b[0m\u001b[1;33m(\u001b[0m\u001b[1;33m)\u001b[0m\u001b[1;33m\u001b[0m\u001b[1;33m\u001b[0m\u001b[0m\n\u001b[0;32m    121\u001b[0m     strings_to_replace = {\n",
      "\u001b[1;31mFileNotFoundError\u001b[0m: [Errno 2] No such file or directory: './test_data/01_Syscal/data_normal.bin'"
     ]
    }
   ],
   "source": [
    "from IPython.display import display_html\n",
    "def restartkernel() :\n",
    "    display_html(\"<script>Jupyter.notebook.kernel.restart()</script>\",raw=True)\n",
    "restartkernel()\n",
    "import IPython\n",
    "\n",
    "import reda\n",
    "ert = reda.ERT()\n",
    "\n",
    "import os \n",
    "os.chdir('../test_ERT_TL/')\n",
    "\n",
    "ert.import_syscal_txt('./test_data/01_Syscal/data_normal.bin')\n",
    "df = ert.data\n",
    "ert.data['chargeability'][0]\n",
    "\n",
    "display(df)"
   ]
  },
  {
   "cell_type": "code",
   "execution_count": 2,
   "metadata": {},
   "outputs": [
    {
     "name": "stdout",
     "output_type": "stream",
     "text": [
      "Requirement already satisfied: dtale in c:\\users\\benjamin\\anaconda3\\lib\\site-packages (1.46.0)\n",
      "Requirement already satisfied: scipy in c:\\users\\benjamin\\anaconda3\\lib\\site-packages (from dtale) (1.5.2)\n",
      "Requirement already satisfied: missingno in c:\\users\\benjamin\\anaconda3\\lib\\site-packages (from dtale) (0.4.2)\n",
      "Requirement already satisfied: xlrd in c:\\users\\benjamin\\anaconda3\\lib\\site-packages (from dtale) (1.2.0)\n",
      "Requirement already satisfied: dash-colorscales in c:\\users\\benjamin\\anaconda3\\lib\\site-packages (from dtale) (0.0.4)\n",
      "Requirement already satisfied: statsmodels; python_version > \"3.0\" in c:\\users\\benjamin\\anaconda3\\lib\\site-packages (from dtale) (0.12.0)\n",
      "Requirement already satisfied: openpyxl; python_version >= \"3.0\" in c:\\users\\benjamin\\anaconda3\\lib\\site-packages (from dtale) (3.0.5)\n",
      "Requirement already satisfied: lz4; python_version > \"3.0\" in c:\\users\\benjamin\\anaconda3\\lib\\site-packages (from dtale) (3.1.3)\n",
      "Requirement already satisfied: dash-bootstrap-components; python_version > \"3.0\" in c:\\users\\benjamin\\anaconda3\\lib\\site-packages (from dtale) (0.12.2)\n",
      "Requirement already satisfied: kaleido; python_version > \"3.6\" in c:\\users\\benjamin\\anaconda3\\lib\\site-packages (from dtale) (0.2.1)\n",
      "Requirement already satisfied: ppscore; python_version >= \"3.6\" in c:\\users\\benjamin\\anaconda3\\lib\\site-packages (from dtale) (1.2.0)\n",
      "Requirement already satisfied: itsdangerous in c:\\users\\benjamin\\anaconda3\\lib\\site-packages (from dtale) (1.1.0)\n",
      "Requirement already satisfied: pandas in c:\\users\\benjamin\\anaconda3\\lib\\site-packages (from dtale) (1.1.3)\n",
      "Requirement already satisfied: six in c:\\users\\benjamin\\anaconda3\\lib\\site-packages (from dtale) (1.15.0)\n",
      "Requirement already satisfied: et-xmlfile; python_version >= \"3.6\" in c:\\users\\benjamin\\anaconda3\\lib\\site-packages (from dtale) (1.0.1)\n",
      "Requirement already satisfied: Flask>=1.0 in c:\\users\\benjamin\\anaconda3\\lib\\site-packages (from dtale) (1.1.2)\n",
      "Requirement already satisfied: Flask-Compress in c:\\users\\benjamin\\anaconda3\\lib\\site-packages (from dtale) (1.9.0)\n",
      "Requirement already satisfied: seaborn; python_version >= \"3.6\" in c:\\users\\benjamin\\anaconda3\\lib\\site-packages (from dtale) (0.11.0)\n",
      "Requirement already satisfied: dash-daq in c:\\users\\benjamin\\anaconda3\\lib\\site-packages (from dtale) (0.5.0)\n",
      "Requirement already satisfied: flask-ngrok; python_version > \"3.0\" in c:\\users\\benjamin\\anaconda3\\lib\\site-packages (from dtale) (0.0.25)\n",
      "Requirement already satisfied: requests in c:\\users\\benjamin\\anaconda3\\lib\\site-packages (from dtale) (2.24.0)\n",
      "Requirement already satisfied: networkx; python_version >= \"3.0\" in c:\\users\\benjamin\\anaconda3\\lib\\site-packages (from dtale) (2.5)\n",
      "Requirement already satisfied: squarify in c:\\users\\benjamin\\anaconda3\\lib\\site-packages (from dtale) (0.4.3)\n",
      "Requirement already satisfied: xarray; python_version >= \"3.0\" in c:\\users\\benjamin\\anaconda3\\lib\\site-packages (from dtale) (0.17.0)\n",
      "Requirement already satisfied: strsimpy in c:\\users\\benjamin\\anaconda3\\lib\\site-packages (from dtale) (0.2.0)\n",
      "Requirement already satisfied: plotly>=4.9.0 in c:\\users\\benjamin\\anaconda3\\lib\\site-packages (from dtale) (4.14.3)\n",
      "Requirement already satisfied: dash>=1.5.0 in c:\\users\\benjamin\\anaconda3\\lib\\site-packages (from dtale) (1.20.0)\n",
      "Requirement already satisfied: scikit-learn in c:\\users\\benjamin\\anaconda3\\lib\\site-packages (from dtale) (0.23.2)\n",
      "Requirement already satisfied: future>=0.14.0 in c:\\users\\benjamin\\anaconda3\\lib\\site-packages (from dtale) (0.18.2)\n",
      "Requirement already satisfied: nbformat in c:\\users\\benjamin\\anaconda3\\lib\\site-packages (from dtale) (5.0.8)\n",
      "Requirement already satisfied: numpy>=1.14.5 in c:\\users\\benjamin\\anaconda3\\lib\\site-packages (from scipy->dtale) (1.19.2)\n",
      "Requirement already satisfied: matplotlib in c:\\users\\benjamin\\anaconda3\\lib\\site-packages (from missingno->dtale) (3.3.2)\n",
      "Requirement already satisfied: patsy>=0.5 in c:\\users\\benjamin\\anaconda3\\lib\\site-packages (from statsmodels; python_version > \"3.0\"->dtale) (0.5.1)\n",
      "Requirement already satisfied: jdcal in c:\\users\\benjamin\\anaconda3\\lib\\site-packages (from openpyxl; python_version >= \"3.0\"->dtale) (1.4.1)\n",
      "Requirement already satisfied: pytz>=2017.2 in c:\\users\\benjamin\\anaconda3\\lib\\site-packages (from pandas->dtale) (2020.1)\n",
      "Requirement already satisfied: python-dateutil>=2.7.3 in c:\\users\\benjamin\\anaconda3\\lib\\site-packages (from pandas->dtale) (2.8.1)\n",
      "Requirement already satisfied: Jinja2>=2.10.1 in c:\\users\\benjamin\\anaconda3\\lib\\site-packages (from Flask>=1.0->dtale) (2.11.2)\n",
      "Requirement already satisfied: Werkzeug>=0.15 in c:\\users\\benjamin\\anaconda3\\lib\\site-packages (from Flask>=1.0->dtale) (1.0.1)\n",
      "Requirement already satisfied: click>=5.1 in c:\\users\\benjamin\\anaconda3\\lib\\site-packages (from Flask>=1.0->dtale) (7.1.2)\n",
      "Requirement already satisfied: brotli in c:\\users\\benjamin\\anaconda3\\lib\\site-packages (from Flask-Compress->dtale) (1.0.9)\n",
      "Requirement already satisfied: chardet<4,>=3.0.2 in c:\\users\\benjamin\\anaconda3\\lib\\site-packages (from requests->dtale) (3.0.4)\n",
      "Requirement already satisfied: idna<3,>=2.5 in c:\\users\\benjamin\\anaconda3\\lib\\site-packages (from requests->dtale) (2.10)\n",
      "Requirement already satisfied: certifi>=2017.4.17 in c:\\users\\benjamin\\anaconda3\\lib\\site-packages (from requests->dtale) (2020.12.5)\n",
      "Requirement already satisfied: urllib3!=1.25.0,!=1.25.1,<1.26,>=1.21.1 in c:\\users\\benjamin\\anaconda3\\lib\\site-packages (from requests->dtale) (1.25.11)\n",
      "Requirement already satisfied: decorator>=4.3.0 in c:\\users\\benjamin\\anaconda3\\lib\\site-packages (from networkx; python_version >= \"3.0\"->dtale) (4.4.2)\n",
      "Requirement already satisfied: setuptools>=40.4 in c:\\users\\benjamin\\anaconda3\\lib\\site-packages (from xarray; python_version >= \"3.0\"->dtale) (50.3.1.post20201107)\n",
      "Requirement already satisfied: retrying>=1.3.3 in c:\\users\\benjamin\\anaconda3\\lib\\site-packages (from plotly>=4.9.0->dtale) (1.3.3)\n",
      "Requirement already satisfied: dash-table==4.11.3 in c:\\users\\benjamin\\anaconda3\\lib\\site-packages (from dash>=1.5.0->dtale) (4.11.3)\n",
      "Requirement already satisfied: dash-html-components==1.1.3 in c:\\users\\benjamin\\anaconda3\\lib\\site-packages (from dash>=1.5.0->dtale) (1.1.3)\n",
      "Requirement already satisfied: dash-core-components==1.16.0 in c:\\users\\benjamin\\anaconda3\\lib\\site-packages (from dash>=1.5.0->dtale) (1.16.0)\n",
      "Requirement already satisfied: dash-renderer==1.9.1 in c:\\users\\benjamin\\anaconda3\\lib\\site-packages (from dash>=1.5.0->dtale) (1.9.1)\n",
      "Requirement already satisfied: threadpoolctl>=2.0.0 in c:\\users\\benjamin\\anaconda3\\lib\\site-packages (from scikit-learn->dtale) (2.1.0)\n",
      "Requirement already satisfied: joblib>=0.11 in c:\\users\\benjamin\\anaconda3\\lib\\site-packages (from scikit-learn->dtale) (0.17.0)\n",
      "Requirement already satisfied: jsonschema!=2.5.0,>=2.4 in c:\\users\\benjamin\\anaconda3\\lib\\site-packages (from nbformat->dtale) (3.2.0)\n",
      "Requirement already satisfied: jupyter-core in c:\\users\\benjamin\\anaconda3\\lib\\site-packages (from nbformat->dtale) (4.6.3)\n",
      "Requirement already satisfied: ipython-genutils in c:\\users\\benjamin\\anaconda3\\lib\\site-packages (from nbformat->dtale) (0.2.0)\n",
      "Requirement already satisfied: traitlets>=4.1 in c:\\users\\benjamin\\anaconda3\\lib\\site-packages (from nbformat->dtale) (5.0.5)\n",
      "Requirement already satisfied: pillow>=6.2.0 in c:\\users\\benjamin\\anaconda3\\lib\\site-packages (from matplotlib->missingno->dtale) (8.0.1)\n",
      "Requirement already satisfied: kiwisolver>=1.0.1 in c:\\users\\benjamin\\anaconda3\\lib\\site-packages (from matplotlib->missingno->dtale) (1.3.0)\n",
      "Requirement already satisfied: cycler>=0.10 in c:\\users\\benjamin\\anaconda3\\lib\\site-packages (from matplotlib->missingno->dtale) (0.10.0)\n",
      "Requirement already satisfied: pyparsing!=2.0.4,!=2.1.2,!=2.1.6,>=2.0.3 in c:\\users\\benjamin\\anaconda3\\lib\\site-packages (from matplotlib->missingno->dtale) (2.4.7)\n",
      "Requirement already satisfied: MarkupSafe>=0.23 in c:\\users\\benjamin\\anaconda3\\lib\\site-packages (from Jinja2>=2.10.1->Flask>=1.0->dtale) (1.1.1)\n",
      "Requirement already satisfied: attrs>=17.4.0 in c:\\users\\benjamin\\anaconda3\\lib\\site-packages (from jsonschema!=2.5.0,>=2.4->nbformat->dtale) (20.3.0)\n",
      "Requirement already satisfied: pyrsistent>=0.14.0 in c:\\users\\benjamin\\anaconda3\\lib\\site-packages (from jsonschema!=2.5.0,>=2.4->nbformat->dtale) (0.17.3)\n",
      "Requirement already satisfied: pywin32>=1.0; sys_platform == \"win32\" in c:\\users\\benjamin\\anaconda3\\lib\\site-packages (from jupyter-core->nbformat->dtale) (227)\n"
     ]
    },
    {
     "data": {
      "text/html": [
       "\n",
       "        <iframe\n",
       "            width=\"100%\"\n",
       "            height=\"475\"\n",
       "            src=\"http://DESKTOP-IEU142Q:40000/dtale/iframe/1\"\n",
       "            frameborder=\"0\"\n",
       "            allowfullscreen\n",
       "        ></iframe>\n",
       "        "
      ],
      "text/plain": [
       "<IPython.lib.display.IFrame at 0x21062315430>"
      ]
     },
     "metadata": {},
     "output_type": "display_data"
    },
    {
     "data": {
      "text/plain": []
     },
     "execution_count": 2,
     "metadata": {},
     "output_type": "execute_result"
    }
   ],
   "source": [
    "!pip install dtale\n",
    "import dtale\n",
    "dtale.show(df)\n",
    "!pip install qgrid\n",
    "!jupyter nbextension enable --py --sys-prefix qgrid\n",
    "import qgrid\n",
    "widget = qgrid.show_grid(df)\n",
    "widget\n",
    "import ipywidgets as widgets\n",
    "out = widgets.Output(layout={'border': '1px solid black'})\n",
    "with out:\n",
    "    display(dtale.show(df))\n",
    "out"
   ]
  },
  {
   "cell_type": "code",
   "execution_count": 3,
   "metadata": {},
   "outputs": [
    {
     "name": "stdout",
     "output_type": "stream",
     "text": [
      "Requirement already satisfied: qgrid in c:\\users\\benjamin\\anaconda3\\lib\\site-packages (1.3.1)\n",
      "Requirement already satisfied: pandas>=0.18.0 in c:\\users\\benjamin\\anaconda3\\lib\\site-packages (from qgrid) (1.1.3)\n",
      "Requirement already satisfied: notebook>=4.0.0 in c:\\users\\benjamin\\anaconda3\\lib\\site-packages (from qgrid) (6.1.4)\n",
      "Requirement already satisfied: ipywidgets>=7.0.0 in c:\\users\\benjamin\\anaconda3\\lib\\site-packages (from qgrid) (7.6.3)\n",
      "Requirement already satisfied: python-dateutil>=2.7.3 in c:\\users\\benjamin\\anaconda3\\lib\\site-packages (from pandas>=0.18.0->qgrid) (2.8.1)\n",
      "Requirement already satisfied: numpy>=1.15.4 in c:\\users\\benjamin\\anaconda3\\lib\\site-packages (from pandas>=0.18.0->qgrid) (1.19.2)\n",
      "Requirement already satisfied: pytz>=2017.2 in c:\\users\\benjamin\\anaconda3\\lib\\site-packages (from pandas>=0.18.0->qgrid) (2020.1)\n",
      "Requirement already satisfied: nbformat in c:\\users\\benjamin\\anaconda3\\lib\\site-packages (from notebook>=4.0.0->qgrid) (5.0.8)\n",
      "Requirement already satisfied: terminado>=0.8.3 in c:\\users\\benjamin\\anaconda3\\lib\\site-packages (from notebook>=4.0.0->qgrid) (0.9.1)\n",
      "Requirement already satisfied: pyzmq>=17 in c:\\users\\benjamin\\anaconda3\\lib\\site-packages (from notebook>=4.0.0->qgrid) (19.0.2)\n",
      "Requirement already satisfied: traitlets>=4.2.1 in c:\\users\\benjamin\\anaconda3\\lib\\site-packages (from notebook>=4.0.0->qgrid) (5.0.5)\n",
      "Requirement already satisfied: prometheus-client in c:\\users\\benjamin\\anaconda3\\lib\\site-packages (from notebook>=4.0.0->qgrid) (0.8.0)\n",
      "Requirement already satisfied: jinja2 in c:\\users\\benjamin\\anaconda3\\lib\\site-packages (from notebook>=4.0.0->qgrid) (2.11.2)\n",
      "Requirement already satisfied: argon2-cffi in c:\\users\\benjamin\\anaconda3\\lib\\site-packages (from notebook>=4.0.0->qgrid) (20.1.0)\n",
      "Requirement already satisfied: jupyter-client>=5.3.4 in c:\\users\\benjamin\\anaconda3\\lib\\site-packages (from notebook>=4.0.0->qgrid) (6.1.7)\n",
      "Requirement already satisfied: Send2Trash in c:\\users\\benjamin\\anaconda3\\lib\\site-packages (from notebook>=4.0.0->qgrid) (1.5.0)\n",
      "Requirement already satisfied: ipython-genutils in c:\\users\\benjamin\\anaconda3\\lib\\site-packages (from notebook>=4.0.0->qgrid) (0.2.0)\n",
      "Requirement already satisfied: tornado>=5.0 in c:\\users\\benjamin\\anaconda3\\lib\\site-packages (from notebook>=4.0.0->qgrid) (6.1)\n",
      "Requirement already satisfied: jupyter-core>=4.6.1 in c:\\users\\benjamin\\anaconda3\\lib\\site-packages (from notebook>=4.0.0->qgrid) (4.6.3)\n",
      "Requirement already satisfied: ipykernel in c:\\users\\benjamin\\anaconda3\\lib\\site-packages (from notebook>=4.0.0->qgrid) (5.3.4)\n",
      "Requirement already satisfied: nbconvert in c:\\users\\benjamin\\anaconda3\\lib\\site-packages (from notebook>=4.0.0->qgrid) (6.0.7)\n",
      "Requirement already satisfied: widgetsnbextension~=3.5.0 in c:\\users\\benjamin\\anaconda3\\lib\\site-packages (from ipywidgets>=7.0.0->qgrid) (3.5.1)\n",
      "Requirement already satisfied: ipython>=4.0.0; python_version >= \"3.3\" in c:\\users\\benjamin\\anaconda3\\lib\\site-packages (from ipywidgets>=7.0.0->qgrid) (7.19.0)\n",
      "Requirement already satisfied: jupyterlab-widgets>=1.0.0; python_version >= \"3.6\" in c:\\users\\benjamin\\anaconda3\\lib\\site-packages (from ipywidgets>=7.0.0->qgrid) (1.0.0)\n",
      "Requirement already satisfied: six>=1.5 in c:\\users\\benjamin\\anaconda3\\lib\\site-packages (from python-dateutil>=2.7.3->pandas>=0.18.0->qgrid) (1.15.0)\n",
      "Requirement already satisfied: jsonschema!=2.5.0,>=2.4 in c:\\users\\benjamin\\anaconda3\\lib\\site-packages (from nbformat->notebook>=4.0.0->qgrid) (3.2.0)\n",
      "Requirement already satisfied: pywinpty>=0.5 in c:\\users\\benjamin\\anaconda3\\lib\\site-packages (from terminado>=0.8.3->notebook>=4.0.0->qgrid) (0.5.7)\n",
      "Requirement already satisfied: MarkupSafe>=0.23 in c:\\users\\benjamin\\anaconda3\\lib\\site-packages (from jinja2->notebook>=4.0.0->qgrid) (1.1.1)\n",
      "Requirement already satisfied: cffi>=1.0.0 in c:\\users\\benjamin\\anaconda3\\lib\\site-packages (from argon2-cffi->notebook>=4.0.0->qgrid) (1.14.3)\n",
      "Requirement already satisfied: pywin32>=1.0; sys_platform == \"win32\" in c:\\users\\benjamin\\anaconda3\\lib\\site-packages (from jupyter-core>=4.6.1->notebook>=4.0.0->qgrid) (227)\n",
      "Requirement already satisfied: pandocfilters>=1.4.1 in c:\\users\\benjamin\\anaconda3\\lib\\site-packages (from nbconvert->notebook>=4.0.0->qgrid) (1.4.3)\n",
      "Requirement already satisfied: defusedxml in c:\\users\\benjamin\\anaconda3\\lib\\site-packages (from nbconvert->notebook>=4.0.0->qgrid) (0.6.0)\n",
      "Requirement already satisfied: nbclient<0.6.0,>=0.5.0 in c:\\users\\benjamin\\anaconda3\\lib\\site-packages (from nbconvert->notebook>=4.0.0->qgrid) (0.5.1)\n",
      "Requirement already satisfied: entrypoints>=0.2.2 in c:\\users\\benjamin\\anaconda3\\lib\\site-packages (from nbconvert->notebook>=4.0.0->qgrid) (0.3)\n",
      "Requirement already satisfied: pygments>=2.4.1 in c:\\users\\benjamin\\anaconda3\\lib\\site-packages (from nbconvert->notebook>=4.0.0->qgrid) (2.7.2)\n",
      "Requirement already satisfied: testpath in c:\\users\\benjamin\\anaconda3\\lib\\site-packages (from nbconvert->notebook>=4.0.0->qgrid) (0.4.4)\n",
      "Requirement already satisfied: mistune<2,>=0.8.1 in c:\\users\\benjamin\\anaconda3\\lib\\site-packages (from nbconvert->notebook>=4.0.0->qgrid) (0.8.4)\n",
      "Requirement already satisfied: bleach in c:\\users\\benjamin\\anaconda3\\lib\\site-packages (from nbconvert->notebook>=4.0.0->qgrid) (3.2.1)\n",
      "Requirement already satisfied: jupyterlab-pygments in c:\\users\\benjamin\\anaconda3\\lib\\site-packages (from nbconvert->notebook>=4.0.0->qgrid) (0.1.2)\n",
      "Requirement already satisfied: decorator in c:\\users\\benjamin\\anaconda3\\lib\\site-packages (from ipython>=4.0.0; python_version >= \"3.3\"->ipywidgets>=7.0.0->qgrid) (4.4.2)\n",
      "Requirement already satisfied: prompt-toolkit!=3.0.0,!=3.0.1,<3.1.0,>=2.0.0 in c:\\users\\benjamin\\anaconda3\\lib\\site-packages (from ipython>=4.0.0; python_version >= \"3.3\"->ipywidgets>=7.0.0->qgrid) (3.0.8)\n",
      "Requirement already satisfied: backcall in c:\\users\\benjamin\\anaconda3\\lib\\site-packages (from ipython>=4.0.0; python_version >= \"3.3\"->ipywidgets>=7.0.0->qgrid) (0.2.0)\n",
      "Requirement already satisfied: colorama; sys_platform == \"win32\" in c:\\users\\benjamin\\anaconda3\\lib\\site-packages (from ipython>=4.0.0; python_version >= \"3.3\"->ipywidgets>=7.0.0->qgrid) (0.4.4)\n",
      "Requirement already satisfied: jedi>=0.10 in c:\\users\\benjamin\\anaconda3\\lib\\site-packages (from ipython>=4.0.0; python_version >= \"3.3\"->ipywidgets>=7.0.0->qgrid) (0.17.1)\n",
      "Requirement already satisfied: setuptools>=18.5 in c:\\users\\benjamin\\anaconda3\\lib\\site-packages (from ipython>=4.0.0; python_version >= \"3.3\"->ipywidgets>=7.0.0->qgrid) (50.3.1.post20201107)\n",
      "Requirement already satisfied: pickleshare in c:\\users\\benjamin\\anaconda3\\lib\\site-packages (from ipython>=4.0.0; python_version >= \"3.3\"->ipywidgets>=7.0.0->qgrid) (0.7.5)\n",
      "Requirement already satisfied: attrs>=17.4.0 in c:\\users\\benjamin\\anaconda3\\lib\\site-packages (from jsonschema!=2.5.0,>=2.4->nbformat->notebook>=4.0.0->qgrid) (20.3.0)\n",
      "Requirement already satisfied: pyrsistent>=0.14.0 in c:\\users\\benjamin\\anaconda3\\lib\\site-packages (from jsonschema!=2.5.0,>=2.4->nbformat->notebook>=4.0.0->qgrid) (0.17.3)\n",
      "Requirement already satisfied: pycparser in c:\\users\\benjamin\\anaconda3\\lib\\site-packages (from cffi>=1.0.0->argon2-cffi->notebook>=4.0.0->qgrid) (2.20)\n",
      "Requirement already satisfied: async-generator in c:\\users\\benjamin\\anaconda3\\lib\\site-packages (from nbclient<0.6.0,>=0.5.0->nbconvert->notebook>=4.0.0->qgrid) (1.10)\n",
      "Requirement already satisfied: nest-asyncio in c:\\users\\benjamin\\anaconda3\\lib\\site-packages (from nbclient<0.6.0,>=0.5.0->nbconvert->notebook>=4.0.0->qgrid) (1.4.2)\n",
      "Requirement already satisfied: webencodings in c:\\users\\benjamin\\anaconda3\\lib\\site-packages (from bleach->nbconvert->notebook>=4.0.0->qgrid) (0.5.1)\n",
      "Requirement already satisfied: packaging in c:\\users\\benjamin\\anaconda3\\lib\\site-packages (from bleach->nbconvert->notebook>=4.0.0->qgrid) (20.4)\n",
      "Requirement already satisfied: wcwidth in c:\\users\\benjamin\\anaconda3\\lib\\site-packages (from prompt-toolkit!=3.0.0,!=3.0.1,<3.1.0,>=2.0.0->ipython>=4.0.0; python_version >= \"3.3\"->ipywidgets>=7.0.0->qgrid) (0.2.5)\n",
      "Requirement already satisfied: parso<0.8.0,>=0.7.0 in c:\\users\\benjamin\\anaconda3\\lib\\site-packages (from jedi>=0.10->ipython>=4.0.0; python_version >= \"3.3\"->ipywidgets>=7.0.0->qgrid) (0.7.0)\n",
      "Requirement already satisfied: pyparsing>=2.0.2 in c:\\users\\benjamin\\anaconda3\\lib\\site-packages (from packaging->bleach->nbconvert->notebook>=4.0.0->qgrid) (2.4.7)\n"
     ]
    },
    {
     "name": "stderr",
     "output_type": "stream",
     "text": [
      "Enabling notebook extension qgrid/extension...\n",
      "      - Validating: ok\n"
     ]
    }
   ],
   "source": []
  },
  {
   "cell_type": "code",
   "execution_count": 4,
   "metadata": {},
   "outputs": [
    {
     "data": {
      "application/vnd.jupyter.widget-view+json": {
       "model_id": "54daa92999ad4c6186aa3b59e0222717",
       "version_major": 2,
       "version_minor": 0
      },
      "text/plain": [
       "QgridWidget(grid_options={'fullWidthRows': True, 'syncColumnCellResize': True, 'forceFitColumns': True, 'defau…"
      ]
     },
     "metadata": {},
     "output_type": "display_data"
    }
   ],
   "source": []
  },
  {
   "cell_type": "code",
   "execution_count": 8,
   "metadata": {},
   "outputs": [],
   "source": [
    "\n"
   ]
  }
 ],
 "metadata": {
  "kernelspec": {
   "display_name": "Python 3",
   "language": "python",
   "name": "python3"
  },
  "language_info": {
   "codemirror_mode": {
    "name": "ipython",
    "version": 3
   },
   "file_extension": ".py",
   "mimetype": "text/x-python",
   "name": "python",
   "nbconvert_exporter": "python",
   "pygments_lexer": "ipython3",
   "version": "3.8.5"
  }
 },
 "nbformat": 4,
 "nbformat_minor": 4
}
