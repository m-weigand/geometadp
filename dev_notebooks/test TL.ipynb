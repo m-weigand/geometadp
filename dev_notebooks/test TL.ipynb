{
 "cells": [
  {
   "cell_type": "code",
   "execution_count": 1,
   "metadata": {},
   "outputs": [
    {
     "data": {
      "application/vnd.jupyter.widget-view+json": {
       "model_id": "899b23a2f6f644a2a0666ff7edaa5be3",
       "version_major": 2,
       "version_minor": 0
      },
      "text/plain": [
       "VBox(children=(Tab(children=(Label(value='tab1'), Label(value='tab2'), Label(value='tab3'), Label(value='tab4'…"
      ]
     },
     "metadata": {},
     "output_type": "display_data"
    },
    {
     "name": "stdout",
     "output_type": "stream",
     "text": [
      "selected index: 1\n",
      "selected index: 2\n",
      "selected index: 3\n",
      "selected index: 0\n",
      "selected index: 1\n",
      "selected index: 2\n",
      "selected index: None\n",
      "selected index: 2\n",
      "selected index: None\n",
      "selected index: 2\n",
      "selected index: None\n",
      "selected index: 2\n",
      "selected index: 1\n",
      "selected index: None\n",
      "selected index: 1\n",
      "selected index: 0\n",
      "selected index: None\n",
      "selected index: 0\n",
      "selected index: 2\n",
      "selected index: None\n",
      "selected index: 2\n"
     ]
    }
   ],
   "source": [
    "import ipywidgets\n",
    "\n",
    "tabs = ipywidgets.Tab()\n",
    "tabs.children = [ipywidgets.Label(value='tab1'), ipywidgets.Label(value='tab2'), ipywidgets.Label(value='tab3'), ipywidgets.Label(value='tab4')]\n",
    "tabs.observe(lambda change: print(f\"selected index: {change['new']}\") , names='selected_index')\n",
    "\n",
    "def change_children(_):\n",
    "    id = tabs.selected_index\n",
    "    tabs.selected_index = None   # Warning : this will emit a change event\n",
    "    tabs.children = [ipywidgets.Label(value='tab1'), ipywidgets.Label(value='tab2'), ipywidgets.Label(value='tab3'), ipywidgets.Label(value='tab4')]\n",
    "    tabs.selected_index = id\n",
    "\n",
    "btn = ipywidgets.Button(description='change_children')\n",
    "btn.on_click(change_children)\n",
    "\n",
    "ipywidgets.VBox([tabs, btn])"
   ]
  },
  {
   "cell_type": "code",
   "execution_count": 6,
   "metadata": {},
   "outputs": [
    {
     "name": "stdout",
     "output_type": "stream",
     "text": [
      "[Text(value='', description='P0'), Text(value='', description='P1')]\n",
      "Text(value='', description='P0')\n",
      "Text(value='', description='P1')\n"
     ]
    },
    {
     "data": {
      "application/vnd.jupyter.widget-view+json": {
       "model_id": "0ebd33fd48e341ee8548f81367099109",
       "version_major": 2,
       "version_minor": 0
      },
      "text/plain": [
       "Tab(children=(Text(value='', description='P0'), Text(value='', description='P1')), _titles={'0': '0', '1': '1'…"
      ]
     },
     "metadata": {},
     "output_type": "display_data"
    },
    {
     "name": "stdout",
     "output_type": "stream",
     "text": [
      "{'name': '_property_lock', 'old': traitlets.Undefined, 'new': {'value': '3'}, 'owner': Text(value='', description='P0'), 'type': 'change'}\n",
      "{'name': 'value', 'old': '', 'new': '3', 'owner': Text(value='3', description='P0'), 'type': 'change'}\n",
      "{'name': '_property_lock', 'old': {'value': '3'}, 'new': {}, 'owner': Text(value='3', description='P0'), 'type': 'change'}\n",
      "{'name': '_property_lock', 'old': traitlets.Undefined, 'new': {'value': '1'}, 'owner': Text(value='', description='P1'), 'type': 'change'}\n",
      "{'name': 'value', 'old': '', 'new': '1', 'owner': Text(value='1', description='P1'), 'type': 'change'}\n",
      "{'name': '_property_lock', 'old': {'value': '1'}, 'new': {}, 'owner': Text(value='1', description='P1'), 'type': 'change'}\n"
     ]
    }
   ],
   "source": [
    "import ipywidgets as widgets\n",
    "\n",
    "tab_contents = ['P0', 'P1']\n",
    "children = [widgets.Text(description=name) for name in tab_contents]\n",
    "tab = widgets.Tab()\n",
    "tab.children = children\n",
    "for i in range(len(children)):\n",
    "    tab.set_title(i, str(i))\n",
    "\n",
    "def tab_toggle_var(*args):\n",
    "    global vartest\n",
    "    if tab.selected_index ==0:\n",
    "        vartest = 0\n",
    "    else:\n",
    "        vartest = 1\n",
    "tab.observe(tab_toggle_var)\n",
    "tab_toggle_var()\n",
    "print(children)\n",
    "\n",
    "metadata={}\n",
    "\n",
    "def _observe_test(change):\n",
    "    print(change)\n",
    "    \n",
    "def _observe_config(change):\n",
    "    print('_observe_config')\n",
    "    metadata[ widget_elec_config.description] = widget_elec_config.value\n",
    "    metadata_json_raw = json.dumps(metadata, indent=4)\n",
    "    export.value = \"<pre>{}</pre>\".format(\n",
    "            html.escape(metadata_json_raw))\n",
    "        \n",
    "export = widgets.HTML()\n",
    "vbox_metadata = widgets.VBox(\n",
    "    [\n",
    "        widgets.HTML('''\n",
    "            <h4>Preview of metadata export:</h4>\n",
    "            <hr style=\"height:1px;border-width:0;color:black;background-color:gray\">\n",
    "            '''),\n",
    "        export\n",
    "    ]\n",
    ")\n",
    "\n",
    "for child in tab.children:\n",
    "    print(child)\n",
    "    child.observe(_observe_test)\n",
    "\n",
    "display(tab)\n"
   ]
  },
  {
   "cell_type": "code",
   "execution_count": 7,
   "metadata": {},
   "outputs": [
    {
     "data": {
      "application/vnd.jupyter.widget-view+json": {
       "model_id": "f229cc1cda4e436696b14a11d4236d1b",
       "version_major": 2,
       "version_minor": 0
      },
      "text/plain": [
       "Dropdown(description='Task:', options=('Addition', 'Multiplication', 'Subtraction', 'Division'), value='Additi…"
      ]
     },
     "metadata": {},
     "output_type": "display_data"
    },
    {
     "name": "stdout",
     "output_type": "stream",
     "text": [
      "changed to Multiplication\n",
      "changed to Subtraction\n"
     ]
    }
   ],
   "source": [
    "w = widgets.Dropdown(\n",
    "    options=['Addition', 'Multiplication', 'Subtraction', 'Division'],\n",
    "    value='Addition',\n",
    "    description='Task:',\n",
    ")\n",
    "\n",
    "def on_change(change):\n",
    "    if change['type'] == 'change' and change['name'] == 'value':\n",
    "        print(\"changed to %s\" % change['new'])\n",
    "\n",
    "w.observe(on_change)\n",
    "\n",
    "display(w)"
   ]
  },
  {
   "cell_type": "code",
   "execution_count": 2,
   "metadata": {},
   "outputs": [
    {
     "data": {
      "application/vnd.jupyter.widget-view+json": {
       "model_id": "edcaf7ad9e8347d0812236c33ae20eff",
       "version_major": 2,
       "version_minor": 0
      },
      "text/plain": [
       "IntSlider(value=0, description='inp0')"
      ]
     },
     "metadata": {},
     "output_type": "display_data"
    },
    {
     "data": {
      "application/vnd.jupyter.widget-view+json": {
       "model_id": "6e1d3fe8cf784420a37b799a7fe48e24",
       "version_major": 2,
       "version_minor": 0
      },
      "text/plain": [
       "IntSlider(value=0, description='inp1')"
      ]
     },
     "metadata": {},
     "output_type": "display_data"
    },
    {
     "data": {
      "application/vnd.jupyter.widget-view+json": {
       "model_id": "e2c983420bfd4acf9fca93ea3fe540b1",
       "version_major": 2,
       "version_minor": 0
      },
      "text/plain": [
       "Output()"
      ]
     },
     "metadata": {},
     "output_type": "display_data"
    }
   ],
   "source": [
    "from IPython.display import display\n",
    "import ipywidgets as widgets\n",
    "\n",
    "int_range0_slider = widgets.IntSlider()\n",
    "int_range1_slider = widgets.IntSlider()\n",
    "output = widgets.Output()\n",
    "\n",
    "def interactive_function(inp0,inp1):\n",
    "    with output:\n",
    "        print('ie changed. int_range0_slider: '+str(inp0)+' int_range1_slider: '+str(inp1))\n",
    "    return\n",
    "\n",
    "def report_int_range0_change(change):\n",
    "    with output:\n",
    "        print('int_range0 change observed'+str(change))\n",
    "    return\n",
    "\n",
    "def report_ie_change(change):\n",
    "    with output:\n",
    "        print('ie change observed'+str(change))\n",
    "    return\n",
    "\n",
    "ie = widgets.interactive(interactive_function, inp0=int_range0_slider,inp1=int_range1_slider)\n",
    "\n",
    "# print(int_range0_slider.observe)\n",
    "# print(ie.observe)\n",
    "# int_range0_slider.observe(report_int_range0_change, names='value')\n",
    "for child in ie.children:\n",
    "    child.observe(report_ie_change)\n",
    "\n",
    "display(int_range0_slider,int_range1_slider,output)"
   ]
  }
 ],
 "metadata": {
  "kernelspec": {
   "display_name": "Python 3",
   "language": "python",
   "name": "python3"
  },
  "language_info": {
   "codemirror_mode": {
    "name": "ipython",
    "version": 3
   },
   "file_extension": ".py",
   "mimetype": "text/x-python",
   "name": "python",
   "nbconvert_exporter": "python",
   "pygments_lexer": "ipython3",
   "version": "3.8.5"
  }
 },
 "nbformat": 4,
 "nbformat_minor": 4
}
