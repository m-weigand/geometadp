{
 "cells": [
  {
   "cell_type": "code",
   "execution_count": 14,
   "metadata": {
    "iooxa": {
     "id": {
      "block": "7yX4NNWquzEG6ANYHv7J",
      "project": "jCH2ECjXuEJLCErejFMt",
      "version": 1
     },
     "outputId": null
    }
   },
   "outputs": [],
   "source": [
    "import expipe\n",
    "import pathlib\n",
    "import quantities as pq\n",
    "import shutil\n",
    "import pandas as pd\n",
    "import os"
   ]
  },
  {
   "cell_type": "markdown",
   "metadata": {
    "iooxa": {
     "id": {
      "block": "HjkTG3QeYIKYbUSlbQaS",
      "project": "jCH2ECjXuEJLCErejFMt",
      "version": 1
     }
    }
   },
   "source": [
    "# Making a project\n",
    "\n",
    "When making a project we require with a path to where we want the project to reside"
   ]
  },
  {
   "cell_type": "code",
   "execution_count": 15,
   "metadata": {
    "iooxa": {
     "id": {
      "block": "aNmpNQt9b5ck8Xc3dMPC",
      "project": "jCH2ECjXuEJLCErejFMt",
      "version": 1
     },
     "outputId": null
    }
   },
   "outputs": [],
   "source": [
    "project = expipe.require_project('ERT plant')"
   ]
  },
  {
   "cell_type": "markdown",
   "metadata": {
    "iooxa": {
     "id": {
      "block": "LxpsLKZJjxI0N1Fgu8Wt",
      "project": "jCH2ECjXuEJLCErejFMt",
      "version": 1
     }
    }
   },
   "source": [
    "## Adding user info in a module"
   ]
  },
  {
   "cell_type": "code",
   "execution_count": 16,
   "metadata": {
    "iooxa": {
     "id": {
      "block": "AiZa346u4iA1i6xEqDOx",
      "project": "jCH2ECjXuEJLCErejFMt",
      "version": 1
     },
     "outputId": null
    }
   },
   "outputs": [],
   "source": [
    "project.modules['user_info'] = {\n",
    "    'Benjamin': {\n",
    "        'institute': 'UNIPD',\n",
    "        'sex': 'M'\n",
    "    },\n",
    "    'Guillaume': {\n",
    "        'institute': 'Liege',\n",
    "        'sex': 'M'\n",
    "    }\n",
    "}"
   ]
  },
  {
   "cell_type": "code",
   "execution_count": 17,
   "metadata": {
    "iooxa": {
     "id": {
      "block": "qZ3UW7RqPHdy8RcvIAEe",
      "project": "jCH2ECjXuEJLCErejFMt",
      "version": 1
     },
     "outputId": {
      "block": "dEqGEKmGBa2ZG54xXq2g",
      "project": "jCH2ECjXuEJLCErejFMt",
      "version": 1
     }
    }
   },
   "outputs": [
    {
     "data": {
      "application/vnd.jupyter.widget-view+json": {
       "model_id": "bfc1a42503db46bcaac85a19388bc1ca",
       "version_major": 2,
       "version_minor": 0
      },
      "text/plain": [
       "HBox(children=(VBox(children=(Text(value='', placeholder='Search'), Select(layout=Layout(height='200px'), opti…"
      ]
     },
     "metadata": {},
     "output_type": "display_data"
    }
   ],
   "source": [
    "project.modules"
   ]
  },
  {
   "cell_type": "markdown",
   "metadata": {
    "iooxa": {
     "id": {
      "block": "3WrJH4tUuuCqctm9XKzq",
      "project": "jCH2ECjXuEJLCErejFMt",
      "version": 1
     }
    }
   },
   "source": [
    "# Entity"
   ]
  },
  {
   "cell_type": "code",
   "execution_count": 18,
   "metadata": {
    "iooxa": {
     "id": {
      "block": "UeCSF9lK3bpd4wS4bh4i",
      "project": "jCH2ECjXuEJLCErejFMt",
      "version": 1
     },
     "outputId": null
    }
   },
   "outputs": [],
   "source": [
    "rhizotron = project.require_entity('rhizotron')"
   ]
  },
  {
   "cell_type": "code",
   "execution_count": 19,
   "metadata": {
    "iooxa": {
     "id": {
      "block": "QE9PuFTvAldE9tEyAyGS",
      "project": "jCH2ECjXuEJLCErejFMt",
      "version": 1
     },
     "outputId": null
    }
   },
   "outputs": [],
   "source": [
    "rhizotron.users =  ['Benjamin', 'Guillaume']"
   ]
  },
  {
   "cell_type": "code",
   "execution_count": 20,
   "metadata": {
    "iooxa": {
     "id": {
      "block": "CqQHHSLn5p8L1UztRWTv",
      "project": "jCH2ECjXuEJLCErejFMt",
      "version": 1
     },
     "outputId": {
      "block": "4Rpilwj5nYLtylfRsbpg",
      "project": "jCH2ECjXuEJLCErejFMt",
      "version": 1
     }
    }
   },
   "outputs": [
    {
     "data": {
      "application/vnd.jupyter.widget-view+json": {
       "model_id": "e96d90aaa78845b388f25da0c90f0a36",
       "version_major": 2,
       "version_minor": 0
      },
      "text/plain": [
       "HBox(children=(VBox(children=(Text(value='', placeholder='Search'), Select(layout=Layout(height='200px'), opti…"
      ]
     },
     "metadata": {},
     "output_type": "display_data"
    }
   ],
   "source": [
    "project.entities"
   ]
  },
  {
   "cell_type": "markdown",
   "metadata": {
    "iooxa": {
     "id": {
      "block": "9KFGuiHudC16gHjLrvXB",
      "project": "jCH2ECjXuEJLCErejFMt",
      "version": 1
     }
    }
   },
   "source": [
    "## Adding a module with template\n",
    "\n",
    "It can be tedious to add all the keys and according information every time we make a module, therefore we use templates. In order to use templates we must add our desired templates to project_path/templates."
   ]
  },
  {
   "cell_type": "code",
   "execution_count": 21,
   "metadata": {
    "iooxa": {
     "id": {
      "block": "NF7dSpW79cfwSa5DSoiG",
      "project": "jCH2ECjXuEJLCErejFMt",
      "version": 1
     },
     "outputId": null
    }
   },
   "outputs": [],
   "source": [
    "rhizotron.modules['info'] = {\n",
    "    'weight': '10kg',\n",
    "    'soil': 'water'\n",
    "}"
   ]
  },
  {
   "cell_type": "markdown",
   "metadata": {
    "iooxa": {
     "id": {
      "block": "BgqrIUFaFVCZ0Ze6VE2k",
      "project": "jCH2ECjXuEJLCErejFMt",
      "version": 1
     }
    }
   },
   "source": [
    "# Action\n",
    "\n",
    "Now we are ready to start adding actions"
   ]
  },
  {
   "cell_type": "markdown",
   "metadata": {
    "iooxa": {
     "id": {
      "block": "hbIqOqKWaAD86OoIT4OS",
      "project": "jCH2ECjXuEJLCErejFMt",
      "version": 1
     }
    }
   },
   "source": [
    "## Adding one experiment\n",
    "\n",
    "The experiments starts with a ERT where we use a Syscal Pro in Laboratory"
   ]
  },
  {
   "cell_type": "code",
   "execution_count": 22,
   "metadata": {
    "iooxa": {
     "id": {
      "block": "YL4TkBGgi7Cq6Qh8IMXk",
      "project": "jCH2ECjXuEJLCErejFMt",
      "version": 1
     },
     "outputId": null
    }
   },
   "outputs": [],
   "source": [
    "project.actions['measurements'] = {\n",
    "    'type': 'ERT',\n",
    "    'entities': ['rhizotron'],\n",
    "    'users': ['Benjamin'],\n",
    "    'tags': ['Syscal Pro', 'laboratory']\n",
    "}"
   ]
  },
  {
   "cell_type": "markdown",
   "metadata": {
    "iooxa": {
     "id": {
      "block": "tha1eh6lTgdeUpvUNygb",
      "project": "jCH2ECjXuEJLCErejFMt",
      "version": 1
     }
    }
   },
   "source": [
    "Too see which templates are available we invoke the templates browser"
   ]
  },
  {
   "cell_type": "code",
   "execution_count": 23,
   "metadata": {
    "iooxa": {
     "id": {
      "block": "qiU3HmDrZLb7SeDulAhU",
      "project": "jCH2ECjXuEJLCErejFMt",
      "version": 1
     },
     "outputId": {
      "block": "A8OhR4KEEOtE28Yq7iit",
      "project": "jCH2ECjXuEJLCErejFMt",
      "version": 1
     }
    }
   },
   "outputs": [
    {
     "data": {
      "application/vnd.jupyter.widget-view+json": {
       "model_id": "d230dcfdc4c1404ca4f433cfe3112295",
       "version_major": 2,
       "version_minor": 0
      },
      "text/plain": [
       "HBox(children=(VBox(children=(Text(value='', placeholder='Search'), Select(layout=Layout(height='200px'), opti…"
      ]
     },
     "metadata": {},
     "output_type": "display_data"
    }
   ],
   "source": [
    "project.actions"
   ]
  },
  {
   "cell_type": "code",
   "execution_count": 24,
   "metadata": {
    "iooxa": {
     "id": {
      "block": "8ED9cLcb04BFlZELyB6h",
      "project": "jCH2ECjXuEJLCErejFMt",
      "version": 1
     },
     "outputId": {
      "block": "YD1nHCxDXP2A6wOQP4Y1",
      "project": "jCH2ECjXuEJLCErejFMt",
      "version": 1
     }
    }
   },
   "outputs": [
    {
     "data": {
      "text/plain": [
       "{'type': 'ERT',\n",
       " 'entities': ['rhizotron'],\n",
       " 'users': ['Benjamin'],\n",
       " 'tags': ['Syscal Pro', 'laboratory']}"
      ]
     },
     "execution_count": 24,
     "metadata": {},
     "output_type": "execute_result"
    }
   ],
   "source": [
    "project.actions['measurements'].attributes"
   ]
  },
  {
   "cell_type": "markdown",
   "metadata": {
    "iooxa": {
     "id": {
      "block": "3vrcF0QCKDy8VN3BW4g8",
      "project": "jCH2ECjXuEJLCErejFMt",
      "version": 1
     }
    }
   },
   "source": [
    "## Adding a message to recording"
   ]
  },
  {
   "cell_type": "code",
   "execution_count": 25,
   "metadata": {
    "iooxa": {
     "id": {
      "block": "gXMwtrQ1uOBBSNHq5WAV",
      "project": "jCH2ECjXuEJLCErejFMt",
      "version": 1
     },
     "outputId": {
      "block": "ucs4rfa0FTu71RTy78OX",
      "project": "jCH2ECjXuEJLCErejFMt",
      "version": 1
     }
    }
   },
   "outputs": [
    {
     "data": {
      "text/plain": [
       "<expipe.core.Message at 0x2077d456520>"
      ]
     },
     "execution_count": 25,
     "metadata": {},
     "output_type": "execute_result"
    }
   ],
   "source": [
    "rhizotron.create_message('Successful recording, albeit a bit noisy', user='Benjamin')"
   ]
  },
  {
   "cell_type": "markdown",
   "metadata": {
    "iooxa": {
     "id": {
      "block": "XHtGrZSquOFT5JJx4cEj",
      "project": "jCH2ECjXuEJLCErejFMt",
      "version": 1
     }
    }
   },
   "source": [
    "## Creating a template"
   ]
  },
  {
   "cell_type": "code",
   "execution_count": null,
   "metadata": {
    "iooxa": {
     "id": {
      "block": "DNhKJsspew9gKX8go47Q",
      "project": "jCH2ECjXuEJLCErejFMt",
      "version": 1
     },
     "outputId": null
    }
   },
   "outputs": [],
   "source": [
    "probe_location = {\n",
    "    'identifier': 'probe_location',\n",
    "    'description': 'v1l, v1r represents primary visual cortex left and right respectively.',\n",
    "    'v1l': {\n",
    "        'probe_0': ''\n",
    "    },\n",
    "    'v1r': {\n",
    "        'probe_0': ''\n",
    "    }\n",
    "}\n",
    "project.create_template('probe_location', contents=probe_location)"
   ]
  },
  {
   "cell_type": "code",
   "execution_count": null,
   "metadata": {
    "iooxa": {
     "id": {
      "block": "7jInTRmTLTiPwFGwv4pF",
      "project": "jCH2ECjXuEJLCErejFMt",
      "version": 1
     },
     "outputId": null
    }
   },
   "outputs": [],
   "source": [
    "probe_location_2 = project.actions['ecephys_2'].create_module(template='probe_location')"
   ]
  },
  {
   "cell_type": "code",
   "execution_count": null,
   "metadata": {
    "iooxa": {
     "id": {
      "block": "AJtcj41fqI8Z3KtUaCat",
      "project": "jCH2ECjXuEJLCErejFMt",
      "version": 1
     },
     "outputId": null
    }
   },
   "outputs": [],
   "source": [
    "probe_location_2['v1l']['probe_0'] = 1000 * pq.um"
   ]
  },
  {
   "cell_type": "code",
   "execution_count": null,
   "metadata": {
    "iooxa": {
     "id": {
      "block": "XU4WOra2NB181t1ntABq",
      "project": "jCH2ECjXuEJLCErejFMt",
      "version": 1
     },
     "outputId": null
    }
   },
   "outputs": [],
   "source": [
    "probe_location_2['v1r']['probe_0'] = 1000 * pq.um"
   ]
  },
  {
   "cell_type": "code",
   "execution_count": null,
   "metadata": {
    "iooxa": {
     "id": {
      "block": "vmwPBC3JNjT8AdlD9511",
      "project": "jCH2ECjXuEJLCErejFMt",
      "version": 1
     },
     "outputId": null
    }
   },
   "outputs": [],
   "source": [
    "project.actions['ecephys_2'].modules"
   ]
  },
  {
   "cell_type": "markdown",
   "metadata": {
    "iooxa": {
     "id": {
      "block": "1HAP9tjyQs2vmtrkVuZI",
      "project": "jCH2ECjXuEJLCErejFMt",
      "version": 1
     }
    }
   },
   "source": [
    "## Using the browser"
   ]
  },
  {
   "cell_type": "code",
   "execution_count": 27,
   "metadata": {
    "iooxa": {
     "id": {
      "block": "LLZZBNAHWuiaDUQHjTmj",
      "project": "jCH2ECjXuEJLCErejFMt",
      "version": 1
     },
     "outputId": {
      "block": "6l7GtXQJ4VIXjESHgjsH",
      "project": "jCH2ECjXuEJLCErejFMt",
      "version": 1
     }
    }
   },
   "outputs": [
    {
     "data": {
      "application/vnd.jupyter.widget-view+json": {
       "model_id": "26014b82b71d4cde858e36d5eecaae6a",
       "version_major": 2,
       "version_minor": 0
      },
      "text/plain": [
       "Tab(children=(Tab(children=(HBox(children=(Accordion(children=(VBox(children=(Checkbox(value=False, descriptio…"
      ]
     },
     "metadata": {},
     "output_type": "display_data"
    },
    {
     "name": "stdout",
     "output_type": "stream",
     "text": [
      "You have to give a name to export actions list.\n",
      "You have to select from the list, \"ctrl+a\" for all\n",
      "Actions successfully exported.\n",
      "To load use \"pd.read_csv(project.actions[\"action_exported\"].data_path(\"action_exported\"))\"\n"
     ]
    }
   ],
   "source": [
    "expipe.Browser(project.path).display()"
   ]
  },
  {
   "cell_type": "code",
   "execution_count": null,
   "metadata": {
    "iooxa": {
     "id": {
      "block": "Qy2FMd90q8G7Z1chUMMB",
      "project": "jCH2ECjXuEJLCErejFMt",
      "version": 1
     },
     "outputId": null
    }
   },
   "outputs": [],
   "source": [
    "df = pd.read_csv(project.actions['all'].data_path('sessions'))\n",
    "df"
   ]
  },
  {
   "cell_type": "markdown",
   "metadata": {
    "iooxa": {
     "id": {
      "block": "0vz4UtQ87PnstPrC737h",
      "project": "jCH2ECjXuEJLCErejFMt",
      "version": 1
     }
    }
   },
   "source": [
    "# Interact with Github"
   ]
  },
  {
   "cell_type": "code",
   "execution_count": null,
   "metadata": {},
   "outputs": [],
   "source": []
  }
 ],
 "metadata": {
  "iooxa": {
   "id": {
    "block": "BxfLSVbzs3ErWt2h24O4",
    "project": "jCH2ECjXuEJLCErejFMt",
    "version": 1
   }
  },
  "kernelspec": {
   "display_name": "Python 3",
   "language": "python",
   "name": "python3"
  },
  "language_info": {
   "codemirror_mode": {
    "name": "ipython",
    "version": 3
   },
   "file_extension": ".py",
   "mimetype": "text/x-python",
   "name": "python",
   "nbconvert_exporter": "python",
   "pygments_lexer": "ipython3",
   "version": "3.8.5"
  }
 },
 "nbformat": 4,
 "nbformat_minor": 2
}
