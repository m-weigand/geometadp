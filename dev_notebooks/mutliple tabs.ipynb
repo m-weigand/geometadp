{
 "cells": [
  {
   "cell_type": "markdown",
   "metadata": {},
   "source": [
    "https://www.gitmemory.com/issue/jupyter-widgets/ipywidgets/2988/829643179"
   ]
  },
  {
   "cell_type": "code",
   "execution_count": 1,
   "metadata": {},
   "outputs": [
    {
     "ename": "NameError",
     "evalue": "name 'widgets' is not defined",
     "output_type": "error",
     "traceback": [
      "\u001b[1;31m---------------------------------------------------------------------------\u001b[0m",
      "\u001b[1;31mNameError\u001b[0m                                 Traceback (most recent call last)",
      "\u001b[1;32m<ipython-input-1-5c82f438eb72>\u001b[0m in \u001b[0;36m<module>\u001b[1;34m\u001b[0m\n\u001b[0;32m     28\u001b[0m     \u001b[1;31m#tabs.selected_index = 1\u001b[0m\u001b[1;33m\u001b[0m\u001b[1;33m\u001b[0m\u001b[1;33m\u001b[0m\u001b[0m\n\u001b[0;32m     29\u001b[0m \u001b[1;33m\u001b[0m\u001b[0m\n\u001b[1;32m---> 30\u001b[1;33m widget_nb_files_TL = widgets.IntText(\n\u001b[0m\u001b[0;32m     31\u001b[0m \u001b[0mdescription\u001b[0m\u001b[1;33m=\u001b[0m\u001b[1;34m'Nb of steps'\u001b[0m\u001b[1;33m,\u001b[0m\u001b[1;33m\u001b[0m\u001b[1;33m\u001b[0m\u001b[0m\n\u001b[0;32m     32\u001b[0m \u001b[0mvalue\u001b[0m\u001b[1;33m=\u001b[0m\u001b[1;36m2\u001b[0m\u001b[1;33m\u001b[0m\u001b[1;33m\u001b[0m\u001b[0m\n",
      "\u001b[1;31mNameError\u001b[0m: name 'widgets' is not defined"
     ]
    }
   ],
   "source": [
    "import ipywidgets\n",
    "\n",
    "tabs_root = ipywidgets.Tab()\n",
    "\n",
    "tabs = ipywidgets.Tab()\n",
    "tabs.children = [ipywidgets.Label(value='tab1'), ipywidgets.Label(value='tab2')]\n",
    "\n",
    "tabs.observe(lambda change: print(f\"selected index: {change['new']}\") , names='selected_index')\n",
    "#tabs_root.children = [ipywidgets.Label(value='tab1'), ipywidgets.Label(value='tab2')]\n",
    "#tabs_root.children.children = [ipywidgets.Label(value='tab1'), ipywidgets.Label(value='tab2')]\n",
    "\n",
    "def change_children(_):\n",
    "    child_to_display = widget_nb_files_TL.value\n",
    "    lst=[]\n",
    "    for i in range(child_to_display):\n",
    "        lst.append('step' + str(i)) \n",
    "    list_widgets  = [\n",
    "    widgets.HBox([widgets.IntText(\n",
    "        value=1,\n",
    "        placeholder=\"name\",\n",
    "        description=name,\n",
    "        disabled=False)]) for name in lst]\n",
    "    metadata = widgets.Text(description='preview metadata')\n",
    "    #lst.append(metadata)\n",
    "    tabs.children = [ipywidgets.Label(value='tab' + str(num)) for num, name in enumerate(lst)]\n",
    "    #tabs.children = metadata\n",
    "    #tabs.children = [ipywidgets.Label(value='tab1'), ipywidgets.Label(value='tab2')]\n",
    "    #tabs.selected_index = 1\n",
    "\n",
    "widget_nb_files_TL = widgets.IntText(\n",
    "description='Nb of steps',\n",
    "value=2\n",
    ")\n",
    "    \n",
    "btn = ipywidgets.Button(description='change_children')\n",
    "btn.on_click(change_children)\n",
    "widget_nb_files_TL.observe(change_children, 'value') \n",
    "\n",
    "#ipywidgets.VBox([tabs, widget_nb_files_TL])\n",
    "ipywidgets.VBox([tabs, widget_nb_files_TL])"
   ]
  },
  {
   "cell_type": "code",
   "execution_count": 2,
   "metadata": {},
   "outputs": [
    {
     "ename": "NameError",
     "evalue": "name 'widgets' is not defined",
     "output_type": "error",
     "traceback": [
      "\u001b[1;31m---------------------------------------------------------------------------\u001b[0m",
      "\u001b[1;31mNameError\u001b[0m                                 Traceback (most recent call last)",
      "\u001b[1;32m<ipython-input-2-ae3142cf5fbf>\u001b[0m in \u001b[0;36m<module>\u001b[1;34m\u001b[0m\n\u001b[0;32m      1\u001b[0m \u001b[0mlst\u001b[0m \u001b[1;33m=\u001b[0m \u001b[1;33m[\u001b[0m\u001b[1;34m'one'\u001b[0m\u001b[1;33m,\u001b[0m \u001b[1;34m'two'\u001b[0m\u001b[1;33m]\u001b[0m\u001b[1;33m\u001b[0m\u001b[1;33m\u001b[0m\u001b[0m\n\u001b[1;32m----> 2\u001b[1;33m list_widgets  = [\n\u001b[0m\u001b[0;32m      3\u001b[0m     widgets.HBox([widgets.Text(\n\u001b[0;32m      4\u001b[0m         \u001b[0mplaceholder\u001b[0m\u001b[1;33m=\u001b[0m\u001b[1;34m\"name\"\u001b[0m\u001b[1;33m,\u001b[0m\u001b[1;33m\u001b[0m\u001b[1;33m\u001b[0m\u001b[0m\n\u001b[0;32m      5\u001b[0m         \u001b[0mdescription\u001b[0m\u001b[1;33m=\u001b[0m\u001b[0mname\u001b[0m\u001b[1;33m,\u001b[0m\u001b[1;33m\u001b[0m\u001b[1;33m\u001b[0m\u001b[0m\n",
      "\u001b[1;32m<ipython-input-2-ae3142cf5fbf>\u001b[0m in \u001b[0;36m<listcomp>\u001b[1;34m(.0)\u001b[0m\n\u001b[0;32m      1\u001b[0m \u001b[0mlst\u001b[0m \u001b[1;33m=\u001b[0m \u001b[1;33m[\u001b[0m\u001b[1;34m'one'\u001b[0m\u001b[1;33m,\u001b[0m \u001b[1;34m'two'\u001b[0m\u001b[1;33m]\u001b[0m\u001b[1;33m\u001b[0m\u001b[1;33m\u001b[0m\u001b[0m\n\u001b[0;32m      2\u001b[0m list_widgets  = [\n\u001b[1;32m----> 3\u001b[1;33m     widgets.HBox([widgets.Text(\n\u001b[0m\u001b[0;32m      4\u001b[0m         \u001b[0mplaceholder\u001b[0m\u001b[1;33m=\u001b[0m\u001b[1;34m\"name\"\u001b[0m\u001b[1;33m,\u001b[0m\u001b[1;33m\u001b[0m\u001b[1;33m\u001b[0m\u001b[0m\n\u001b[0;32m      5\u001b[0m         \u001b[0mdescription\u001b[0m\u001b[1;33m=\u001b[0m\u001b[0mname\u001b[0m\u001b[1;33m,\u001b[0m\u001b[1;33m\u001b[0m\u001b[1;33m\u001b[0m\u001b[0m\n",
      "\u001b[1;31mNameError\u001b[0m: name 'widgets' is not defined"
     ]
    }
   ],
   "source": [
    "lst = ['one', 'two']\n",
    "list_widgets  = [\n",
    "    widgets.HBox([widgets.Text(\n",
    "        placeholder=\"name\",\n",
    "        description=name,\n",
    "        disabled=False),\n",
    "    button]) for name in lst]\n",
    "\n",
    "children=list_widgets\n",
    "\n",
    "tab_main = widgets.Tab(children)\n",
    "tab_main\n",
    "\n",
    "\n"
   ]
  },
  {
   "cell_type": "code",
   "execution_count": null,
   "metadata": {},
   "outputs": [],
   "source": []
  },
  {
   "cell_type": "code",
   "execution_count": 5,
   "metadata": {},
   "outputs": [
    {
     "data": {
      "application/vnd.jupyter.widget-view+json": {
       "model_id": "a069e5f401d94b2ead8e3e41a72ee376",
       "version_major": 2,
       "version_minor": 0
      },
      "text/plain": [
       "Tab(children=(HBox(children=(Text(value='', description='one', placeholder='name'), Button(description='ok', s…"
      ]
     },
     "metadata": {},
     "output_type": "display_data"
    },
    {
     "name": "stdout",
     "output_type": "stream",
     "text": [
      "button one click\n",
      "button one click\n"
     ]
    }
   ],
   "source": [
    "import ipywidgets as widgets\n",
    "\n",
    "def click1(h):\n",
    "    print('button one click')\n",
    "\n",
    "one = widgets.Button(description=\"ok\")\n",
    "one.on_click(click1)\n",
    "\n",
    "btn = [one, one]\n",
    "lst = [\"one\", \"two\"]\n",
    "list_widgets  = [\n",
    "    widgets.HBox([widgets.Text(\n",
    "        placeholder=\"name\",\n",
    "        description=name,\n",
    "        disabled=False),\n",
    "    btn[num]]) for num, name in enumerate(lst)]\n",
    "\n",
    "children=list_widgets\n",
    "\n",
    "tab = widgets.Tab(children)\n",
    "[tab.set_title(num,name) for num, name in enumerate(lst)]\n",
    "\n",
    "display(tab)"
   ]
  },
  {
   "cell_type": "code",
   "execution_count": null,
   "metadata": {},
   "outputs": [],
   "source": []
  }
 ],
 "metadata": {
  "kernelspec": {
   "display_name": "Python 3",
   "language": "python",
   "name": "python3"
  },
  "language_info": {
   "codemirror_mode": {
    "name": "ipython",
    "version": 3
   },
   "file_extension": ".py",
   "mimetype": "text/x-python",
   "name": "python",
   "nbconvert_exporter": "python",
   "pygments_lexer": "ipython3",
   "version": "3.8.5"
  }
 },
 "nbformat": 4,
 "nbformat_minor": 4
}
