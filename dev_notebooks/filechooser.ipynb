{
 "cells": [
  {
   "cell_type": "code",
   "execution_count": 40,
   "metadata": {},
   "outputs": [
    {
     "ename": "TypeError",
     "evalue": "'NoneType' object is not callable",
     "output_type": "error",
     "traceback": [
      "\u001b[1;31m---------------------------------------------------------------------------\u001b[0m",
      "\u001b[1;31mTypeError\u001b[0m                                 Traceback (most recent call last)",
      "\u001b[1;32m<ipython-input-40-91f4484f7d70>\u001b[0m in \u001b[0;36m<module>\u001b[1;34m\u001b[0m\n\u001b[0;32m     10\u001b[0m \u001b[0mwidget_xy_coords_file\u001b[0m\u001b[1;33m.\u001b[0m\u001b[0mdefault_path\u001b[0m \u001b[1;33m=\u001b[0m \u001b[1;34m'test'\u001b[0m\u001b[1;33m\u001b[0m\u001b[1;33m\u001b[0m\u001b[0m\n\u001b[0;32m     11\u001b[0m \u001b[1;31m#widget_xy_coords_file.reset(path=os.getcwd(), filename='Readme.md')\u001b[0m\u001b[1;33m\u001b[0m\u001b[1;33m\u001b[0m\u001b[1;33m\u001b[0m\u001b[0m\n\u001b[1;32m---> 12\u001b[1;33m \u001b[0mwidget_xy_coords_file\u001b[0m\u001b[1;33m.\u001b[0m\u001b[0mselected_filename\u001b[0m\u001b[1;33m(\u001b[0m\u001b[1;34m'Readme.md'\u001b[0m\u001b[1;33m)\u001b[0m\u001b[1;33m\u001b[0m\u001b[1;33m\u001b[0m\u001b[0m\n\u001b[0m\u001b[0;32m     13\u001b[0m \u001b[1;33m\u001b[0m\u001b[0m\n\u001b[0;32m     14\u001b[0m \u001b[1;33m\u001b[0m\u001b[0m\n",
      "\u001b[1;31mTypeError\u001b[0m: 'NoneType' object is not callable"
     ]
    }
   ],
   "source": [
    "from ipyfilechooser import FileChooser\n",
    "import os \n",
    "\n",
    "widget_xy_coords_file = FileChooser(use_dir_icons=True)\n",
    "#widget_xy_coords_file.filter_pattern = '*.csv'\n",
    "#widget_xy_coords_file.title = '<b>xy_coords</b>'\n",
    "widget_xy_coords_file\n",
    "\n",
    "widget_xy_coords_file.default_filename = 'Readme.md'\n",
    "widget_xy_coords_file.default_path = 'test'\n",
    "#widget_xy_coords_file.reset(path=os.getcwd(), filename='Readme.md')\n",
    "widget_xy_coords_file.selected_filename('Readme.md')\n",
    "\n",
    "\n",
    "\n",
    "display(widget_xy_coords_file)"
   ]
  },
  {
   "cell_type": "code",
   "execution_count": 43,
   "metadata": {},
   "outputs": [
    {
     "data": {
      "text/plain": [
       "'/tmp/d'"
      ]
     },
     "execution_count": 43,
     "metadata": {},
     "output_type": "execute_result"
    }
   ],
   "source": [
    "import os\n",
    "path , file = os.path.split(\"/tmp/d/file.dat\") \n",
    "path\n",
    "\n"
   ]
  },
  {
   "cell_type": "code",
   "execution_count": 34,
   "metadata": {},
   "outputs": [
    {
     "data": {
      "application/vnd.jupyter.widget-view+json": {
       "model_id": "984039296e534b02b8fe3cd0835d12c0",
       "version_major": 2,
       "version_minor": 0
      },
      "text/plain": [
       "FileChooser(path='C:\\Users\\Benjamin\\Documents\\Z_Database\\geometadp', filename='', title='HTML(value='', layout…"
      ]
     },
     "metadata": {},
     "output_type": "display_data"
    },
    {
     "name": "stdout",
     "output_type": "stream",
     "text": [
      "None\n",
      "None\n",
      "None\n"
     ]
    }
   ],
   "source": [
    "from ipyfilechooser import FileChooser\n",
    "ddir = os.getcwd()\n",
    "\n",
    "# Create and display a FileChooser widget\n",
    "fc = FileChooser(ddir)\n",
    "display(fc)\n",
    "\n",
    "# Print the selected path, filename, or both\n",
    "print(fc.selected_path)\n",
    "print(fc.selected_filename)\n",
    "print(fc.selected)\n",
    "\n",
    "# Change defaults and reset the dialog\n",
    "fc.default_path = ddir\n",
    "fc.default_filename = 'Readme.md'\n",
    "fc.reset()\n",
    "\n",
    "# Shorthand reset\n",
    "fc.reset(path=ddir, filename='Readme.md')\n",
    "\n",
    "# Change hidden files\n",
    "fc.show_hidden = True\n",
    "\n",
    "# Show or hide folder icons\n",
    "fc.use_dir_icons = True\n",
    "\n",
    "# Switch to folder-only mode\n",
    "fc.show_only_dirs = True\n",
    "\n",
    "# Set a file filter pattern (uses https://docs.python.org/3/library/fnmatch.html)\n",
    "#fc.filter_pattern = '*.txt'\n",
    "\n",
    "# Set multiple file filter patterns (uses https://docs.python.org/3/library/fnmatch.html)\n",
    "#fc.filter_pattern = ['*.jpg', '*.png']\n",
    "\n",
    "# Change the title (use '' to hide)\n",
    "#fc.title = '<b>FileChooser title</b>'\n",
    "\n",
    "# Sample callback function\n",
    "def change_title(chooser):\n",
    "    chooser.title = '<b>Callback function executed</b>'\n",
    "\n",
    "# Register callback function\n",
    "fc.register_callback(change_title)\n"
   ]
  }
 ],
 "metadata": {
  "kernelspec": {
   "display_name": "Python 3",
   "language": "python",
   "name": "python3"
  },
  "language_info": {
   "codemirror_mode": {
    "name": "ipython",
    "version": 3
   },
   "file_extension": ".py",
   "mimetype": "text/x-python",
   "name": "python",
   "nbconvert_exporter": "python",
   "pygments_lexer": "ipython3",
   "version": "3.8.5"
  }
 },
 "nbformat": 4,
 "nbformat_minor": 4
}
