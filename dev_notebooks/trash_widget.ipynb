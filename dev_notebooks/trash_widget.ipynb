{
 "cells": [
  {
   "cell_type": "code",
   "execution_count": 15,
   "metadata": {},
   "outputs": [
    {
     "data": {
      "application/vnd.jupyter.widget-view+json": {
       "model_id": "d0924f7e0f48478dbb5ca29a11b39d1d",
       "version_major": 2,
       "version_minor": 0
      },
      "text/plain": [
       "VBox(children=(HBox(children=(Label(value='0'), Label(value='1'), Label(value='2'), Button(icon='plus-circle',…"
      ]
     },
     "metadata": {},
     "output_type": "display_data"
    },
    {
     "data": {
      "application/vnd.jupyter.widget-view+json": {
       "model_id": "0b4474106cbe4d449d2c8b45a02eb90e",
       "version_major": 2,
       "version_minor": 0
      },
      "text/plain": [
       "Output()"
      ]
     },
     "metadata": {},
     "output_type": "display_data"
    }
   ],
   "source": [
    "import ipywidgets as w\n",
    "\n",
    "def add_btn_clicked(b):\n",
    "    input_box.children = (input_box.children[0], line()) + input_box.children[1:]\n",
    "\n",
    "def delete_btn_clicked(b):\n",
    "    b.parent.layout.display = 'none'\n",
    "\n",
    "add = w.Button(icon=\"plus-circle\")\n",
    "add.on_click(add_btn_clicked)\n",
    "\n",
    "title = w.HBox([w.Label(value=str(i)) for i in range(3)]+[add])\n",
    "\n",
    "def line():\n",
    "    delete = w.Button(icon=\"trash\")\n",
    "    delete.on_click(delete_btn_clicked)\n",
    "    val_widgets = [w.FloatText(value=i) for i in range(3)]\n",
    "    container = w.HBox()\n",
    "    delete.parent = container\n",
    "    for widg in val_widgets:\n",
    "        widg.parent = container\n",
    "    children = val_widgets + [delete]\n",
    "    container.children = children\n",
    "    return container\n",
    "\n",
    "input_box = w.VBox([title,line()])\n",
    "output = w.Output()\n",
    "\n",
    "display(input_box)\n",
    "display(output)"
   ]
  }
 ],
 "metadata": {
  "kernelspec": {
   "display_name": "Python 3",
   "language": "python",
   "name": "python3"
  },
  "language_info": {
   "codemirror_mode": {
    "name": "ipython",
    "version": 3
   },
   "file_extension": ".py",
   "mimetype": "text/x-python",
   "name": "python",
   "nbconvert_exporter": "python",
   "pygments_lexer": "ipython3",
   "version": "3.8.5"
  }
 },
 "nbformat": 4,
 "nbformat_minor": 4
}
