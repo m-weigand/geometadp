{
 "cells": [
  {
   "cell_type": "code",
   "execution_count": null,
   "metadata": {},
   "outputs": [
    {
     "data": {
      "text/html": [
       "<script>Jupyter.notebook.kernel.restart()</script>"
      ]
     },
     "metadata": {},
     "output_type": "display_data"
    }
   ],
   "source": [
    "from IPython.display import display_html\n",
    "def restartkernel() :\n",
    "    display_html(\"<script>Jupyter.notebook.kernel.restart()</script>\",raw=True)\n",
    "restartkernel()\n",
    "import IPython\n",
    "\n",
    "import os \n",
    "#os.chdir('../test_ERT_TL/')\n",
    "p#rint(os.getcwd())"
   ]
  },
  {
   "cell_type": "markdown",
   "metadata": {},
   "source": [
    "## Full GUI"
   ]
  },
  {
   "cell_type": "code",
   "execution_count": 1,
   "metadata": {
    "scrolled": true
   },
   "outputs": [
    {
     "data": {
      "application/vnd.jupyter.widget-view+json": {
       "model_id": "b2d70e0efcfd45108b70a647cc597fa9",
       "version_major": 2,
       "version_minor": 0
      },
      "text/plain": [
       "Output()"
      ]
     },
     "metadata": {},
     "output_type": "display_data"
    }
   ],
   "source": [
    "from lib.geometadp import md_manager\n",
    "obj = md_manager.geo_metadata()\n",
    "obj.manage()"
   ]
  },
  {
   "cell_type": "code",
   "execution_count": 2,
   "metadata": {},
   "outputs": [
    {
     "data": {
      "application/vnd.jupyter.widget-view+json": {
       "model_id": "0be72c742cd84851bca2935d15275b6b",
       "version_major": 2,
       "version_minor": 0
      },
      "text/plain": [
       "FileUpload(value={}, description='Upload')"
      ]
     },
     "metadata": {},
     "output_type": "display_data"
    }
   ],
   "source": [
    "import ipywidgets as widgets\n",
    "up = widgets.FileUpload()\n",
    "\n",
    "def onclick(change):\n",
    "    #print(change.new)\n",
    "    #print(change.new)\n",
    "    uploaded_file = up.value[0]\n",
    "    uploaded_file[\"size\"]\n",
    "    uploaded_file.size\n",
    "\n",
    "up.observe(onclick,'value')\n",
    "\n",
    "up\n",
    "\n"
   ]
  },
  {
   "cell_type": "code",
   "execution_count": null,
   "metadata": {},
   "outputs": [],
   "source": []
  },
  {
   "cell_type": "code",
   "execution_count": null,
   "metadata": {},
   "outputs": [],
   "source": []
  },
  {
   "cell_type": "code",
   "execution_count": null,
   "metadata": {},
   "outputs": [],
   "source": []
  }
 ],
 "metadata": {
  "celltoolbar": "Format de la Cellule Texte Brut",
  "jupytext": {
   "formats": "ipynb,py:percent"
  },
  "kernelspec": {
   "display_name": "Python 3",
   "language": "python",
   "name": "python3"
  },
  "language_info": {
   "codemirror_mode": {
    "name": "ipython",
    "version": 3
   },
   "file_extension": ".py",
   "mimetype": "text/x-python",
   "name": "python",
   "nbconvert_exporter": "python",
   "pygments_lexer": "ipython3",
   "version": "3.8.5"
  },
  "widgets": {
   "application/vnd.jupyter.widget-state+json": {
    "state": {
     "029dab702a1b41be9b98393c7468652e": {
      "model_module": "@jupyter-widgets/controls",
      "model_module_version": "1.5.0",
      "model_name": "VBoxModel",
      "state": {
       "children": [
        "IPY_MODEL_c56c7860573e4182b472628477a4da9c",
        "IPY_MODEL_e7c09cfbc3564e1bb014bc9354f3fb1f",
        "IPY_MODEL_dc7fee709f6b4a9a927c69d855fd141f",
        "IPY_MODEL_a41e61af4da64421b2f1a77a04eb8886"
       ],
       "layout": "IPY_MODEL_3cc0ab090d4c418e8cca045bd9494d45"
      }
     },
     "03690c8270304eeea0dd809ca29a7b60": {
      "model_module": "@jupyter-widgets/controls",
      "model_module_version": "1.5.0",
      "model_name": "DescriptionStyleModel",
      "state": {
       "description_width": "initial"
      }
     },
     "039c99252db84c79aeb50ce1f3245578": {
      "model_module": "@jupyter-widgets/base",
      "model_module_version": "1.2.0",
      "model_name": "LayoutModel",
      "state": {}
     },
     "048db7f149be44a38167ed3d24a4c789": {
      "model_module": "@jupyter-widgets/base",
      "model_module_version": "1.2.0",
      "model_name": "LayoutModel",
      "state": {}
     },
     "065a3f7fe66a4371af52c89e629d4023": {
      "model_module": "@jupyter-widgets/controls",
      "model_module_version": "1.5.0",
      "model_name": "DescriptionStyleModel",
      "state": {
       "description_width": "initial"
      }
     },
     "06943c7eafb74f1987ce018898faca36": {
      "model_module": "@jupyter-widgets/controls",
      "model_module_version": "1.5.0",
      "model_name": "DescriptionStyleModel",
      "state": {
       "description_width": "initial"
      }
     },
     "07821f3f220244c6bfa53cd16f65ea71": {
      "model_module": "@jupyter-widgets/controls",
      "model_module_version": "1.5.0",
      "model_name": "DescriptionStyleModel",
      "state": {
       "description_width": "initial"
      }
     },
     "07aa5b9b44604c75b25f01fdbb182cfa": {
      "model_module": "@jupyter-widgets/controls",
      "model_module_version": "1.5.0",
      "model_name": "RadioButtonsModel",
      "state": {
       "_options_labels": [
        "VCP",
        "VMD",
        "PRP",
        "HCP",
        "HMD"
       ],
       "description": "Coil orientation:",
       "index": 0,
       "layout": "IPY_MODEL_d2fb9b0e841c4d8b8a7d3c97519f7285",
       "style": "IPY_MODEL_06943c7eafb74f1987ce018898faca36"
      }
     },
     "082333e8f14042889fd5b8daa64f4705": {
      "model_module": "@jupyter-widgets/controls",
      "model_module_version": "1.5.0",
      "model_name": "DescriptionStyleModel",
      "state": {
       "description_width": ""
      }
     },
     "0a476eeadcf64bc2986ac41efb0cf161": {
      "model_module": "@jupyter-widgets/base",
      "model_module_version": "1.2.0",
      "model_name": "LayoutModel",
      "state": {}
     },
     "0b613991b6a44e7284ba179a6cf9d52d": {
      "model_module": "@jupyter-widgets/base",
      "model_module_version": "1.2.0",
      "model_name": "LayoutModel",
      "state": {}
     },
     "0df48983781545a1abc7ec93aaa99b4d": {
      "model_module": "@jupyter-widgets/controls",
      "model_module_version": "1.5.0",
      "model_name": "VBoxModel",
      "state": {
       "children": [
        "IPY_MODEL_759f1366d78649b68f643d277a747546"
       ],
       "layout": "IPY_MODEL_5300e41a54f24958979496fbbd7732eb"
      }
     },
     "0e4ffcde06484a2789c4394036471c3f": {
      "model_module": "@jupyter-widgets/controls",
      "model_module_version": "1.5.0",
      "model_name": "DescriptionStyleModel",
      "state": {
       "description_width": ""
      }
     },
     "0f24b8342c344acda5a0bc6b3f77ee56": {
      "model_module": "@jupyter-widgets/controls",
      "model_module_version": "1.5.0",
      "model_name": "RadioButtonsModel",
      "state": {
       "_options_labels": [
        "JSON",
        "XML"
       ],
       "description": "Export type:",
       "index": 0,
       "layout": "IPY_MODEL_6f9e61984d114849a2970171687f7d4d",
       "style": "IPY_MODEL_309c927aaf094c2aafed7f660ff4ef0d"
      }
     },
     "10312bc85d4c440db82043df09fe6690": {
      "model_module": "@jupyter-widgets/base",
      "model_module_version": "1.2.0",
      "model_name": "LayoutModel",
      "state": {}
     },
     "11b630ad165e402cb04dbf54c3598a28": {
      "model_module": "@jupyter-widgets/controls",
      "model_module_version": "1.5.0",
      "model_name": "TextModel",
      "state": {
       "description": "Electrode spacing:",
       "layout": "IPY_MODEL_3e68fa6d21d64cb3a6df7de2441f60c9",
       "style": "IPY_MODEL_dbd1120368144be093a34e8eff4b4502"
      }
     },
     "13900315a2ce4e46a24f1aa26a1ce4d2": {
      "model_module": "@jupyter-widgets/controls",
      "model_module_version": "1.5.0",
      "model_name": "HTMLModel",
      "state": {
       "layout": "IPY_MODEL_d343554d0cb64fdbaa352df9c456e3e7",
       "style": "IPY_MODEL_a9ca525c2f334a29a5a7cffaf3f2cf96",
       "value": "\n            <h3> EM metadata </h3>\n            <hr style=\"height:1px;border-width:0;color:black;background-color:gray\">\n            Please refer to the <a href=\"https://agrogeophy.github.io/catalog/schema_documentation.html#table-em-metadata\">online EM metadata documentation </a>\n             "
      }
     },
     "151987c732404609bc3034eef5cd04dd": {
      "model_module": "@jupyter-widgets/controls",
      "model_module_version": "1.5.0",
      "model_name": "DescriptionStyleModel",
      "state": {
       "description_width": "initial"
      }
     },
     "15efb90950da4cc39a1053e12ede9cb0": {
      "model_module": "@jupyter-widgets/base",
      "model_module_version": "1.2.0",
      "model_name": "LayoutModel",
      "state": {}
     },
     "1632873a466a4d449fad7b4718a06374": {
      "model_module": "@jupyter-widgets/base",
      "model_module_version": "1.2.0",
      "model_name": "LayoutModel",
      "state": {
       "display": "none"
      }
     },
     "16ea719b750c462182ffc942bacd144a": {
      "model_module": "@jupyter-widgets/controls",
      "model_module_version": "1.5.0",
      "model_name": "TextModel",
      "state": {
       "description": "Physical property investigated:",
       "layout": "IPY_MODEL_ccc8a4cbbb894091970de22a9816ada5",
       "style": "IPY_MODEL_829327502b1346aba111b95fa6767d7d"
      }
     },
     "180e63ad56b040719049fabab8bbf241": {
      "model_module": "@jupyter-widgets/controls",
      "model_module_version": "1.5.0",
      "model_name": "DescriptionStyleModel",
      "state": {
       "description_width": ""
      }
     },
     "190d47cb89b04454bb72f8a0c2e8a268": {
      "model_module": "@jupyter-widgets/controls",
      "model_module_version": "1.5.0",
      "model_name": "DescriptionStyleModel",
      "state": {
       "description_width": ""
      }
     },
     "1cd2799d29c5477fbe87e0d96bfc7f59": {
      "model_module": "@jupyter-widgets/base",
      "model_module_version": "1.2.0",
      "model_name": "LayoutModel",
      "state": {}
     },
     "1f81aae76d1d4ea282ce158d6d7d0a79": {
      "model_module": "@jupyter-widgets/controls",
      "model_module_version": "1.5.0",
      "model_name": "DescriptionStyleModel",
      "state": {
       "description_width": ""
      }
     },
     "1ff287e5f74c4d5ca60c159dc6a80c0e": {
      "model_module": "@jupyter-widgets/base",
      "model_module_version": "1.2.0",
      "model_name": "LayoutModel",
      "state": {}
     },
     "22d75bc4cf0c4c96a856e8dc9056c3e8": {
      "model_module": "@jupyter-widgets/controls",
      "model_module_version": "1.5.0",
      "model_name": "RadioButtonsModel",
      "state": {
       "_options_labels": [
        "Laboratory Measurement",
        "Field Measurement"
       ],
       "description": "Measurement type:",
       "index": 0,
       "layout": "IPY_MODEL_e4822503cc314e448449c4dfb7584084",
       "style": "IPY_MODEL_151987c732404609bc3034eef5cd04dd"
      }
     },
     "23804974202a4ca3950a6730fbb45ce3": {
      "model_module": "@jupyter-widgets/base",
      "model_module_version": "1.2.0",
      "model_name": "LayoutModel",
      "state": {}
     },
     "25ed7dabb764479da717b7f10301aefc": {
      "model_module": "@jupyter-widgets/controls",
      "model_module_version": "1.5.0",
      "model_name": "HTMLModel",
      "state": {
       "layout": "IPY_MODEL_7ab0635d85664f69b9943ceeb134dd81",
       "style": "IPY_MODEL_d4fe2d77ff704b6f911592d8577e3bc1",
       "value": "\n            <h3> Sampling metadata </h3>\n            <hr style=\"height:1px;border-width:0;color:black;background-color:gray\">\n            Please refer to the <a href=\"https://agrogeophy.github.io/catalog/schema_documentation.html#table-sampling\">online sampling metadata documentation </a>      \n             "
      }
     },
     "277b99d6af754445b59b4ca0841506d7": {
      "model_module": "@jupyter-widgets/controls",
      "model_module_version": "1.5.0",
      "model_name": "DescriptionStyleModel",
      "state": {
       "description_width": ""
      }
     },
     "281f3b996cea4e5ea3a03ac851c17adb": {
      "model_module": "@jupyter-widgets/controls",
      "model_module_version": "1.5.0",
      "model_name": "DescriptionStyleModel",
      "state": {
       "description_width": "initial"
      }
     },
     "28c107bd211c4df4a83f9cf73f9c4c16": {
      "model_module": "@jupyter-widgets/base",
      "model_module_version": "1.2.0",
      "model_name": "LayoutModel",
      "state": {}
     },
     "28f6b8f176f748d2b1b9d34dc27328cf": {
      "model_module": "@jupyter-widgets/base",
      "model_module_version": "1.2.0",
      "model_name": "LayoutModel",
      "state": {}
     },
     "294aae44ec08496fa631c20099f367a0": {
      "model_module": "@jupyter-widgets/controls",
      "model_module_version": "1.5.0",
      "model_name": "DescriptionStyleModel",
      "state": {
       "description_width": "initial"
      }
     },
     "29ba5d6509214c8593ebc35ae481033e": {
      "model_module": "@jupyter-widgets/controls",
      "model_module_version": "1.5.0",
      "model_name": "RadioButtonsModel",
      "state": {
       "_options_labels": [
        "Wenner",
        "WS",
        "user defined"
       ],
       "description": "Electrode sequence:",
       "index": 0,
       "layout": "IPY_MODEL_ea624f96b4a04f2bb62d86f68d262f26",
       "style": "IPY_MODEL_294aae44ec08496fa631c20099f367a0"
      }
     },
     "29eb4c2e43c44e19b97e50e7f1537f01": {
      "model_module": "@jupyter-widgets/controls",
      "model_module_version": "1.5.0",
      "model_name": "TextModel",
      "state": {
       "description": "Replicate datasets:",
       "layout": "IPY_MODEL_92d2df5faf9a488baddca9670c99b6d2",
       "style": "IPY_MODEL_281f3b996cea4e5ea3a03ac851c17adb"
      }
     },
     "2b536b1081054c60925baf5be5237d2f": {
      "model_module": "@jupyter-widgets/controls",
      "model_module_version": "1.5.0",
      "model_name": "HTMLModel",
      "state": {
       "layout": "IPY_MODEL_37ce8cc678974e43a96856febcdcdd5c",
       "style": "IPY_MODEL_8806a967d48247339f9abc81ab136a7a",
       "value": "\n            <h3> Survey metadata </h3>\n            <hr style=\"height:1px;border-width:0;color:black;background-color:gray\">\n             For the choice of the method please report to <a href=\"https://agrogeophy.github.io/datasets/glossary.html\">the online documentation glossary</a>\n             "
      }
     },
     "2b7deaec38dc41a897c986365ec3e1b8": {
      "model_module": "@jupyter-widgets/controls",
      "model_module_version": "1.5.0",
      "model_name": "VBoxModel",
      "state": {
       "children": [
        "IPY_MODEL_aedc01fc93f248cca8d69cdd9304c4c0",
        "IPY_MODEL_b1643b33755a4c8ea6d66cd11eed8ee7",
        "IPY_MODEL_de2e9cc9b88641678f3e8be3f9fb6cb1",
        "IPY_MODEL_387901a9e36e4aaea81b1e27f11a725b",
        "IPY_MODEL_16ea719b750c462182ffc942bacd144a",
        "IPY_MODEL_4184ba50090f49ed9f24ae956c813d86"
       ],
       "layout": "IPY_MODEL_adce413382e44327a75fe531f54bac24"
      }
     },
     "2c78472402d24a489cc7cb8e1cf9f43a": {
      "model_module": "@jupyter-widgets/base",
      "model_module_version": "1.2.0",
      "model_name": "LayoutModel",
      "state": {}
     },
     "2d228cf9b5324afeb3e1a4c0c29da290": {
      "model_module": "@jupyter-widgets/controls",
      "model_module_version": "1.5.0",
      "model_name": "DescriptionStyleModel",
      "state": {
       "description_width": "initial"
      }
     },
     "2d860eba38c04ff98ed29b4801b05024": {
      "model_module": "@jupyter-widgets/controls",
      "model_module_version": "1.5.0",
      "model_name": "TextModel",
      "state": {
       "description": "Free ERT metadata to add",
       "layout": "IPY_MODEL_4430c9a8fce444e99f66971abfd1681b",
       "style": "IPY_MODEL_700370430b37488dbc1a634413559262"
      }
     },
     "2df2d7a2992b430ab1c3acd7b9511e9a": {
      "model_module": "@jupyter-widgets/controls",
      "model_module_version": "1.5.0",
      "model_name": "DescriptionStyleModel",
      "state": {
       "description_width": ""
      }
     },
     "2eb32dc4856b46cca2528752327fb3e1": {
      "model_module": "@jupyter-widgets/base",
      "model_module_version": "1.2.0",
      "model_name": "LayoutModel",
      "state": {}
     },
     "2ee0c61cebb74f86a071281bc639e950": {
      "model_module": "@jupyter-widgets/controls",
      "model_module_version": "1.5.0",
      "model_name": "DescriptionStyleModel",
      "state": {
       "description_width": "initial"
      }
     },
     "2f22ea5ac441429fa77d9979e6d27eb7": {
      "model_module": "@jupyter-widgets/base",
      "model_module_version": "1.2.0",
      "model_name": "LayoutModel",
      "state": {}
     },
     "3036efc5dc9c4b61be0309122d4a7f23": {
      "model_module": "@jupyter-widgets/base",
      "model_module_version": "1.2.0",
      "model_name": "LayoutModel",
      "state": {}
     },
     "309c927aaf094c2aafed7f660ff4ef0d": {
      "model_module": "@jupyter-widgets/controls",
      "model_module_version": "1.5.0",
      "model_name": "DescriptionStyleModel",
      "state": {
       "description_width": ""
      }
     },
     "31bf64871c39466a8e53bbe0a72e1c11": {
      "model_module": "@jupyter-widgets/controls",
      "model_module_version": "1.5.0",
      "model_name": "DescriptionStyleModel",
      "state": {
       "description_width": "initial"
      }
     },
     "3393ab2d65104f6cbe7af59830cf1d9e": {
      "model_module": "@jupyter-widgets/base",
      "model_module_version": "1.2.0",
      "model_name": "LayoutModel",
      "state": {}
     },
     "347e7abfcc4d481b9ca3c57a2ced7fe5": {
      "model_module": "@jupyter-widgets/controls",
      "model_module_version": "1.5.0",
      "model_name": "HTMLModel",
      "state": {
       "layout": "IPY_MODEL_350faee80e614838b7a0d104d55e5203",
       "style": "IPY_MODEL_78043e16ac2b4be187b89ae4a2697626",
       "value": "\n            <h3> Quality metadata </h3>\n            <hr style=\"height:1px;border-width:0;color:black;background-color:gray\">\n            Please refer to the <a href=\"https://agrogeophy.github.io/catalog/schema_documentation.html#table-data-quality-assessment-metadata\">online quality metadata documentation </a>\n             "
      }
     },
     "34d5c27d96c144c196b5ba5e1d243aa6": {
      "model_module": "@jupyter-widgets/base",
      "model_module_version": "1.2.0",
      "model_name": "LayoutModel",
      "state": {}
     },
     "350faee80e614838b7a0d104d55e5203": {
      "model_module": "@jupyter-widgets/base",
      "model_module_version": "1.2.0",
      "model_name": "LayoutModel",
      "state": {}
     },
     "35759e71d02746bcb2ce28e106fe7329": {
      "model_module": "@jupyter-widgets/controls",
      "model_module_version": "1.5.0",
      "model_name": "TextModel",
      "state": {
       "description": "North, West, East, and South Bounding Latitudes:",
       "layout": "IPY_MODEL_15efb90950da4cc39a1053e12ede9cb0",
       "style": "IPY_MODEL_390118a3442f4853ab1bfc34c1a0ba43"
      }
     },
     "35c967532c824a5cb62c5367471587f7": {
      "model_module": "@jupyter-widgets/controls",
      "model_module_version": "1.5.0",
      "model_name": "DescriptionStyleModel",
      "state": {
       "description_width": ""
      }
     },
     "36a567b824b3419a86b7565f2393f6e9": {
      "model_module": "@jupyter-widgets/controls",
      "model_module_version": "1.5.0",
      "model_name": "VBoxModel",
      "state": {
       "children": [
        "IPY_MODEL_8ce4fca2ecb045099dc8b3a0b781bdb6"
       ],
       "layout": "IPY_MODEL_9d16c0272d934c0aabce0afe23227054"
      }
     },
     "37a29c837cab443397b7b9847db253fe": {
      "model_module": "@jupyter-widgets/controls",
      "model_module_version": "1.5.0",
      "model_name": "DescriptionStyleModel",
      "state": {
       "description_width": ""
      }
     },
     "37ce8cc678974e43a96856febcdcdd5c": {
      "model_module": "@jupyter-widgets/base",
      "model_module_version": "1.2.0",
      "model_name": "LayoutModel",
      "state": {}
     },
     "37d2244b4d524257a889a4dedeeaa85e": {
      "model_module": "@jupyter-widgets/controls",
      "model_module_version": "1.5.0",
      "model_name": "VBoxModel",
      "state": {
       "children": [
        "IPY_MODEL_f85721cb7e6b41bd9b60d89bd605cd31"
       ],
       "layout": "IPY_MODEL_7863527a798b43ae82c8a0b718c73ebd"
      }
     },
     "3838635f264b4940b9bf2e726b484f8f": {
      "model_module": "@jupyter-widgets/controls",
      "model_module_version": "1.5.0",
      "model_name": "DescriptionStyleModel",
      "state": {
       "description_width": "initial"
      }
     },
     "387901a9e36e4aaea81b1e27f11a725b": {
      "model_module": "@jupyter-widgets/controls",
      "model_module_version": "1.5.0",
      "model_name": "TextModel",
      "state": {
       "description": "Dataset DOI:",
       "layout": "IPY_MODEL_1ff287e5f74c4d5ca60c159dc6a80c0e",
       "style": "IPY_MODEL_9ec94a78a20448a290aefbcc5da2098c"
      }
     },
     "390118a3442f4853ab1bfc34c1a0ba43": {
      "model_module": "@jupyter-widgets/controls",
      "model_module_version": "1.5.0",
      "model_name": "DescriptionStyleModel",
      "state": {
       "description_width": "initial"
      }
     },
     "39e861268ff741ebbeb97a2c72ec7205": {
      "model_module": "@jupyter-widgets/base",
      "model_module_version": "1.2.0",
      "model_name": "LayoutModel",
      "state": {}
     },
     "3c09f4b0aefe4bd4bf2bf25c310e0dad": {
      "model_module": "@jupyter-widgets/controls",
      "model_module_version": "1.5.0",
      "model_name": "DescriptionStyleModel",
      "state": {
       "description_width": ""
      }
     },
     "3c5f17b6be1b4df19c3f94e8bbe36412": {
      "model_module": "@jupyter-widgets/controls",
      "model_module_version": "1.5.0",
      "model_name": "TextModel",
      "state": {
       "description": "Electrode spacing:",
       "layout": "IPY_MODEL_2c78472402d24a489cc7cb8e1cf9f43a",
       "style": "IPY_MODEL_40332dda24ff4b60b790fe27b8033d0d"
      }
     },
     "3c7cf13be7c04f1ea95f7cd9c957a1c3": {
      "model_module": "@jupyter-widgets/base",
      "model_module_version": "1.2.0",
      "model_name": "LayoutModel",
      "state": {}
     },
     "3ca5a7d332174facb3f65c9c6e1718ca": {
      "model_module": "@jupyter-widgets/controls",
      "model_module_version": "1.5.0",
      "model_name": "DatePickerModel",
      "state": {
       "description": "Datetime of measurement",
       "disabled": false,
       "layout": "IPY_MODEL_5ab269a2533c478fbab91f92e62a7b30",
       "style": "IPY_MODEL_8796fee8ed954c9a975490b5152f23c0"
      }
     },
     "3cc0ab090d4c418e8cca045bd9494d45": {
      "model_module": "@jupyter-widgets/base",
      "model_module_version": "1.2.0",
      "model_name": "LayoutModel",
      "state": {}
     },
     "3e68fa6d21d64cb3a6df7de2441f60c9": {
      "model_module": "@jupyter-widgets/base",
      "model_module_version": "1.2.0",
      "model_name": "LayoutModel",
      "state": {}
     },
     "40332dda24ff4b60b790fe27b8033d0d": {
      "model_module": "@jupyter-widgets/controls",
      "model_module_version": "1.5.0",
      "model_name": "DescriptionStyleModel",
      "state": {
       "description_width": "initial"
      }
     },
     "4184ba50090f49ed9f24ae956c813d86": {
      "model_module": "@jupyter-widgets/controls",
      "model_module_version": "1.5.0",
      "model_name": "TextModel",
      "state": {
       "description": "North, West, East, and South Bounding Latitudes:",
       "layout": "IPY_MODEL_5bbbc4f286774b3dadedd3bad03de59d",
       "style": "IPY_MODEL_b1a35fac98ef4d2b8c3f88128e4135e9"
      }
     },
     "4430c9a8fce444e99f66971abfd1681b": {
      "model_module": "@jupyter-widgets/base",
      "model_module_version": "1.2.0",
      "model_name": "LayoutModel",
      "state": {}
     },
     "45439b5279e345c1ac0aa0d51d8f9e56": {
      "model_module": "@jupyter-widgets/base",
      "model_module_version": "1.2.0",
      "model_name": "LayoutModel",
      "state": {}
     },
     "46a34779160a424e808d51cfff79296c": {
      "model_module": "@jupyter-widgets/controls",
      "model_module_version": "1.5.0",
      "model_name": "TextModel",
      "state": {
       "description": "Dataset DOI:",
       "layout": "IPY_MODEL_b08b12e111e14a28853153d0e5fe3514",
       "style": "IPY_MODEL_9332d19898b64b00b609158ceb90631d"
      }
     },
     "471542eba9ab4bdc8d0d52f6d9b042ae": {
      "model_module": "@jupyter-widgets/base",
      "model_module_version": "1.2.0",
      "model_name": "LayoutModel",
      "state": {}
     },
     "47b776d9c3a44f48806546ee96ad53d0": {
      "model_module": "@jupyter-widgets/controls",
      "model_module_version": "1.5.0",
      "model_name": "DescriptionStyleModel",
      "state": {
       "description_width": "initial"
      }
     },
     "48104b750e244a11a5c57ea706cbc3ef": {
      "model_module": "@jupyter-widgets/base",
      "model_module_version": "1.2.0",
      "model_name": "LayoutModel",
      "state": {}
     },
     "4953ecf1d03b445e88b7ac2a8a472af8": {
      "model_module": "@jupyter-widgets/base",
      "model_module_version": "1.2.0",
      "model_name": "LayoutModel",
      "state": {}
     },
     "4993616d5c254c57b8b2222cf8befbc6": {
      "model_module": "@jupyter-widgets/base",
      "model_module_version": "1.2.0",
      "model_name": "LayoutModel",
      "state": {}
     },
     "4994a858a2e14b87b16a5c6fc4012ea3": {
      "model_module": "@jupyter-widgets/controls",
      "model_module_version": "1.5.0",
      "model_name": "HTMLModel",
      "state": {
       "layout": "IPY_MODEL_6d8b64f2ef0a4407b177e5e76793c30b",
       "style": "IPY_MODEL_082333e8f14042889fd5b8daa64f4705",
       "value": "<hr style=\"height:5px;border-width:0;color:black;background-color:gray\"><hr /><h3>Preview of metadata export:<h3 />"
      }
     },
     "49d391320d97423b9c1756247fa5c748": {
      "model_module": "@jupyter-widgets/base",
      "model_module_version": "1.2.0",
      "model_name": "LayoutModel",
      "state": {}
     },
     "4a1c2abe8a4446e9825532cfe6ec2878": {
      "model_module": "@jupyter-widgets/controls",
      "model_module_version": "1.5.0",
      "model_name": "DescriptionStyleModel",
      "state": {
       "description_width": ""
      }
     },
     "4b5ba78275fe42ab8c9b5796d66e6028": {
      "model_module": "@jupyter-widgets/base",
      "model_module_version": "1.2.0",
      "model_name": "LayoutModel",
      "state": {}
     },
     "4d32a17edb404931bc85f90b3132944c": {
      "model_module": "@jupyter-widgets/controls",
      "model_module_version": "1.5.0",
      "model_name": "DescriptionStyleModel",
      "state": {
       "description_width": ""
      }
     },
     "4e9f5a7f149b415385bdd1be4fd8c643": {
      "model_module": "@jupyter-widgets/base",
      "model_module_version": "1.2.0",
      "model_name": "LayoutModel",
      "state": {}
     },
     "5300e41a54f24958979496fbbd7732eb": {
      "model_module": "@jupyter-widgets/base",
      "model_module_version": "1.2.0",
      "model_name": "LayoutModel",
      "state": {}
     },
     "5517d6b62ae24955bfea8b2b3855f572": {
      "model_module": "@jupyter-widgets/controls",
      "model_module_version": "1.5.0",
      "model_name": "DescriptionStyleModel",
      "state": {
       "description_width": ""
      }
     },
     "5706ed66f0d84b4ba69fb5d1160df0c0": {
      "model_module": "@jupyter-widgets/base",
      "model_module_version": "1.2.0",
      "model_name": "LayoutModel",
      "state": {}
     },
     "5743951027894429b1010fa85a72cf90": {
      "model_module": "@jupyter-widgets/controls",
      "model_module_version": "1.5.0",
      "model_name": "TextModel",
      "state": {
       "description": "Free EM metadata to add",
       "layout": "IPY_MODEL_2eb32dc4856b46cca2528752327fb3e1",
       "style": "IPY_MODEL_69f4935c116e42a0a7ca19c41e5af1d0"
      }
     },
     "57ca106f0c8a4cc79eff29f8de8394fd": {
      "model_module": "@jupyter-widgets/controls",
      "model_module_version": "1.5.0",
      "model_name": "DescriptionStyleModel",
      "state": {
       "description_width": "initial"
      }
     },
     "57dbc66f43a74aec8d4cf7ed50d6cd98": {
      "model_module": "@jupyter-widgets/controls",
      "model_module_version": "1.5.0",
      "model_name": "DescriptionStyleModel",
      "state": {
       "description_width": "initial"
      }
     },
     "583fe2839b1147748625c96caf810547": {
      "model_module": "@jupyter-widgets/base",
      "model_module_version": "1.2.0",
      "model_name": "LayoutModel",
      "state": {}
     },
     "5902bd5cd6fa412b9df00ec14c4e531a": {
      "model_module": "@jupyter-widgets/controls",
      "model_module_version": "1.5.0",
      "model_name": "HTMLModel",
      "state": {
       "layout": "IPY_MODEL_1cd2799d29c5477fbe87e0d96bfc7f59",
       "style": "IPY_MODEL_5d246b170d014d0dbadb418664e024e8",
       "value": "<hr style=\"height:5px;border-width:0;color:black;background-color:gray\"><hr /><h3>Preview of metadata export:<h3 />"
      }
     },
     "5939773e48334dd2803d26432c7605c2": {
      "model_module": "@jupyter-widgets/base",
      "model_module_version": "1.2.0",
      "model_name": "LayoutModel",
      "state": {}
     },
     "59ce065d6abd47428fc312368eadd0d3": {
      "model_module": "@jupyter-widgets/base",
      "model_module_version": "1.2.0",
      "model_name": "LayoutModel",
      "state": {}
     },
     "5a527250c91a43d48a8ee22ec02c9562": {
      "model_module": "@jupyter-widgets/base",
      "model_module_version": "1.2.0",
      "model_name": "LayoutModel",
      "state": {}
     },
     "5a90e673b94f4e55a67c8ff3bfe23e41": {
      "model_module": "@jupyter-widgets/controls",
      "model_module_version": "1.5.0",
      "model_name": "TextModel",
      "state": {
       "description": "Peer reviewer contact:",
       "layout": "IPY_MODEL_cd1d9fc2a57148a48a9458e69107a6d5",
       "style": "IPY_MODEL_7ada0e8c95994f11a21595a912923b92"
      }
     },
     "5ab269a2533c478fbab91f92e62a7b30": {
      "model_module": "@jupyter-widgets/base",
      "model_module_version": "1.2.0",
      "model_name": "LayoutModel",
      "state": {}
     },
     "5bbbc4f286774b3dadedd3bad03de59d": {
      "model_module": "@jupyter-widgets/base",
      "model_module_version": "1.2.0",
      "model_name": "LayoutModel",
      "state": {}
     },
     "5d246b170d014d0dbadb418664e024e8": {
      "model_module": "@jupyter-widgets/controls",
      "model_module_version": "1.5.0",
      "model_name": "DescriptionStyleModel",
      "state": {
       "description_width": ""
      }
     },
     "5d318f5fef79431691a0d98d4cfd105b": {
      "model_module": "@jupyter-widgets/base",
      "model_module_version": "1.2.0",
      "model_name": "LayoutModel",
      "state": {}
     },
     "5d740767120d483685f92a805fa6116b": {
      "model_module": "@jupyter-widgets/controls",
      "model_module_version": "1.5.0",
      "model_name": "TextModel",
      "state": {
       "description": "Free EM metadata to add",
       "layout": "IPY_MODEL_e3b6516c0aad4694b4c76360b3912214",
       "style": "IPY_MODEL_602a7ae3a6064fd89fda3acde78d06fa"
      }
     },
     "5f2f80bda850431296040a3f03e7730f": {
      "model_module": "@jupyter-widgets/controls",
      "model_module_version": "1.5.0",
      "model_name": "VBoxModel",
      "state": {
       "children": [
        "IPY_MODEL_ca8ff4dc726a4e7da4f3e7107f162535",
        "IPY_MODEL_e3fe5bf775e844f49dbd84e5c588ae6c"
       ],
       "layout": "IPY_MODEL_76852226694c44f28957b88f62f85774"
      }
     },
     "5f9005f1cebd47fcba75d85480af54bc": {
      "model_module": "@jupyter-widgets/controls",
      "model_module_version": "1.5.0",
      "model_name": "VBoxModel",
      "state": {
       "children": [
        "IPY_MODEL_def0e5614f4f425993387ce019bb0ae1"
       ],
       "layout": "IPY_MODEL_ae2ab2dd3cae42558b9a5ba616835eb4"
      }
     },
     "5f99c0c1217c46afad7ec6603995a275": {
      "model_module": "@jupyter-widgets/base",
      "model_module_version": "1.2.0",
      "model_name": "LayoutModel",
      "state": {}
     },
     "5fd6e96d6a654f47b29625dcd3fafe1e": {
      "model_module": "@jupyter-widgets/controls",
      "model_module_version": "1.5.0",
      "model_name": "DescriptionStyleModel",
      "state": {
       "description_width": ""
      }
     },
     "602a7ae3a6064fd89fda3acde78d06fa": {
      "model_module": "@jupyter-widgets/controls",
      "model_module_version": "1.5.0",
      "model_name": "DescriptionStyleModel",
      "state": {
       "description_width": "initial"
      }
     },
     "60448d620e7f4777a57e2abbe2410647": {
      "model_module": "@jupyter-widgets/base",
      "model_module_version": "1.2.0",
      "model_name": "LayoutModel",
      "state": {}
     },
     "60ba0040b6484e2d817a1d53787efc1e": {
      "model_module": "@jupyter-widgets/controls",
      "model_module_version": "1.5.0",
      "model_name": "DescriptionStyleModel",
      "state": {
       "description_width": "initial"
      }
     },
     "61994cc5bfda449699537ca951385085": {
      "model_module": "@jupyter-widgets/base",
      "model_module_version": "1.2.0",
      "model_name": "LayoutModel",
      "state": {}
     },
     "61d42487a76e495d96287380b6a5a93c": {
      "model_module": "@jupyter-widgets/base",
      "model_module_version": "1.2.0",
      "model_name": "LayoutModel",
      "state": {}
     },
     "6361e16175134af7844f673d329ef4e1": {
      "model_module": "@jupyter-widgets/base",
      "model_module_version": "1.2.0",
      "model_name": "LayoutModel",
      "state": {}
     },
     "63a39555122d4987a7bfeaa6b6f8a8b2": {
      "model_module": "@jupyter-widgets/controls",
      "model_module_version": "1.5.0",
      "model_name": "TextModel",
      "state": {
       "description": "Short title description of the dataset",
       "layout": "IPY_MODEL_5a527250c91a43d48a8ee22ec02c9562",
       "style": "IPY_MODEL_065a3f7fe66a4371af52c89e629d4023"
      }
     },
     "63ac1e433fbc4d9fb025cae129b6d856": {
      "model_module": "@jupyter-widgets/controls",
      "model_module_version": "1.5.0",
      "model_name": "RadioButtonsModel",
      "state": {
       "_options_labels": [
        "1D",
        "2D",
        "3D"
       ],
       "description": "Electrode configuration:",
       "index": 0,
       "layout": "IPY_MODEL_1632873a466a4d449fad7b4718a06374",
       "style": "IPY_MODEL_07821f3f220244c6bfa53cd16f65ea71"
      }
     },
     "64b09fa996a6430e8a86d4153a828c41": {
      "model_module": "@jupyter-widgets/base",
      "model_module_version": "1.2.0",
      "model_name": "LayoutModel",
      "state": {}
     },
     "678f3b6097ba42bcbab5384f523795d0": {
      "model_module": "@jupyter-widgets/base",
      "model_module_version": "1.2.0",
      "model_name": "LayoutModel",
      "state": {}
     },
     "67b0593703e948eca549bd3fbe3b1a9a": {
      "model_module": "@jupyter-widgets/controls",
      "model_module_version": "1.5.0",
      "model_name": "TextModel",
      "state": {
       "description": "Email:",
       "layout": "IPY_MODEL_e548cd55c2a94f74902dee510372e948",
       "style": "IPY_MODEL_4d32a17edb404931bc85f90b3132944c"
      }
     },
     "69f4935c116e42a0a7ca19c41e5af1d0": {
      "model_module": "@jupyter-widgets/controls",
      "model_module_version": "1.5.0",
      "model_name": "DescriptionStyleModel",
      "state": {
       "description_width": "initial"
      }
     },
     "6a91f167afec45e2966db8d7e7e2fa90": {
      "model_module": "@jupyter-widgets/controls",
      "model_module_version": "1.5.0",
      "model_name": "VBoxModel",
      "state": {
       "children": [
        "IPY_MODEL_a67426d111d148ecb1e54b7afaa9862e",
        "IPY_MODEL_ad5b01371267468591df17f4622a4968"
       ],
       "layout": "IPY_MODEL_f9b04fc46a5349f08711f1df3495b0bd"
      }
     },
     "6ae7b58205d74ecb93874bdb8bda9ddc": {
      "model_module": "@jupyter-widgets/controls",
      "model_module_version": "1.5.0",
      "model_name": "DescriptionStyleModel",
      "state": {
       "description_width": ""
      }
     },
     "6c5fc4de7c5a4d978babcec52549b322": {
      "model_module": "@jupyter-widgets/controls",
      "model_module_version": "1.5.0",
      "model_name": "TextModel",
      "state": {
       "description": "Replicate datasets:",
       "layout": "IPY_MODEL_0a476eeadcf64bc2986ac41efb0cf161",
       "style": "IPY_MODEL_6e6cd6858b8141a0a03c5477b61844c8"
      }
     },
     "6caaf07c84854681be964989e13b4747": {
      "model_module": "@jupyter-widgets/controls",
      "model_module_version": "1.5.0",
      "model_name": "VBoxModel",
      "state": {
       "children": [
        "IPY_MODEL_36a567b824b3419a86b7565f2393f6e9",
        "IPY_MODEL_a08b984ae7d84d54beb9090e965408aa",
        "IPY_MODEL_3ca5a7d332174facb3f65c9c6e1718ca",
        "IPY_MODEL_d1dbcf76828b42d28ac9bdd937da6087",
        "IPY_MODEL_29ba5d6509214c8593ebc35ae481033e",
        "IPY_MODEL_3c5f17b6be1b4df19c3f94e8bbe36412",
        "IPY_MODEL_b976c5b7be444351a88d76fc596bab4c"
       ],
       "layout": "IPY_MODEL_b3a885e311d54bdba7380fa2171135a6"
      }
     },
     "6d8b64f2ef0a4407b177e5e76793c30b": {
      "model_module": "@jupyter-widgets/base",
      "model_module_version": "1.2.0",
      "model_name": "LayoutModel",
      "state": {}
     },
     "6e130df3054847668b7fa35f21de46d7": {
      "model_module": "@jupyter-widgets/controls",
      "model_module_version": "1.5.0",
      "model_name": "SelectMultipleModel",
      "state": {
       "_options_labels": [
        "0.2",
        "1",
        "3"
       ],
       "description": "Coil spacing:",
       "index": [],
       "layout": "IPY_MODEL_28c107bd211c4df4a83f9cf73f9c4c16",
       "rows": 5,
       "style": "IPY_MODEL_c58ed942087a420788406ec37846b542"
      }
     },
     "6e6cd6858b8141a0a03c5477b61844c8": {
      "model_module": "@jupyter-widgets/controls",
      "model_module_version": "1.5.0",
      "model_name": "DescriptionStyleModel",
      "state": {
       "description_width": "initial"
      }
     },
     "6ec574048d3744d498fd131396e6f291": {
      "model_module": "@jupyter-widgets/controls",
      "model_module_version": "1.5.0",
      "model_name": "TextModel",
      "state": {
       "description": "Physical property investigated:",
       "layout": "IPY_MODEL_4b5ba78275fe42ab8c9b5796d66e6028",
       "style": "IPY_MODEL_2d228cf9b5324afeb3e1a4c0c29da290"
      }
     },
     "6f9e61984d114849a2970171687f7d4d": {
      "model_module": "@jupyter-widgets/base",
      "model_module_version": "1.2.0",
      "model_name": "LayoutModel",
      "state": {}
     },
     "700370430b37488dbc1a634413559262": {
      "model_module": "@jupyter-widgets/controls",
      "model_module_version": "1.5.0",
      "model_name": "DescriptionStyleModel",
      "state": {
       "description_width": "initial"
      }
     },
     "71c220562f314e3192f72c9a6510d49a": {
      "model_module": "@jupyter-widgets/base",
      "model_module_version": "1.2.0",
      "model_name": "LayoutModel",
      "state": {}
     },
     "72eb2a88407f43a3911d3fd95b054efb": {
      "model_module": "@jupyter-widgets/controls",
      "model_module_version": "1.5.0",
      "model_name": "HTMLModel",
      "state": {
       "layout": "IPY_MODEL_39e861268ff741ebbeb97a2c72ec7205",
       "style": "IPY_MODEL_4a1c2abe8a4446e9825532cfe6ec2878",
       "value": "\n            <h3> Survey metadata </h3>\n            <hr style=\"height:1px;border-width:0;color:black;background-color:gray\">\n             For the choice of the method please report to <a href=\"https://agrogeophy.github.io/datasets/glossary.html\">the online documentation glossary</a>\n             "
      }
     },
     "742394fd497c489cbffeff3de5efb4e1": {
      "model_module": "@jupyter-widgets/controls",
      "model_module_version": "1.5.0",
      "model_name": "TextModel",
      "state": {
       "description": "Instrument",
       "layout": "IPY_MODEL_b5227ce3f7c84baea1af1dd61a2e12de",
       "style": "IPY_MODEL_7fdf481d657c454abf850688d8fd5d5b"
      }
     },
     "759f1366d78649b68f643d277a747546": {
      "model_module": "@jupyter-widgets/controls",
      "model_module_version": "1.5.0",
      "model_name": "HTMLModel",
      "state": {
       "layout": "IPY_MODEL_c309822b4c034ac0ac659655c1387a4f",
       "style": "IPY_MODEL_f73c47aed80744c8bef33255dd0ed510",
       "value": "\n            <h3> Dataset structure </h3>\n            <hr style=\"height:1px;border-width:0;color:black;background-color:gray\">\n            Please refer to the <a href=\"https://agrogeophy.github.io/datasets/data-management.html#workflow-for-preparing-dataset\">online guidelines to structure a dataset </a>      \n             "
      }
     },
     "75b6ab88f10b4f0b883cf20f685dad02": {
      "model_module": "@jupyter-widgets/controls",
      "model_module_version": "1.5.0",
      "model_name": "HTMLModel",
      "state": {
       "layout": "IPY_MODEL_0b613991b6a44e7284ba179a6cf9d52d",
       "style": "IPY_MODEL_190d47cb89b04454bb72f8a0c2e8a268",
       "value": "<pre>{\n    &quot;method&quot;: &quot;Geoelectrical - ERT&quot;,\n    &quot;measurement_type&quot;: &quot;laboratory&quot;,\n    &quot;elec_seq&quot;: &quot;WS&quot;\n}</pre>"
      }
     },
     "76852226694c44f28957b88f62f85774": {
      "model_module": "@jupyter-widgets/base",
      "model_module_version": "1.2.0",
      "model_name": "LayoutModel",
      "state": {}
     },
     "777d132fc6d94722871b32bfc4e1ef31": {
      "model_module": "@jupyter-widgets/controls",
      "model_module_version": "1.5.0",
      "model_name": "DescriptionStyleModel",
      "state": {
       "description_width": "initial"
      }
     },
     "78043e16ac2b4be187b89ae4a2697626": {
      "model_module": "@jupyter-widgets/controls",
      "model_module_version": "1.5.0",
      "model_name": "DescriptionStyleModel",
      "state": {
       "description_width": ""
      }
     },
     "7840131df59c42e080c6d4bcdbd4085d": {
      "model_module": "@jupyter-widgets/controls",
      "model_module_version": "1.5.0",
      "model_name": "VBoxModel",
      "state": {
       "children": [
        "IPY_MODEL_63a39555122d4987a7bfeaa6b6f8a8b2",
        "IPY_MODEL_b4a89d13584a41f48c0bceb69416de1b",
        "IPY_MODEL_dfbdcd9e54c143aaa6646e2c770c8a28",
        "IPY_MODEL_67b0593703e948eca549bd3fbe3b1a9a"
       ],
       "layout": "IPY_MODEL_4993616d5c254c57b8b2222cf8befbc6"
      }
     },
     "7863527a798b43ae82c8a0b718c73ebd": {
      "model_module": "@jupyter-widgets/base",
      "model_module_version": "1.2.0",
      "model_name": "LayoutModel",
      "state": {}
     },
     "7928646f188d41f29545bd94f59c53ed": {
      "model_module": "@jupyter-widgets/base",
      "model_module_version": "1.2.0",
      "model_name": "LayoutModel",
      "state": {
       "display": "none"
      }
     },
     "7ab0635d85664f69b9943ceeb134dd81": {
      "model_module": "@jupyter-widgets/base",
      "model_module_version": "1.2.0",
      "model_name": "LayoutModel",
      "state": {}
     },
     "7ada0e8c95994f11a21595a912923b92": {
      "model_module": "@jupyter-widgets/controls",
      "model_module_version": "1.5.0",
      "model_name": "DescriptionStyleModel",
      "state": {
       "description_width": "initial"
      }
     },
     "7b4a6ca25e7c41499a86c78e1c7570d2": {
      "model_module": "@jupyter-widgets/controls",
      "model_module_version": "1.5.0",
      "model_name": "TextModel",
      "state": {
       "description": "Peer reviewed:",
       "layout": "IPY_MODEL_bf350ede2ad442668abfcb5a50623a28",
       "style": "IPY_MODEL_47b776d9c3a44f48806546ee96ad53d0"
      }
     },
     "7bd16e29675047c684705d22afce3b49": {
      "model_module": "@jupyter-widgets/controls",
      "model_module_version": "1.5.0",
      "model_name": "HTMLModel",
      "state": {
       "layout": "IPY_MODEL_48104b750e244a11a5c57ea706cbc3ef",
       "style": "IPY_MODEL_9884a706696147b39c31536fca6afb27",
       "value": "\n                <h3> ERT metadata </h3>\n                <hr style=\"height:1px;border-width:0;color:black;background-color:gray\">\n                Please refer to the <a href=\"https://agrogeophy.github.io/catalog/schema_documentation.html#table-ert-metadata\">online ERT metadata documentation </a>\n             "
      }
     },
     "7cee099671c9470db3517bf97c785c1b": {
      "model_module": "@jupyter-widgets/base",
      "model_module_version": "1.2.0",
      "model_name": "LayoutModel",
      "state": {}
     },
     "7e0ad08e677b4d30a123597738557b60": {
      "model_module": "@jupyter-widgets/base",
      "model_module_version": "1.2.0",
      "model_name": "LayoutModel",
      "state": {}
     },
     "7e2dfaa1c0ea49918ea759114d878314": {
      "model_module": "@jupyter-widgets/controls",
      "model_module_version": "1.5.0",
      "model_name": "DescriptionStyleModel",
      "state": {
       "description_width": ""
      }
     },
     "7fdf481d657c454abf850688d8fd5d5b": {
      "model_module": "@jupyter-widgets/controls",
      "model_module_version": "1.5.0",
      "model_name": "DescriptionStyleModel",
      "state": {
       "description_width": ""
      }
     },
     "81df323b4b5d44b7af619ac76b638d80": {
      "model_module": "@jupyter-widgets/base",
      "model_module_version": "1.2.0",
      "model_name": "LayoutModel",
      "state": {}
     },
     "82568f058d0646fe8dc0ef5dc1035825": {
      "model_module": "@jupyter-widgets/controls",
      "model_module_version": "1.5.0",
      "model_name": "DescriptionStyleModel",
      "state": {
       "description_width": "initial"
      }
     },
     "829327502b1346aba111b95fa6767d7d": {
      "model_module": "@jupyter-widgets/controls",
      "model_module_version": "1.5.0",
      "model_name": "DescriptionStyleModel",
      "state": {
       "description_width": "initial"
      }
     },
     "82dd32f36cca4b4b8783082011445ab7": {
      "model_module": "@jupyter-widgets/base",
      "model_module_version": "1.2.0",
      "model_name": "LayoutModel",
      "state": {}
     },
     "82e32a4889464feca211e5778fe2cb6f": {
      "model_module": "@jupyter-widgets/controls",
      "model_module_version": "1.5.0",
      "model_name": "TextModel",
      "state": {
       "description": "ref data:",
       "layout": "IPY_MODEL_9676b0dfc88e4ae1ae807be157e013c6",
       "style": "IPY_MODEL_f12b0cf596f940da8a68428f2c461bcd"
      }
     },
     "861a568054614eaf951d9b296c4e35d7": {
      "model_module": "@jupyter-widgets/controls",
      "model_module_version": "1.5.0",
      "model_name": "TextModel",
      "state": {
       "description": "Comparison ref data:",
       "layout": "IPY_MODEL_10312bc85d4c440db82043df09fe6690",
       "style": "IPY_MODEL_f22d39fbec074ecca2a6e38b1613c52a"
      }
     },
     "86be1b7320b148469da3a6cf163359c4": {
      "model_module": "@jupyter-widgets/controls",
      "model_module_version": "1.5.0",
      "model_name": "HTMLModel",
      "state": {
       "layout": "IPY_MODEL_9591ca9296904617af9600964d41f4dd",
       "style": "IPY_MODEL_37a29c837cab443397b7b9847db253fe",
       "value": "\n            <h3> Quality metadata </h3>\n            <hr style=\"height:1px;border-width:0;color:black;background-color:gray\">\n            Please refer to the <a href=\"https://agrogeophy.github.io/catalog/schema_documentation.html#table-data-quality-assessment-metadata\">online quality metadata documentation </a>\n             "
      }
     },
     "877124164edd4d2aae3cba835016f2d6": {
      "model_module": "@jupyter-widgets/base",
      "model_module_version": "1.2.0",
      "model_name": "LayoutModel",
      "state": {}
     },
     "8796fee8ed954c9a975490b5152f23c0": {
      "model_module": "@jupyter-widgets/controls",
      "model_module_version": "1.5.0",
      "model_name": "DescriptionStyleModel",
      "state": {
       "description_width": ""
      }
     },
     "8806a967d48247339f9abc81ab136a7a": {
      "model_module": "@jupyter-widgets/controls",
      "model_module_version": "1.5.0",
      "model_name": "DescriptionStyleModel",
      "state": {
       "description_width": ""
      }
     },
     "8921dd2c0ba446c98d2caf5d020cef05": {
      "model_module": "@jupyter-widgets/controls",
      "model_module_version": "1.5.0",
      "model_name": "VBoxModel",
      "state": {
       "children": [
        "IPY_MODEL_c706a8c9319f4599982201cd79d0ea51",
        "IPY_MODEL_92ceed15d21b40fda0cc92e79c5da0f1",
        "IPY_MODEL_f257df159c57474eae4b1d7b633c51f2",
        "IPY_MODEL_6e130df3054847668b7fa35f21de46d7",
        "IPY_MODEL_5743951027894429b1010fa85a72cf90"
       ],
       "layout": "IPY_MODEL_a30ae6cd58bb42d8a495f50ded9400e1"
      }
     },
     "89cc9419487242cb9c77899029e4bb29": {
      "model_module": "@jupyter-widgets/controls",
      "model_module_version": "1.5.0",
      "model_name": "DescriptionStyleModel",
      "state": {
       "description_width": "initial"
      }
     },
     "8a4e58141ae7469bbd17784537da6850": {
      "model_module": "@jupyter-widgets/controls",
      "model_module_version": "1.5.0",
      "model_name": "DescriptionStyleModel",
      "state": {
       "description_width": "initial"
      }
     },
     "8bbf0d45a3a549afbffa0d10b9c631da": {
      "model_module": "@jupyter-widgets/controls",
      "model_module_version": "1.5.0",
      "model_name": "TabModel",
      "state": {
       "_titles": {
        "0": "Home",
        "1": "ERT",
        "2": "EM",
        "3": "Quality",
        "4": "Sampling",
        "5": "Export"
       },
       "children": [
        "IPY_MODEL_aec4a3ffc8a7498184353eb6261879c4",
        "IPY_MODEL_6caaf07c84854681be964989e13b4747",
        "IPY_MODEL_ec92925ef5184482ada5eeb36d0d5f57",
        "IPY_MODEL_cb66a996966940a49f9b7e259c7b1791",
        "IPY_MODEL_6a91f167afec45e2966db8d7e7e2fa90",
        "IPY_MODEL_37d2244b4d524257a889a4dedeeaa85e"
       ],
       "layout": "IPY_MODEL_f270555d2c5142d69244d4997e91c813"
      }
     },
     "8ce4fca2ecb045099dc8b3a0b781bdb6": {
      "model_module": "@jupyter-widgets/controls",
      "model_module_version": "1.5.0",
      "model_name": "HTMLModel",
      "state": {
       "layout": "IPY_MODEL_7cee099671c9470db3517bf97c785c1b",
       "style": "IPY_MODEL_5fd6e96d6a654f47b29625dcd3fafe1e",
       "value": "\n                <h3> ERT metadata </h3>\n                <hr style=\"height:1px;border-width:0;color:black;background-color:gray\">\n                Please refer to the <a href=\"https://agrogeophy.github.io/catalog/schema_documentation.html#table-ert-metadata\">online ERT metadata documentation </a>\n             "
      }
     },
     "8e774885bd0b4e3385e965d219938d71": {
      "model_module": "@jupyter-widgets/controls",
      "model_module_version": "1.5.0",
      "model_name": "DescriptionStyleModel",
      "state": {
       "description_width": ""
      }
     },
     "8e777620a26e4b988e45d0218882672b": {
      "model_module": "@jupyter-widgets/base",
      "model_module_version": "1.2.0",
      "model_name": "LayoutModel",
      "state": {}
     },
     "912fb0e2e9ec442fbf770a438851d744": {
      "model_module": "@jupyter-widgets/controls",
      "model_module_version": "1.5.0",
      "model_name": "SelectMultipleModel",
      "state": {
       "_options_labels": [
        "0.2",
        "1",
        "3"
       ],
       "description": "Coil spacing:",
       "index": [],
       "layout": "IPY_MODEL_6361e16175134af7844f673d329ef4e1",
       "rows": 5,
       "style": "IPY_MODEL_dcc160b7759146198b4824687be60ad0"
      }
     },
     "91346d2524df4cc8a86ef9c794126322": {
      "model_module": "@jupyter-widgets/controls",
      "model_module_version": "1.5.0",
      "model_name": "DescriptionStyleModel",
      "state": {
       "description_width": "initial"
      }
     },
     "927646e85f7d41ab94f68b5e132a7efb": {
      "model_module": "@jupyter-widgets/base",
      "model_module_version": "1.2.0",
      "model_name": "LayoutModel",
      "state": {}
     },
     "92ceed15d21b40fda0cc92e79c5da0f1": {
      "model_module": "@jupyter-widgets/controls",
      "model_module_version": "1.5.0",
      "model_name": "RadioButtonsModel",
      "state": {
       "_options_labels": [
        "VCP",
        "VMD",
        "PRP",
        "HCP",
        "HMD"
       ],
       "description": "Coil orientation:",
       "index": 0,
       "layout": "IPY_MODEL_cb7c3f3f86f14b8da0fbaaf61b829289",
       "style": "IPY_MODEL_03690c8270304eeea0dd809ca29a7b60"
      }
     },
     "92d2df5faf9a488baddca9670c99b6d2": {
      "model_module": "@jupyter-widgets/base",
      "model_module_version": "1.2.0",
      "model_name": "LayoutModel",
      "state": {}
     },
     "9332d19898b64b00b609158ceb90631d": {
      "model_module": "@jupyter-widgets/controls",
      "model_module_version": "1.5.0",
      "model_name": "DescriptionStyleModel",
      "state": {
       "description_width": "initial"
      }
     },
     "9591ca9296904617af9600964d41f4dd": {
      "model_module": "@jupyter-widgets/base",
      "model_module_version": "1.2.0",
      "model_name": "LayoutModel",
      "state": {}
     },
     "96594578f2a74d15b844608033f75f2b": {
      "model_module": "@jupyter-widgets/controls",
      "model_module_version": "1.5.0",
      "model_name": "DatePickerModel",
      "state": {
       "description": "Datetime of measurement",
       "disabled": false,
       "layout": "IPY_MODEL_ac450cdd8f7041f8a1b310e011f975f5",
       "style": "IPY_MODEL_5517d6b62ae24955bfea8b2b3855f572"
      }
     },
     "9676b0dfc88e4ae1ae807be157e013c6": {
      "model_module": "@jupyter-widgets/base",
      "model_module_version": "1.2.0",
      "model_name": "LayoutModel",
      "state": {}
     },
     "96d473bd38e74400a60d6af07248ef11": {
      "model_module": "@jupyter-widgets/controls",
      "model_module_version": "1.5.0",
      "model_name": "DescriptionStyleModel",
      "state": {
       "description_width": "initial"
      }
     },
     "9884a706696147b39c31536fca6afb27": {
      "model_module": "@jupyter-widgets/controls",
      "model_module_version": "1.5.0",
      "model_name": "DescriptionStyleModel",
      "state": {
       "description_width": ""
      }
     },
     "9c46dfa5a23d4f8ab7a8755c8ecb8a78": {
      "model_module": "@jupyter-widgets/controls",
      "model_module_version": "1.5.0",
      "model_name": "DescriptionStyleModel",
      "state": {
       "description_width": ""
      }
     },
     "9d16c0272d934c0aabce0afe23227054": {
      "model_module": "@jupyter-widgets/base",
      "model_module_version": "1.2.0",
      "model_name": "LayoutModel",
      "state": {}
     },
     "9e55f53c82c9436889cc4a916ddbab07": {
      "model_module": "@jupyter-widgets/base",
      "model_module_version": "1.2.0",
      "model_name": "LayoutModel",
      "state": {}
     },
     "9ec94a78a20448a290aefbcc5da2098c": {
      "model_module": "@jupyter-widgets/controls",
      "model_module_version": "1.5.0",
      "model_name": "DescriptionStyleModel",
      "state": {
       "description_width": "initial"
      }
     },
     "9ecd574599264398ab1669fe3b7c71ba": {
      "model_module": "@jupyter-widgets/controls",
      "model_module_version": "1.5.0",
      "model_name": "HTMLModel",
      "state": {
       "layout": "IPY_MODEL_f307b2f19a734ff3bbb6f498dcb0317f",
       "style": "IPY_MODEL_180e63ad56b040719049fabab8bbf241",
       "value": "\n            This gui is designed to help with the initial preparation of one\n            geophysical dataset metadata. In order to make the dataset FAIR, simple metadata descriptors must be filled. \n            if you require additionnal dataset, please let us know by opening an issue <a href=\"https://github.com/agrogeophy/geometadp\" target=\"_blank\">on github </a>\n            Note that this is a lightened version of the metadata manager as the full version must be run locally to interact with files. See github for <a href=\"https://github.com/agrogeophy/geometadp\" target=\"_blank\">more informations.</a> \n            "
      }
     },
     "a08b984ae7d84d54beb9090e965408aa": {
      "model_module": "@jupyter-widgets/controls",
      "model_module_version": "1.5.0",
      "model_name": "TextModel",
      "state": {
       "description": "Instrument",
       "layout": "IPY_MODEL_d1d8ac98fc87469f9a64d9f8c060b016",
       "style": "IPY_MODEL_0e4ffcde06484a2789c4394036471c3f"
      }
     },
     "a30ae6cd58bb42d8a495f50ded9400e1": {
      "model_module": "@jupyter-widgets/base",
      "model_module_version": "1.2.0",
      "model_name": "LayoutModel",
      "state": {}
     },
     "a41e61af4da64421b2f1a77a04eb8886": {
      "model_module": "@jupyter-widgets/controls",
      "model_module_version": "1.5.0",
      "model_name": "TextModel",
      "state": {
       "description": "Email:",
       "layout": "IPY_MODEL_fd0e3207f6744f339ae1498ea5f7e61d",
       "style": "IPY_MODEL_35c967532c824a5cb62c5367471587f7"
      }
     },
     "a54b2719cdda40d9a285cbd8de758a79": {
      "model_module": "@jupyter-widgets/controls",
      "model_module_version": "1.5.0",
      "model_name": "TextModel",
      "state": {
       "description": "Peer reviewed:",
       "layout": "IPY_MODEL_2f22ea5ac441429fa77d9979e6d27eb7",
       "style": "IPY_MODEL_777d132fc6d94722871b32bfc4e1ef31"
      }
     },
     "a618dbf082eb4713a357d6c5edf31534": {
      "model_module": "@jupyter-widgets/base",
      "model_module_version": "1.2.0",
      "model_name": "LayoutModel",
      "state": {}
     },
     "a67426d111d148ecb1e54b7afaa9862e": {
      "model_module": "@jupyter-widgets/controls",
      "model_module_version": "1.5.0",
      "model_name": "VBoxModel",
      "state": {
       "children": [
        "IPY_MODEL_f3b0cd1777ce48cda84dcd536c1a79fa"
       ],
       "layout": "IPY_MODEL_3036efc5dc9c4b61be0309122d4a7f23"
      }
     },
     "a9349eb31f6a4207b93cb0a72dccf603": {
      "model_module": "@jupyter-widgets/controls",
      "model_module_version": "1.5.0",
      "model_name": "VBoxModel",
      "state": {
       "children": [
        "IPY_MODEL_2b536b1081054c60925baf5be5237d2f"
       ],
       "layout": "IPY_MODEL_cb6ef749d101426bb9bf87809a31d051"
      }
     },
     "a9ca525c2f334a29a5a7cffaf3f2cf96": {
      "model_module": "@jupyter-widgets/controls",
      "model_module_version": "1.5.0",
      "model_name": "DescriptionStyleModel",
      "state": {
       "description_width": ""
      }
     },
     "aa71d09d70a8488a97490992a8a3d51b": {
      "model_module": "@jupyter-widgets/controls",
      "model_module_version": "1.5.0",
      "model_name": "VBoxModel",
      "state": {
       "children": [
        "IPY_MODEL_e9afa25b4f714362a788afdc64e52c63",
        "IPY_MODEL_742394fd497c489cbffeff3de5efb4e1",
        "IPY_MODEL_96594578f2a74d15b844608033f75f2b",
        "IPY_MODEL_63ac1e433fbc4d9fb025cae129b6d856",
        "IPY_MODEL_cf1b8dda26ae47bea1df80805452d437",
        "IPY_MODEL_11b630ad165e402cb04dbf54c3598a28",
        "IPY_MODEL_2d860eba38c04ff98ed29b4801b05024"
       ],
       "layout": "IPY_MODEL_dfbe069b5fee4130af4755c8413242cd"
      }
     },
     "ac450cdd8f7041f8a1b310e011f975f5": {
      "model_module": "@jupyter-widgets/base",
      "model_module_version": "1.2.0",
      "model_name": "LayoutModel",
      "state": {}
     },
     "accf08f0f64940a7924b635637e8088c": {
      "model_module": "@jupyter-widgets/controls",
      "model_module_version": "1.5.0",
      "model_name": "DescriptionStyleModel",
      "state": {
       "description_width": "initial"
      }
     },
     "ad58acb6f33b4eeca98dc4325013caab": {
      "model_module": "@jupyter-widgets/controls",
      "model_module_version": "1.5.0",
      "model_name": "VBoxModel",
      "state": {
       "children": [
        "IPY_MODEL_c301423be88c41b5a3d48a6194ddd892",
        "IPY_MODEL_7b4a6ca25e7c41499a86c78e1c7570d2",
        "IPY_MODEL_c9b873d69c56408687da7d14d0e1fd8c",
        "IPY_MODEL_29eb4c2e43c44e19b97e50e7f1537f01",
        "IPY_MODEL_f237ed6fd17d412094f31bde15e8bd05",
        "IPY_MODEL_f744e6a6464849ce9c7484fbc025ac89",
        "IPY_MODEL_bd7630fda80b46b7ad200566eaca2ac4"
       ],
       "layout": "IPY_MODEL_877124164edd4d2aae3cba835016f2d6"
      }
     },
     "ad5b01371267468591df17f4622a4968": {
      "model_module": "@jupyter-widgets/controls",
      "model_module_version": "1.5.0",
      "model_name": "TextModel",
      "state": {
       "description": "Free sampling metadata to add",
       "layout": "IPY_MODEL_c26b56093c3548c4bcfb4725870af0e0",
       "style": "IPY_MODEL_91346d2524df4cc8a86ef9c794126322"
      }
     },
     "adce413382e44327a75fe531f54bac24": {
      "model_module": "@jupyter-widgets/base",
      "model_module_version": "1.2.0",
      "model_name": "LayoutModel",
      "state": {}
     },
     "ae2ab2dd3cae42558b9a5ba616835eb4": {
      "model_module": "@jupyter-widgets/base",
      "model_module_version": "1.2.0",
      "model_name": "LayoutModel",
      "state": {}
     },
     "ae36b3a668604c5bb77da77a82420dbe": {
      "model_module": "@jupyter-widgets/controls",
      "model_module_version": "1.5.0",
      "model_name": "VBoxModel",
      "state": {
       "children": [
        "IPY_MODEL_ca7208decd824662adaad521042995d8"
       ],
       "layout": "IPY_MODEL_ca3a145333bf43ecbb7fb294dabfee4f"
      }
     },
     "ae9b5a1dc396440a819bf824ae1d561a": {
      "model_module": "@jupyter-widgets/controls",
      "model_module_version": "1.5.0",
      "model_name": "DescriptionStyleModel",
      "state": {
       "description_width": ""
      }
     },
     "aec4a3ffc8a7498184353eb6261879c4": {
      "model_module": "@jupyter-widgets/controls",
      "model_module_version": "1.5.0",
      "model_name": "VBoxModel",
      "state": {
       "children": [
        "IPY_MODEL_f138654e9f3240e58bddb97281fdc993",
        "IPY_MODEL_f9ce72175fc04ba59593d953c83d1268"
       ],
       "layout": "IPY_MODEL_81df323b4b5d44b7af619ac76b638d80"
      }
     },
     "aedc01fc93f248cca8d69cdd9304c4c0": {
      "model_module": "@jupyter-widgets/controls",
      "model_module_version": "1.5.0",
      "model_name": "VBoxModel",
      "state": {
       "children": [
        "IPY_MODEL_72eb2a88407f43a3911d3fd95b054efb"
       ],
       "layout": "IPY_MODEL_e71bee2202c54f1a9adec648b21b7941"
      }
     },
     "b08b12e111e14a28853153d0e5fe3514": {
      "model_module": "@jupyter-widgets/base",
      "model_module_version": "1.2.0",
      "model_name": "LayoutModel",
      "state": {}
     },
     "b1643b33755a4c8ea6d66cd11eed8ee7": {
      "model_module": "@jupyter-widgets/controls",
      "model_module_version": "1.5.0",
      "model_name": "RadioButtonsModel",
      "state": {
       "_options_labels": [
        "Geoelectrical - ERT",
        "Geoelectrical - TDIP",
        "Geoelectrical - sEIT",
        "Geoelectrical - SIP/EIS",
        "GPR",
        "EM",
        "Seismic"
       ],
       "description": "Method:",
       "index": 0,
       "layout": "IPY_MODEL_60448d620e7f4777a57e2abbe2410647",
       "style": "IPY_MODEL_2ee0c61cebb74f86a071281bc639e950"
      }
     },
     "b1a35fac98ef4d2b8c3f88128e4135e9": {
      "model_module": "@jupyter-widgets/controls",
      "model_module_version": "1.5.0",
      "model_name": "DescriptionStyleModel",
      "state": {
       "description_width": "initial"
      }
     },
     "b3a885e311d54bdba7380fa2171135a6": {
      "model_module": "@jupyter-widgets/base",
      "model_module_version": "1.2.0",
      "model_name": "LayoutModel",
      "state": {}
     },
     "b4a89d13584a41f48c0bceb69416de1b": {
      "model_module": "@jupyter-widgets/controls",
      "model_module_version": "1.5.0",
      "model_name": "TextModel",
      "state": {
       "description": "Reporting authors names",
       "layout": "IPY_MODEL_5706ed66f0d84b4ba69fb5d1160df0c0",
       "style": "IPY_MODEL_89cc9419487242cb9c77899029e4bb29"
      }
     },
     "b5227ce3f7c84baea1af1dd61a2e12de": {
      "model_module": "@jupyter-widgets/base",
      "model_module_version": "1.2.0",
      "model_name": "LayoutModel",
      "state": {}
     },
     "b552406d17d347ca9854300a00102c1e": {
      "model_module": "@jupyter-widgets/base",
      "model_module_version": "1.2.0",
      "model_name": "LayoutModel",
      "state": {}
     },
     "b77f525f5d574fc7aebfcb9f0568edfa": {
      "model_module": "@jupyter-widgets/controls",
      "model_module_version": "1.5.0",
      "model_name": "DescriptionStyleModel",
      "state": {
       "description_width": "initial"
      }
     },
     "b976c5b7be444351a88d76fc596bab4c": {
      "model_module": "@jupyter-widgets/controls",
      "model_module_version": "1.5.0",
      "model_name": "TextModel",
      "state": {
       "description": "Free ERT metadata to add",
       "layout": "IPY_MODEL_71c220562f314e3192f72c9a6510d49a",
       "style": "IPY_MODEL_efc6a4f543f34388a671cc030112e698"
      }
     },
     "b9778499878c4fc1ad379d56e89b3d8b": {
      "model_module": "@jupyter-widgets/controls",
      "model_module_version": "1.5.0",
      "model_name": "HTMLModel",
      "state": {
       "layout": "IPY_MODEL_49d391320d97423b9c1756247fa5c748",
       "style": "IPY_MODEL_8e774885bd0b4e3385e965d219938d71",
       "value": "<pre>{\n    &quot;method&quot;: &quot;Geoelectrical - ERT&quot;,\n    &quot;measurement_type&quot;: &quot;laboratory&quot;,\n    &quot;elec_seq&quot;: &quot;WS&quot;\n}</pre>"
      }
     },
     "b9c376e277184f7887e6e72cf47617e4": {
      "model_module": "@jupyter-widgets/controls",
      "model_module_version": "1.5.0",
      "model_name": "TextModel",
      "state": {
       "description": "Height of the instrument above the ground [m]:",
       "layout": "IPY_MODEL_e93d6a55cd97465794826daa3e525d1f",
       "style": "IPY_MODEL_31bf64871c39466a8e53bbe0a72e1c11"
      }
     },
     "bd7630fda80b46b7ad200566eaca2ac4": {
      "model_module": "@jupyter-widgets/controls",
      "model_module_version": "1.5.0",
      "model_name": "TextModel",
      "state": {
       "description": "Free quality metadata to add",
       "layout": "IPY_MODEL_61994cc5bfda449699537ca951385085",
       "style": "IPY_MODEL_57ca106f0c8a4cc79eff29f8de8394fd"
      }
     },
     "bf10799bab4746a7a66781e44163e4a6": {
      "model_module": "@jupyter-widgets/base",
      "model_module_version": "1.2.0",
      "model_name": "LayoutModel",
      "state": {}
     },
     "bf350ede2ad442668abfcb5a50623a28": {
      "model_module": "@jupyter-widgets/base",
      "model_module_version": "1.2.0",
      "model_name": "LayoutModel",
      "state": {}
     },
     "c006f7e56e5e42508039cd063389f25a": {
      "model_module": "@jupyter-widgets/controls",
      "model_module_version": "1.5.0",
      "model_name": "DescriptionStyleModel",
      "state": {
       "description_width": "initial"
      }
     },
     "c08c80e5324045069dd223f3ec82b2f2": {
      "model_module": "@jupyter-widgets/controls",
      "model_module_version": "1.5.0",
      "model_name": "AccordionModel",
      "state": {
       "_titles": {
        "0": "Owner",
        "1": "General Survey description"
       },
       "children": [
        "IPY_MODEL_029dab702a1b41be9b98393c7468652e",
        "IPY_MODEL_cff07d2e689e4a7080e63d6622b03ce4"
       ],
       "layout": "IPY_MODEL_4e9f5a7f149b415385bdd1be4fd8c643"
      }
     },
     "c19be37cabd243a980a424c4036d8d48": {
      "model_module": "@jupyter-widgets/controls",
      "model_module_version": "1.5.0",
      "model_name": "RadioButtonsModel",
      "state": {
       "_options_labels": [
        "Geoelectrical - ERT",
        "Geoelectrical - TDIP",
        "Geoelectrical - sEIT",
        "Geoelectrical - SIP/EIS",
        "GPR",
        "EM",
        "Seismic"
       ],
       "description": "Method:",
       "index": 0,
       "layout": "IPY_MODEL_cb0a04ae913447cc9b37a1739d67c08c",
       "style": "IPY_MODEL_b77f525f5d574fc7aebfcb9f0568edfa"
      }
     },
     "c26b56093c3548c4bcfb4725870af0e0": {
      "model_module": "@jupyter-widgets/base",
      "model_module_version": "1.2.0",
      "model_name": "LayoutModel",
      "state": {}
     },
     "c301423be88c41b5a3d48a6194ddd892": {
      "model_module": "@jupyter-widgets/controls",
      "model_module_version": "1.5.0",
      "model_name": "VBoxModel",
      "state": {
       "children": [
        "IPY_MODEL_347e7abfcc4d481b9ca3c57a2ced7fe5"
       ],
       "layout": "IPY_MODEL_23804974202a4ca3950a6730fbb45ce3"
      }
     },
     "c309822b4c034ac0ac659655c1387a4f": {
      "model_module": "@jupyter-widgets/base",
      "model_module_version": "1.2.0",
      "model_name": "LayoutModel",
      "state": {}
     },
     "c3154c2189a145c9b9d41280cf46d09b": {
      "model_module": "@jupyter-widgets/controls",
      "model_module_version": "1.5.0",
      "model_name": "VBoxModel",
      "state": {
       "children": [
        "IPY_MODEL_13900315a2ce4e46a24f1aa26a1ce4d2"
       ],
       "layout": "IPY_MODEL_28f6b8f176f748d2b1b9d34dc27328cf"
      }
     },
     "c56c7860573e4182b472628477a4da9c": {
      "model_module": "@jupyter-widgets/controls",
      "model_module_version": "1.5.0",
      "model_name": "TextModel",
      "state": {
       "description": "Short title description of the dataset",
       "layout": "IPY_MODEL_de222c5ed804419a86fbffa52ab36fd4",
       "style": "IPY_MODEL_c006f7e56e5e42508039cd063389f25a"
      }
     },
     "c58ed942087a420788406ec37846b542": {
      "model_module": "@jupyter-widgets/controls",
      "model_module_version": "1.5.0",
      "model_name": "DescriptionStyleModel",
      "state": {
       "description_width": "initial"
      }
     },
     "c706a8c9319f4599982201cd79d0ea51": {
      "model_module": "@jupyter-widgets/controls",
      "model_module_version": "1.5.0",
      "model_name": "VBoxModel",
      "state": {
       "children": [
        "IPY_MODEL_e83f38e91c5049e783cca873401edcf7"
       ],
       "layout": "IPY_MODEL_dd9b1b6e16b646fca4d10231941a18b1"
      }
     },
     "c896db8c050f4735ae45d651dd09d33e": {
      "model_module": "@jupyter-widgets/controls",
      "model_module_version": "1.5.0",
      "model_name": "VBoxModel",
      "state": {
       "children": [
        "IPY_MODEL_4994a858a2e14b87b16a5c6fc4012ea3",
        "IPY_MODEL_e9a0a54f40054b1588b6e6e7f53c2045",
        "IPY_MODEL_75b6ab88f10b4f0b883cf20f685dad02"
       ],
       "layout": "IPY_MODEL_82dd32f36cca4b4b8783082011445ab7"
      }
     },
     "c9b873d69c56408687da7d14d0e1fd8c": {
      "model_module": "@jupyter-widgets/controls",
      "model_module_version": "1.5.0",
      "model_name": "TextModel",
      "state": {
       "description": "Peer reviewer contact:",
       "layout": "IPY_MODEL_f83662c2c5e843abbe09177a8ac869dc",
       "style": "IPY_MODEL_accf08f0f64940a7924b635637e8088c"
      }
     },
     "c9fdadbbc529457f8a3e6da94eb2c233": {
      "model_module": "@jupyter-widgets/base",
      "model_module_version": "1.2.0",
      "model_name": "LayoutModel",
      "state": {}
     },
     "ca3a145333bf43ecbb7fb294dabfee4f": {
      "model_module": "@jupyter-widgets/base",
      "model_module_version": "1.2.0",
      "model_name": "LayoutModel",
      "state": {}
     },
     "ca7208decd824662adaad521042995d8": {
      "model_module": "@jupyter-widgets/controls",
      "model_module_version": "1.5.0",
      "model_name": "HTMLModel",
      "state": {
       "layout": "IPY_MODEL_ee1135a0c9af4172b4baae4cac9897b3",
       "style": "IPY_MODEL_6ae7b58205d74ecb93874bdb8bda9ddc",
       "value": "\n            <h3> Dataset structure </h3>\n            <hr style=\"height:1px;border-width:0;color:black;background-color:gray\">\n            Please refer to the <a href=\"https://agrogeophy.github.io/datasets/data-management.html#workflow-for-preparing-dataset\">online guidelines to structure a dataset </a>      \n             "
      }
     },
     "ca8a70bd2bcf45f78e9ace5648c7690e": {
      "model_module": "@jupyter-widgets/controls",
      "model_module_version": "1.5.0",
      "model_name": "DescriptionStyleModel",
      "state": {
       "description_width": "initial"
      }
     },
     "ca8ff4dc726a4e7da4f3e7107f162535": {
      "model_module": "@jupyter-widgets/controls",
      "model_module_version": "1.5.0",
      "model_name": "HTMLModel",
      "state": {
       "layout": "IPY_MODEL_927646e85f7d41ab94f68b5e132a7efb",
       "style": "IPY_MODEL_daeba4b7c6b84de996fc2f4e9344d204",
       "value": "<h2>Data Manager and Metadata Collector for CGAGS - DEV version <h2/>"
      }
     },
     "cb0a04ae913447cc9b37a1739d67c08c": {
      "model_module": "@jupyter-widgets/base",
      "model_module_version": "1.2.0",
      "model_name": "LayoutModel",
      "state": {}
     },
     "cb66a996966940a49f9b7e259c7b1791": {
      "model_module": "@jupyter-widgets/controls",
      "model_module_version": "1.5.0",
      "model_name": "VBoxModel",
      "state": {
       "children": [
        "IPY_MODEL_d86d863897a04874af6a4d2b1b03f8c5",
        "IPY_MODEL_a54b2719cdda40d9a285cbd8de758a79",
        "IPY_MODEL_5a90e673b94f4e55a67c8ff3bfe23e41",
        "IPY_MODEL_6c5fc4de7c5a4d978babcec52549b322",
        "IPY_MODEL_861a568054614eaf951d9b296c4e35d7",
        "IPY_MODEL_82e32a4889464feca211e5778fe2cb6f",
        "IPY_MODEL_cfc975ad2a0f44f0a4d6c97ee911ba00"
       ],
       "layout": "IPY_MODEL_8e777620a26e4b988e45d0218882672b"
      }
     },
     "cb6ef749d101426bb9bf87809a31d051": {
      "model_module": "@jupyter-widgets/base",
      "model_module_version": "1.2.0",
      "model_name": "LayoutModel",
      "state": {}
     },
     "cb7c3f3f86f14b8da0fbaaf61b829289": {
      "model_module": "@jupyter-widgets/base",
      "model_module_version": "1.2.0",
      "model_name": "LayoutModel",
      "state": {}
     },
     "ccc8a4cbbb894091970de22a9816ada5": {
      "model_module": "@jupyter-widgets/base",
      "model_module_version": "1.2.0",
      "model_name": "LayoutModel",
      "state": {}
     },
     "cd1d9fc2a57148a48a9458e69107a6d5": {
      "model_module": "@jupyter-widgets/base",
      "model_module_version": "1.2.0",
      "model_name": "LayoutModel",
      "state": {}
     },
     "cd8b5ad2c2844dbbb31cce4ddeb61400": {
      "model_module": "@jupyter-widgets/controls",
      "model_module_version": "1.5.0",
      "model_name": "TextModel",
      "state": {
       "description": "Free sampling metadata to add",
       "layout": "IPY_MODEL_61d42487a76e495d96287380b6a5a93c",
       "style": "IPY_MODEL_eeb25461fb8e458c8e66063127094043"
      }
     },
     "ce4827467df4401280c7a580db32eee5": {
      "model_module": "@jupyter-widgets/controls",
      "model_module_version": "1.5.0",
      "model_name": "VBoxModel",
      "state": {
       "children": [
        "IPY_MODEL_e72ce206b04c4e12a978ad2c62527b87",
        "IPY_MODEL_cd8b5ad2c2844dbbb31cce4ddeb61400"
       ],
       "layout": "IPY_MODEL_64b09fa996a6430e8a86d4153a828c41"
      }
     },
     "cf1b8dda26ae47bea1df80805452d437": {
      "model_module": "@jupyter-widgets/controls",
      "model_module_version": "1.5.0",
      "model_name": "RadioButtonsModel",
      "state": {
       "_options_labels": [
        "Wenner",
        "WS",
        "user defined"
       ],
       "description": "Electrode sequence:",
       "index": 0,
       "layout": "IPY_MODEL_45439b5279e345c1ac0aa0d51d8f9e56",
       "style": "IPY_MODEL_d6cbd21cfd1c428db992cebb03cce031"
      }
     },
     "cfc975ad2a0f44f0a4d6c97ee911ba00": {
      "model_module": "@jupyter-widgets/controls",
      "model_module_version": "1.5.0",
      "model_name": "TextModel",
      "state": {
       "description": "Free quality metadata to add",
       "layout": "IPY_MODEL_048db7f149be44a38167ed3d24a4c789",
       "style": "IPY_MODEL_3838635f264b4940b9bf2e726b484f8f"
      }
     },
     "cff07d2e689e4a7080e63d6622b03ce4": {
      "model_module": "@jupyter-widgets/controls",
      "model_module_version": "1.5.0",
      "model_name": "VBoxModel",
      "state": {
       "children": [
        "IPY_MODEL_a9349eb31f6a4207b93cb0a72dccf603",
        "IPY_MODEL_c19be37cabd243a980a424c4036d8d48",
        "IPY_MODEL_22d75bc4cf0c4c96a856e8dc9056c3e8",
        "IPY_MODEL_46a34779160a424e808d51cfff79296c",
        "IPY_MODEL_6ec574048d3744d498fd131396e6f291",
        "IPY_MODEL_35759e71d02746bcb2ce28e106fe7329"
       ],
       "layout": "IPY_MODEL_583fe2839b1147748625c96caf810547"
      }
     },
     "d1d8ac98fc87469f9a64d9f8c060b016": {
      "model_module": "@jupyter-widgets/base",
      "model_module_version": "1.2.0",
      "model_name": "LayoutModel",
      "state": {}
     },
     "d1dbcf76828b42d28ac9bdd937da6087": {
      "model_module": "@jupyter-widgets/controls",
      "model_module_version": "1.5.0",
      "model_name": "RadioButtonsModel",
      "state": {
       "_options_labels": [
        "1D",
        "2D",
        "3D"
       ],
       "description": "Electrode configuration:",
       "index": 0,
       "layout": "IPY_MODEL_7928646f188d41f29545bd94f59c53ed",
       "style": "IPY_MODEL_82568f058d0646fe8dc0ef5dc1035825"
      }
     },
     "d2fb9b0e841c4d8b8a7d3c97519f7285": {
      "model_module": "@jupyter-widgets/base",
      "model_module_version": "1.2.0",
      "model_name": "LayoutModel",
      "state": {}
     },
     "d343554d0cb64fdbaa352df9c456e3e7": {
      "model_module": "@jupyter-widgets/base",
      "model_module_version": "1.2.0",
      "model_name": "LayoutModel",
      "state": {}
     },
     "d4e0a93930d6418485343a274aaf1e67": {
      "model_module": "@jupyter-widgets/base",
      "model_module_version": "1.2.0",
      "model_name": "LayoutModel",
      "state": {}
     },
     "d4fe2d77ff704b6f911592d8577e3bc1": {
      "model_module": "@jupyter-widgets/controls",
      "model_module_version": "1.5.0",
      "model_name": "DescriptionStyleModel",
      "state": {
       "description_width": ""
      }
     },
     "d6cbd21cfd1c428db992cebb03cce031": {
      "model_module": "@jupyter-widgets/controls",
      "model_module_version": "1.5.0",
      "model_name": "DescriptionStyleModel",
      "state": {
       "description_width": "initial"
      }
     },
     "d86d863897a04874af6a4d2b1b03f8c5": {
      "model_module": "@jupyter-widgets/controls",
      "model_module_version": "1.5.0",
      "model_name": "VBoxModel",
      "state": {
       "children": [
        "IPY_MODEL_86be1b7320b148469da3a6cf163359c4"
       ],
       "layout": "IPY_MODEL_e75a55b169d946e7b9cd74647dd59abb"
      }
     },
     "d96b87629f8e4b89812a8e6b1069b3be": {
      "model_module": "@jupyter-widgets/base",
      "model_module_version": "1.2.0",
      "model_name": "LayoutModel",
      "state": {}
     },
     "daeba4b7c6b84de996fc2f4e9344d204": {
      "model_module": "@jupyter-widgets/controls",
      "model_module_version": "1.5.0",
      "model_name": "DescriptionStyleModel",
      "state": {
       "description_width": ""
      }
     },
     "dbad154bd5c24a51a907999be4425d62": {
      "model_module": "@jupyter-widgets/controls",
      "model_module_version": "1.5.0",
      "model_name": "HTMLModel",
      "state": {
       "layout": "IPY_MODEL_34d5c27d96c144c196b5ba5e1d243aa6",
       "style": "IPY_MODEL_277b99d6af754445b59b4ca0841506d7",
       "value": "<h2>Data Manager and Metadata Collector for CGAGS - DEV version <h2/>"
      }
     },
     "dbd1120368144be093a34e8eff4b4502": {
      "model_module": "@jupyter-widgets/controls",
      "model_module_version": "1.5.0",
      "model_name": "DescriptionStyleModel",
      "state": {
       "description_width": "initial"
      }
     },
     "dbfadd314710404bbb1d84bc6d4891c5": {
      "model_module": "@jupyter-widgets/base",
      "model_module_version": "1.2.0",
      "model_name": "LayoutModel",
      "state": {}
     },
     "dc7fee709f6b4a9a927c69d855fd141f": {
      "model_module": "@jupyter-widgets/controls",
      "model_module_version": "1.5.0",
      "model_name": "TextModel",
      "state": {
       "description": "Owner:",
       "layout": "IPY_MODEL_3c7cf13be7c04f1ea95f7cd9c957a1c3",
       "style": "IPY_MODEL_7e2dfaa1c0ea49918ea759114d878314"
      }
     },
     "dcc160b7759146198b4824687be60ad0": {
      "model_module": "@jupyter-widgets/controls",
      "model_module_version": "1.5.0",
      "model_name": "DescriptionStyleModel",
      "state": {
       "description_width": "initial"
      }
     },
     "dd9b1b6e16b646fca4d10231941a18b1": {
      "model_module": "@jupyter-widgets/base",
      "model_module_version": "1.2.0",
      "model_name": "LayoutModel",
      "state": {}
     },
     "de222c5ed804419a86fbffa52ab36fd4": {
      "model_module": "@jupyter-widgets/base",
      "model_module_version": "1.2.0",
      "model_name": "LayoutModel",
      "state": {}
     },
     "de2e9cc9b88641678f3e8be3f9fb6cb1": {
      "model_module": "@jupyter-widgets/controls",
      "model_module_version": "1.5.0",
      "model_name": "RadioButtonsModel",
      "state": {
       "_options_labels": [
        "Laboratory Measurement",
        "Field Measurement"
       ],
       "description": "Measurement type:",
       "index": 0,
       "layout": "IPY_MODEL_678f3b6097ba42bcbab5384f523795d0",
       "style": "IPY_MODEL_96d473bd38e74400a60d6af07248ef11"
      }
     },
     "def0e5614f4f425993387ce019bb0ae1": {
      "model_module": "@jupyter-widgets/controls",
      "model_module_version": "1.5.0",
      "model_name": "VBoxModel",
      "state": {
       "children": [
        "IPY_MODEL_dbad154bd5c24a51a907999be4425d62",
        "IPY_MODEL_9ecd574599264398ab1669fe3b7c71ba"
       ],
       "layout": "IPY_MODEL_9e55f53c82c9436889cc4a916ddbab07"
      }
     },
     "dfbdcd9e54c143aaa6646e2c770c8a28": {
      "model_module": "@jupyter-widgets/controls",
      "model_module_version": "1.5.0",
      "model_name": "TextModel",
      "state": {
       "description": "Owner:",
       "layout": "IPY_MODEL_a618dbf082eb4713a357d6c5edf31534",
       "style": "IPY_MODEL_ae9b5a1dc396440a819bf824ae1d561a"
      }
     },
     "dfbe069b5fee4130af4755c8413242cd": {
      "model_module": "@jupyter-widgets/base",
      "model_module_version": "1.2.0",
      "model_name": "LayoutModel",
      "state": {}
     },
     "e2953d39b5d548d49be761fb10262f46": {
      "model_module": "@jupyter-widgets/controls",
      "model_module_version": "1.5.0",
      "model_name": "VBoxModel",
      "state": {
       "children": [
        "IPY_MODEL_5f9005f1cebd47fcba75d85480af54bc",
        "IPY_MODEL_c08c80e5324045069dd223f3ec82b2f2"
       ],
       "layout": "IPY_MODEL_5f99c0c1217c46afad7ec6603995a275"
      }
     },
     "e3b6516c0aad4694b4c76360b3912214": {
      "model_module": "@jupyter-widgets/base",
      "model_module_version": "1.2.0",
      "model_name": "LayoutModel",
      "state": {}
     },
     "e3fe5bf775e844f49dbd84e5c588ae6c": {
      "model_module": "@jupyter-widgets/controls",
      "model_module_version": "1.5.0",
      "model_name": "HTMLModel",
      "state": {
       "layout": "IPY_MODEL_d4e0a93930d6418485343a274aaf1e67",
       "style": "IPY_MODEL_1f81aae76d1d4ea282ce158d6d7d0a79",
       "value": "\n            This gui is designed to help with the initial preparation of one\n            geophysical dataset metadata. In order to make the dataset FAIR, simple metadata descriptors must be filled. \n            if you require additionnal dataset, please let us know by opening an issue <a href=\"https://github.com/agrogeophy/geometadp\" target=\"_blank\">on github </a>\n            Note that this is a lightened version of the metadata manager as the full version must be run locally to interact with files. See github for <a href=\"https://github.com/agrogeophy/geometadp\" target=\"_blank\">more informations.</a> \n            "
      }
     },
     "e4822503cc314e448449c4dfb7584084": {
      "model_module": "@jupyter-widgets/base",
      "model_module_version": "1.2.0",
      "model_name": "LayoutModel",
      "state": {}
     },
     "e548cd55c2a94f74902dee510372e948": {
      "model_module": "@jupyter-widgets/base",
      "model_module_version": "1.2.0",
      "model_name": "LayoutModel",
      "state": {}
     },
     "e71bee2202c54f1a9adec648b21b7941": {
      "model_module": "@jupyter-widgets/base",
      "model_module_version": "1.2.0",
      "model_name": "LayoutModel",
      "state": {}
     },
     "e72ce206b04c4e12a978ad2c62527b87": {
      "model_module": "@jupyter-widgets/controls",
      "model_module_version": "1.5.0",
      "model_name": "VBoxModel",
      "state": {
       "children": [
        "IPY_MODEL_25ed7dabb764479da717b7f10301aefc"
       ],
       "layout": "IPY_MODEL_b552406d17d347ca9854300a00102c1e"
      }
     },
     "e75a55b169d946e7b9cd74647dd59abb": {
      "model_module": "@jupyter-widgets/base",
      "model_module_version": "1.2.0",
      "model_name": "LayoutModel",
      "state": {}
     },
     "e7c09cfbc3564e1bb014bc9354f3fb1f": {
      "model_module": "@jupyter-widgets/controls",
      "model_module_version": "1.5.0",
      "model_name": "TextModel",
      "state": {
       "description": "Reporting authors names",
       "layout": "IPY_MODEL_5939773e48334dd2803d26432c7605c2",
       "style": "IPY_MODEL_57dbc66f43a74aec8d4cf7ed50d6cd98"
      }
     },
     "e83f38e91c5049e783cca873401edcf7": {
      "model_module": "@jupyter-widgets/controls",
      "model_module_version": "1.5.0",
      "model_name": "HTMLModel",
      "state": {
       "layout": "IPY_MODEL_f3839e9b76e94bd6accefac9d6e90a65",
       "style": "IPY_MODEL_9c46dfa5a23d4f8ab7a8755c8ecb8a78",
       "value": "\n            <h3> EM metadata </h3>\n            <hr style=\"height:1px;border-width:0;color:black;background-color:gray\">\n            Please refer to the <a href=\"https://agrogeophy.github.io/catalog/schema_documentation.html#table-em-metadata\">online EM metadata documentation </a>\n             "
      }
     },
     "e93d6a55cd97465794826daa3e525d1f": {
      "model_module": "@jupyter-widgets/base",
      "model_module_version": "1.2.0",
      "model_name": "LayoutModel",
      "state": {}
     },
     "e9a0a54f40054b1588b6e6e7f53c2045": {
      "model_module": "@jupyter-widgets/controls",
      "model_module_version": "1.5.0",
      "model_name": "RadioButtonsModel",
      "state": {
       "_options_labels": [
        "JSON",
        "XML"
       ],
       "description": "Export type:",
       "index": 0,
       "layout": "IPY_MODEL_fe438e8919334dd7b4d4bb8eb66ef129",
       "style": "IPY_MODEL_2df2d7a2992b430ab1c3acd7b9511e9a"
      }
     },
     "e9afa25b4f714362a788afdc64e52c63": {
      "model_module": "@jupyter-widgets/controls",
      "model_module_version": "1.5.0",
      "model_name": "VBoxModel",
      "state": {
       "children": [
        "IPY_MODEL_7bd16e29675047c684705d22afce3b49"
       ],
       "layout": "IPY_MODEL_3393ab2d65104f6cbe7af59830cf1d9e"
      }
     },
     "ea624f96b4a04f2bb62d86f68d262f26": {
      "model_module": "@jupyter-widgets/base",
      "model_module_version": "1.2.0",
      "model_name": "LayoutModel",
      "state": {}
     },
     "ec92925ef5184482ada5eeb36d0d5f57": {
      "model_module": "@jupyter-widgets/controls",
      "model_module_version": "1.5.0",
      "model_name": "VBoxModel",
      "state": {
       "children": [
        "IPY_MODEL_c3154c2189a145c9b9d41280cf46d09b",
        "IPY_MODEL_07aa5b9b44604c75b25f01fdbb182cfa",
        "IPY_MODEL_b9c376e277184f7887e6e72cf47617e4",
        "IPY_MODEL_912fb0e2e9ec442fbf770a438851d744",
        "IPY_MODEL_5d740767120d483685f92a805fa6116b"
       ],
       "layout": "IPY_MODEL_471542eba9ab4bdc8d0d52f6d9b042ae"
      }
     },
     "ee1135a0c9af4172b4baae4cac9897b3": {
      "model_module": "@jupyter-widgets/base",
      "model_module_version": "1.2.0",
      "model_name": "LayoutModel",
      "state": {}
     },
     "eeb25461fb8e458c8e66063127094043": {
      "model_module": "@jupyter-widgets/controls",
      "model_module_version": "1.5.0",
      "model_name": "DescriptionStyleModel",
      "state": {
       "description_width": "initial"
      }
     },
     "efc6a4f543f34388a671cc030112e698": {
      "model_module": "@jupyter-widgets/controls",
      "model_module_version": "1.5.0",
      "model_name": "DescriptionStyleModel",
      "state": {
       "description_width": "initial"
      }
     },
     "f12b0cf596f940da8a68428f2c461bcd": {
      "model_module": "@jupyter-widgets/controls",
      "model_module_version": "1.5.0",
      "model_name": "DescriptionStyleModel",
      "state": {
       "description_width": "initial"
      }
     },
     "f138654e9f3240e58bddb97281fdc993": {
      "model_module": "@jupyter-widgets/controls",
      "model_module_version": "1.5.0",
      "model_name": "VBoxModel",
      "state": {
       "children": [
        "IPY_MODEL_5f2f80bda850431296040a3f03e7730f"
       ],
       "layout": "IPY_MODEL_c9fdadbbc529457f8a3e6da94eb2c233"
      }
     },
     "f22d39fbec074ecca2a6e38b1613c52a": {
      "model_module": "@jupyter-widgets/controls",
      "model_module_version": "1.5.0",
      "model_name": "DescriptionStyleModel",
      "state": {
       "description_width": "initial"
      }
     },
     "f237ed6fd17d412094f31bde15e8bd05": {
      "model_module": "@jupyter-widgets/controls",
      "model_module_version": "1.5.0",
      "model_name": "TextModel",
      "state": {
       "description": "Comparison ref data:",
       "layout": "IPY_MODEL_d96b87629f8e4b89812a8e6b1069b3be",
       "style": "IPY_MODEL_ca8a70bd2bcf45f78e9ace5648c7690e"
      }
     },
     "f257df159c57474eae4b1d7b633c51f2": {
      "model_module": "@jupyter-widgets/controls",
      "model_module_version": "1.5.0",
      "model_name": "TextModel",
      "state": {
       "description": "Height of the instrument above the ground [m]:",
       "layout": "IPY_MODEL_5d318f5fef79431691a0d98d4cfd105b",
       "style": "IPY_MODEL_60ba0040b6484e2d817a1d53787efc1e"
      }
     },
     "f270555d2c5142d69244d4997e91c813": {
      "model_module": "@jupyter-widgets/base",
      "model_module_version": "1.2.0",
      "model_name": "LayoutModel",
      "state": {}
     },
     "f307b2f19a734ff3bbb6f498dcb0317f": {
      "model_module": "@jupyter-widgets/base",
      "model_module_version": "1.2.0",
      "model_name": "LayoutModel",
      "state": {}
     },
     "f3839e9b76e94bd6accefac9d6e90a65": {
      "model_module": "@jupyter-widgets/base",
      "model_module_version": "1.2.0",
      "model_name": "LayoutModel",
      "state": {}
     },
     "f3b0cd1777ce48cda84dcd536c1a79fa": {
      "model_module": "@jupyter-widgets/controls",
      "model_module_version": "1.5.0",
      "model_name": "HTMLModel",
      "state": {
       "layout": "IPY_MODEL_bf10799bab4746a7a66781e44163e4a6",
       "style": "IPY_MODEL_3c09f4b0aefe4bd4bf2bf25c310e0dad",
       "value": "\n            <h3> Sampling metadata </h3>\n            <hr style=\"height:1px;border-width:0;color:black;background-color:gray\">\n            Please refer to the <a href=\"https://agrogeophy.github.io/catalog/schema_documentation.html#table-sampling\">online sampling metadata documentation </a>      \n             "
      }
     },
     "f3e3d15cfc8642e59c00ce4f8f9ae3ee": {
      "model_module": "@jupyter-widgets/controls",
      "model_module_version": "1.5.0",
      "model_name": "TabModel",
      "state": {
       "_titles": {
        "0": "Home",
        "1": "ERT",
        "2": "EM",
        "3": "Quality",
        "4": "Sampling",
        "5": "Export"
       },
       "children": [
        "IPY_MODEL_e2953d39b5d548d49be761fb10262f46",
        "IPY_MODEL_aa71d09d70a8488a97490992a8a3d51b",
        "IPY_MODEL_8921dd2c0ba446c98d2caf5d020cef05",
        "IPY_MODEL_ad58acb6f33b4eeca98dc4325013caab",
        "IPY_MODEL_ce4827467df4401280c7a580db32eee5",
        "IPY_MODEL_f5a7f54f2f484c7dac642d5fb14b38f2"
       ],
       "layout": "IPY_MODEL_039c99252db84c79aeb50ce1f3245578"
      }
     },
     "f5a7f54f2f484c7dac642d5fb14b38f2": {
      "model_module": "@jupyter-widgets/controls",
      "model_module_version": "1.5.0",
      "model_name": "VBoxModel",
      "state": {
       "children": [
        "IPY_MODEL_c896db8c050f4735ae45d651dd09d33e"
       ],
       "layout": "IPY_MODEL_dbfadd314710404bbb1d84bc6d4891c5"
      }
     },
     "f73c47aed80744c8bef33255dd0ed510": {
      "model_module": "@jupyter-widgets/controls",
      "model_module_version": "1.5.0",
      "model_name": "DescriptionStyleModel",
      "state": {
       "description_width": ""
      }
     },
     "f744e6a6464849ce9c7484fbc025ac89": {
      "model_module": "@jupyter-widgets/controls",
      "model_module_version": "1.5.0",
      "model_name": "TextModel",
      "state": {
       "description": "ref data:",
       "layout": "IPY_MODEL_4953ecf1d03b445e88b7ac2a8a472af8",
       "style": "IPY_MODEL_8a4e58141ae7469bbd17784537da6850"
      }
     },
     "f83662c2c5e843abbe09177a8ac869dc": {
      "model_module": "@jupyter-widgets/base",
      "model_module_version": "1.2.0",
      "model_name": "LayoutModel",
      "state": {}
     },
     "f85721cb7e6b41bd9b60d89bd605cd31": {
      "model_module": "@jupyter-widgets/controls",
      "model_module_version": "1.5.0",
      "model_name": "VBoxModel",
      "state": {
       "children": [
        "IPY_MODEL_5902bd5cd6fa412b9df00ec14c4e531a",
        "IPY_MODEL_0f24b8342c344acda5a0bc6b3f77ee56",
        "IPY_MODEL_b9778499878c4fc1ad379d56e89b3d8b"
       ],
       "layout": "IPY_MODEL_7e0ad08e677b4d30a123597738557b60"
      }
     },
     "f9b04fc46a5349f08711f1df3495b0bd": {
      "model_module": "@jupyter-widgets/base",
      "model_module_version": "1.2.0",
      "model_name": "LayoutModel",
      "state": {}
     },
     "f9ce72175fc04ba59593d953c83d1268": {
      "model_module": "@jupyter-widgets/controls",
      "model_module_version": "1.5.0",
      "model_name": "AccordionModel",
      "state": {
       "_titles": {
        "0": "Owner",
        "1": "General Survey description"
       },
       "children": [
        "IPY_MODEL_7840131df59c42e080c6d4bcdbd4085d",
        "IPY_MODEL_2b7deaec38dc41a897c986365ec3e1b8"
       ],
       "layout": "IPY_MODEL_59ce065d6abd47428fc312368eadd0d3"
      }
     },
     "fd0e3207f6744f339ae1498ea5f7e61d": {
      "model_module": "@jupyter-widgets/base",
      "model_module_version": "1.2.0",
      "model_name": "LayoutModel",
      "state": {}
     },
     "fe438e8919334dd7b4d4bb8eb66ef129": {
      "model_module": "@jupyter-widgets/base",
      "model_module_version": "1.2.0",
      "model_name": "LayoutModel",
      "state": {}
     }
    },
    "version_major": 2,
    "version_minor": 0
   }
  }
 },
 "nbformat": 4,
 "nbformat_minor": 5
}
