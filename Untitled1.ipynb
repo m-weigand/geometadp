{
 "cells": [
  {
   "cell_type": "code",
   "execution_count": 54,
   "metadata": {},
   "outputs": [
    {
     "data": {
      "application/vnd.jupyter.widget-view+json": {
       "model_id": "2a1fcdd6e72d4f178ddadce3175297c5",
       "version_major": 2,
       "version_minor": 0
      },
      "text/plain": [
       "Output()"
      ]
     },
     "metadata": {},
     "output_type": "display_data"
    }
   ],
   "source": [
    "%matplotlib inline\n",
    "import matplotlib.pyplot as plt\n",
    "import pandas as pd\n",
    "import ipywidgets as widgets\n",
    "import numpy as np\n",
    "\n",
    "\n",
    "button = widgets.Button(description=\"Click Me!\")\n",
    "def on_button_clicked(b):\n",
    "    #print(b)\n",
    "    #with output:\n",
    "    #    print(\"Button clicked.\")\n",
    "    #tab.selected_index = None\n",
    "    #show/hide ?\n",
    "    tab = widgets.Tab(sub_tab)\n",
    "    tab.layout.display = \"none\"\n",
    "    #display(tab)\n",
    "    print(\"Button clicked.\")\n",
    "\n",
    "out = widgets.Output()\n",
    "\n",
    "data1 = pd.DataFrame(np.random.normal(size = 50))\n",
    "data2 = pd.DataFrame(np.random.normal(size = 100))\n",
    "data =[data1,data2]\n",
    "\n",
    "sub_tab=[widgets.Output() for i in range(len(data)+1)]\n",
    "tab = widgets.Tab(sub_tab[0:2])\n",
    "for i in range (len(data)):\n",
    "    tab.set_title(i,\"Tab {}\".format(i+1))\n",
    "    with sub_tab[i]:\n",
    "        if i==0:\n",
    "            display(button)\n",
    "        fig, axes = plt.subplots()\n",
    "        data[i].hist(ax = axes)\n",
    "        plt.show(fig)\n",
    "        \n",
    "button.on_click(on_button_clicked)\n",
    "\n",
    "def showtabsnew(change):\n",
    "    print('showtabsnew')\n",
    "    #tab = widgets.Tab(sub_tab)\n",
    "    #tab = widgets.Tab(sub_tab[0:3])\n",
    "    #display(tab)\n",
    "\n",
    "with out:\n",
    "    display(tab)\n",
    "    \n",
    "out.observe(showtabsnew,'value')\n",
    "\n",
    "display(out)\n",
    "#print(sub_tab)\n",
    "\n"
   ]
  },
  {
   "cell_type": "code",
   "execution_count": 55,
   "metadata": {},
   "outputs": [
    {
     "data": {
      "application/vnd.jupyter.widget-view+json": {
       "model_id": "062edc4ce022494ca28f02ab4005d705",
       "version_major": 2,
       "version_minor": 0
      },
      "text/plain": [
       "VBox(children=(VBox(children=(ToggleButtons(description='Which Option Do You Want?', options=('yes', 'no'), st…"
      ]
     },
     "metadata": {},
     "output_type": "display_data"
    }
   ],
   "source": [
    "from IPython.display import display, HTML\n",
    "import ipywidgets as widgets\n",
    "\n",
    "##\n",
    "## Function to toggle control panel we see\n",
    "##\n",
    "def MS_update(change=None):\n",
    "    \"\"\"\n",
    "    Switch controls to display\n",
    "    \"\"\"\n",
    "    if (MS_selector.value == MS_yes):\n",
    "        # Switch the controls\n",
    "        yes_title.value = '<b>(yes option) I should be visible.</b>'\n",
    "        no_title.value = '<b>(no option) I should be invisible!</b>'\n",
    "        MS_no_controls.layout.visibility = 'hidden'\n",
    "        MS_no_controls.layout.display = 'none'\n",
    "        MS_yes_controls.layout.visibility = 'visible'\n",
    "        MS_yes_controls.layout.display = None\n",
    "    else:\n",
    "        # Switch the controls\n",
    "        yes_title.value = '<b>(yes option) I should be invisible!</b>'\n",
    "        no_title.value = '<b>(no option) I should be visible</b>'\n",
    "        MS_yes_controls.layout.visibility = 'hidden'\n",
    "        MS_yes_controls.layout.display = 'none'    \n",
    "        MS_no_controls.layout.visibility = 'visible'\n",
    "        MS_no_controls.layout.display = None\n",
    "\n",
    "##\n",
    "## Create a toggle control panel for selecting to display one of two Widgets\n",
    "##\n",
    "MS_yes = 'yes'\n",
    "MS_no = 'no'\n",
    "\n",
    "MS_selector = widgets.ToggleButtons(options=[MS_yes, MS_no],\n",
    "                                    value=MS_yes,\n",
    "                                    description='Which Option Do You Want?',\n",
    "                                    style = {'description_width': 'initial'},\n",
    "                                    disabled=False,\n",
    "                                    button_style='')\n",
    "                                    \n",
    "# Creates Both Control Panels\n",
    "yes_title = widgets.HTML('<b>This is the Yes Control Panel</b>', \n",
    "                         layout=widgets.Layout(overflow='visible'))\n",
    "                                    \n",
    "MS_yes_controls = widgets.VBox([MS_selector, yes_title],\n",
    "                            layout=widgets.Layout(overflow='visible', \n",
    "                                                  visibility='hidden', \n",
    "                                                  display='None'))\n",
    "no_title = widgets.HTML(value=\"<b>This is the No Control Panel</b>\", layout=widgets.Layout(overflow='visible'))\n",
    "MS_no_controls = widgets.VBox([MS_selector, no_title],\n",
    "                            layout=widgets.Layout(overflow='visible', \n",
    "                                                  visibility='hidden', \n",
    "                                                  display='None'))\n",
    "\n",
    "# Decide which controls to initially display depending on Main Sequence setting\n",
    "MS_update()\n",
    "\n",
    "Testbox = widgets.VBox([MS_yes_controls, MS_no_controls], \n",
    "                            layout=widgets.Layout(overflow='visible') )\n",
    "display(Testbox)\n",
    "                                    \n",
    "# This control determines if we eassume main sequence or not\n",
    "MS_selector.observe(MS_update, names=['value'])\n"
   ]
  },
  {
   "cell_type": "code",
   "execution_count": 19,
   "metadata": {},
   "outputs": [],
   "source": [
    "button.layout.visibility = \"hidden\"\n",
    "button.layout.visibility = \"visible\"\n"
   ]
  }
 ],
 "metadata": {
  "kernelspec": {
   "display_name": "Python 3",
   "language": "python",
   "name": "python3"
  },
  "language_info": {
   "codemirror_mode": {
    "name": "ipython",
    "version": 3
   },
   "file_extension": ".py",
   "mimetype": "text/x-python",
   "name": "python",
   "nbconvert_exporter": "python",
   "pygments_lexer": "ipython3",
   "version": "3.8.5"
  }
 },
 "nbformat": 4,
 "nbformat_minor": 4
}
