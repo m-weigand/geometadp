{
 "cells": [
  {
   "cell_type": "code",
   "execution_count": 15,
   "metadata": {},
   "outputs": [
    {
     "name": "stdout",
     "output_type": "stream",
     "text": [
      "3259\n"
     ]
    }
   ],
   "source": [
    "a = 144\n",
    "b = 629 # intro\n",
    "c = 794 # school\n",
    "d = 438 # degree\n",
    "e = 600 # model\n",
    "f = 430 # keys \n",
    "g = 224 # concl\n",
    "\n",
    "SU = 0\n",
    "for l in enumerate('abcdefg'):\n",
    "    SU += eval(l[1])\n",
    "\n",
    "print(SU)"
   ]
  }
 ],
 "metadata": {
  "kernelspec": {
   "display_name": "Python 3",
   "language": "python",
   "name": "python3"
  },
  "language_info": {
   "codemirror_mode": {
    "name": "ipython",
    "version": 3
   },
   "file_extension": ".py",
   "mimetype": "text/x-python",
   "name": "python",
   "nbconvert_exporter": "python",
   "pygments_lexer": "ipython3",
   "version": "3.8.5"
  }
 },
 "nbformat": 4,
 "nbformat_minor": 4
}
