{
 "cells": [
  {
   "cell_type": "code",
   "execution_count": 27,
   "metadata": {},
   "outputs": [
    {
     "name": "stdout",
     "output_type": "stream",
     "text": [
      "Tab(children=(VBox(children=(HTML(value='\\n            Welcome\\n            '), Dropdown(description='type of template to import', options=('ER-WC', 'CC model'), value='ER-WC'))),))\n"
     ]
    },
    {
     "data": {
      "application/vnd.jupyter.widget-view+json": {
       "model_id": "216860ceb0504986818923eb66651fb4",
       "version_major": 2,
       "version_minor": 0
      },
      "text/plain": [
       "Tab(children=(VBox(children=(HTML(value='\\n            Welcome\\n            '), Dropdown(description='type of …"
      ]
     },
     "metadata": {},
     "output_type": "display_data"
    }
   ],
   "source": [
    "from ipywidgets import Layout, HBox, VBox, FloatText\n",
    "import ipywidgets as widgets\n",
    "\n",
    "\n",
    "home = widgets.HTML('''\n",
    "            Welcome\n",
    "            ''')\n",
    "\n",
    "choose_template = widgets.Dropdown(\n",
    "    options=['ER-WC', 'CC model'],\n",
    "    description='type of template to import',\n",
    "    disabled=False,\n",
    ")\n",
    "def create_tab(change):\n",
    "    new_tab = widgets.Tab()\n",
    "    home_newtab = widgets.HTML('''\n",
    "            Welcome to the new tab\n",
    "            ''')\n",
    "    box_home_newtab = widgets.VBox([home_newtab])\n",
    "    new_tab.children = [box_home_newtab]\n",
    "      \n",
    "    return new_tab\n",
    "    \n",
    "box_home = widgets.VBox([home,choose_template])\n",
    "tab_main = widgets.Tab()\n",
    "tab_main.children = [box_home]\n",
    "tab_main.titles = ('An accordion', 'Copy of the accordion')\n",
    "\n",
    "choose_template.observe(create_tab,'value')\n",
    "\n",
    "def new_tab(change):\n",
    "    print('new tab')\n",
    "    tab_main = widgets.Tab(children = [box_home, \n",
    "                                       box_home_newtab                                   \n",
    "                                      ])\n",
    "    print(tab_main)\n",
    "\n",
    "tab_main.observe(new_tab,'selected_index')\n",
    "    \n",
    "print(tab_main)\n",
    "tab_main\n",
    "\n"
   ]
  }
 ],
 "metadata": {
  "kernelspec": {
   "display_name": "Python 3",
   "language": "python",
   "name": "python3"
  },
  "language_info": {
   "codemirror_mode": {
    "name": "ipython",
    "version": 3
   },
   "file_extension": ".py",
   "mimetype": "text/x-python",
   "name": "python",
   "nbconvert_exporter": "python",
   "pygments_lexer": "ipython3",
   "version": "3.8.5"
  }
 },
 "nbformat": 4,
 "nbformat_minor": 4
}
